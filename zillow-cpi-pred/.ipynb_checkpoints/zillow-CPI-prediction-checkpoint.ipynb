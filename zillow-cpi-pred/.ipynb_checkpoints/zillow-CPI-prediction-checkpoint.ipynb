{
 "cells": [
  {
   "cell_type": "code",
   "execution_count": 1,
   "id": "ab6ecf75-7200-4781-a930-48a73efd2523",
   "metadata": {},
   "outputs": [],
   "source": [
    "# Initialize Otter"
   ]
  },
  {
   "cell_type": "markdown",
   "id": "3d8df175",
   "metadata": {},
   "source": [
    "# Lab 9: Time Series"
   ]
  },
  {
   "cell_type": "markdown",
   "id": "ee6a8bba",
   "metadata": {},
   "source": [
    "## Introduction\n",
    "In this notebook, we will take a look at time series and their applications in economics.\n",
    "\n",
    "**Learning Objectives:**\n",
    "\n",
    "By the end of this lab, you should: \n",
    "* Feel comfortable with the concept of time series and why they are important\n",
    "* Manipulate time series data with `pandas`\n",
    "* Visualize time series data with `matplotlib`\n",
    "* Model and forecast time series using the `darts` package"
   ]
  },
  {
   "cell_type": "markdown",
   "id": "ac292572",
   "metadata": {},
   "source": [
    "We'll start by loading in the necessary packages. Run the following cell to import our standard packages."
   ]
  },
  {
   "cell_type": "code",
   "execution_count": 2,
   "id": "fb2a7ce5",
   "metadata": {},
   "outputs": [
    {
     "name": "stderr",
     "output_type": "stream",
     "text": [
      "C:\\Users\\am513\\anaconda3\\envs\\python39\\lib\\site-packages\\tqdm\\auto.py:22: TqdmWarning: IProgress not found. Please update jupyter and ipywidgets. See https://ipywidgets.readthedocs.io/en/stable/user_install.html\n",
      "  from .autonotebook import tqdm as notebook_tqdm\n"
     ]
    }
   ],
   "source": [
    "# Just run this cell\n",
    "import pandas as pd\n",
    "import numpy as np\n",
    "import seaborn as sns\n",
    "import matplotlib.pyplot as plt\n",
    "from scipy import stats\n",
    "%matplotlib inline\n",
    "plt.rcParams[\"figure.figsize\"] = (10,3)\n",
    "\n",
    "#! pip install darts --q\n",
    "\n",
    "import darts\n",
    "from darts import TimeSeries\n",
    "from darts.dataprocessing.transformers.scaler import Scaler\n",
    "from darts.models.forecasting.nhits import NHiTSModel\n",
    "from darts.datasets import MonthlyMilkDataset\n",
    "from darts.models.forecasting.auto_arima import AutoARIMA\n",
    "from darts.metrics import mape\n",
    "from darts.datasets import AusBeerDataset, AirPassengersDataset"
   ]
  },
  {
   "cell_type": "markdown",
   "id": "0f2bd736-dcf9-403d-8883-8c604b7ec8b0",
   "metadata": {},
   "source": [
    "## Section 1: Intro to Time Series"
   ]
  },
  {
   "cell_type": "markdown",
   "id": "158f3df5-1846-4da0-98bd-600bae079095",
   "metadata": {},
   "source": [
    "*What are time series?* Time series are a series of data points that are indexed by time. This means that data points are ordered by a time (can be hourly, daily, yearly, etc.) in a continuous, increasing order.\n",
    "\n",
    "Examples of time series include:\n",
    "* Daily temperature\n",
    "* Heart rate\n",
    "* Gross Domestic Product (GDP)\n",
    "\n",
    "All of these examples have continuous and increasing time and provide important information about their respective data. In fact, many economic concepts such as inflation, exchange rates, and unemployment rate are all time series!\n",
    "\n",
    "***\n",
    "\n",
    "*Why are time series important?* Time series analysis allows economists and data scientists to understand possible underlying causes of trends and recognize patterns over time. This allows comparisons across time to be made and forecasts to be predicted. \n",
    "\n",
    "For example:\n",
    "* Looking at trends and patterns in daily temperature could help cities prepare for extreme weather events.\n",
    "* Analyzing heart rate could inform doctors of a possible cause of high or low heart rate.\n",
    "* Predicting GDP a quarter before the official release could allow businesses to better plan production and capacity.\n",
    "***"
   ]
  },
  {
   "cell_type": "markdown",
   "id": "c173644a",
   "metadata": {},
   "source": [
    "Let's take a look at a time series. In this lab, we will be working with Zillow's Zillow Obsered Rent Index or [ZORI](https://www.zillow.com/research/data/). From the Zillow website:\n",
    "> **Zillow Observed Rent Index (ZORI):** A smoothed measure of the typical observed market rate rent across a given region. ZORI is a repeat-rent index that is weighted to the rental housing stock to ensure representativeness across the entire market, not just those homes currently listed for-rent. The index is dollar-denominated by computing the mean of listed rents that fall into the 40th to 60th percentile range for all homes and apartments in a given region, which is once again weighted to reflect the rental housing stock.\n",
    "\n",
    "For more details about how ZORI is calculating and Zillow's methodology, click [here](https://www.zillow.com/research/methodology-zori-repeat-rent-27092/).\n",
    "\n",
    "In summary, the ZORI index contains information about rental prices over time."
   ]
  },
  {
   "cell_type": "markdown",
   "id": "e09b40c4-89d1-4bc0-9e1a-4c824031b8c6",
   "metadata": {},
   "source": [
    "Let's take a look at the ZORI index by first loading the data using `pd.read_csv` method."
   ]
  },
  {
   "cell_type": "code",
   "execution_count": 3,
   "id": "ae8c3f41",
   "metadata": {},
   "outputs": [],
   "source": [
    "zori = pd.read_csv(\"zori1.csv\")"
   ]
  },
  {
   "cell_type": "markdown",
   "id": "bec7bd0f",
   "metadata": {},
   "source": [
    "Run the following cell to display information about the ZORI index."
   ]
  },
  {
   "cell_type": "code",
   "execution_count": 4,
   "id": "6e62e124",
   "metadata": {
    "scrolled": true
   },
   "outputs": [
    {
     "data": {
      "text/html": [
       "<div>\n",
       "<style scoped>\n",
       "    .dataframe tbody tr th:only-of-type {\n",
       "        vertical-align: middle;\n",
       "    }\n",
       "\n",
       "    .dataframe tbody tr th {\n",
       "        vertical-align: top;\n",
       "    }\n",
       "\n",
       "    .dataframe thead th {\n",
       "        text-align: right;\n",
       "    }\n",
       "</style>\n",
       "<table border=\"1\" class=\"dataframe\">\n",
       "  <thead>\n",
       "    <tr style=\"text-align: right;\">\n",
       "      <th></th>\n",
       "      <th>RegionID</th>\n",
       "      <th>SizeRank</th>\n",
       "      <th>RegionName</th>\n",
       "      <th>RegionType</th>\n",
       "      <th>StateName</th>\n",
       "      <th>2015-03-31</th>\n",
       "      <th>2015-04-30</th>\n",
       "      <th>2015-05-31</th>\n",
       "      <th>2015-06-30</th>\n",
       "      <th>2015-07-31</th>\n",
       "      <th>...</th>\n",
       "      <th>2021-12-31</th>\n",
       "      <th>2022-01-31</th>\n",
       "      <th>2022-02-28</th>\n",
       "      <th>2022-03-31</th>\n",
       "      <th>2022-04-30</th>\n",
       "      <th>2022-05-31</th>\n",
       "      <th>2022-06-30</th>\n",
       "      <th>2022-07-31</th>\n",
       "      <th>2022-08-31</th>\n",
       "      <th>2022-09-30</th>\n",
       "    </tr>\n",
       "  </thead>\n",
       "  <tbody>\n",
       "    <tr>\n",
       "      <th>0</th>\n",
       "      <td>102001</td>\n",
       "      <td>0</td>\n",
       "      <td>United States</td>\n",
       "      <td>country</td>\n",
       "      <td>NaN</td>\n",
       "      <td>1370.301806</td>\n",
       "      <td>1381.971304</td>\n",
       "      <td>1392.389090</td>\n",
       "      <td>1403.203509</td>\n",
       "      <td>1408.901384</td>\n",
       "      <td>...</td>\n",
       "      <td>1928.945108</td>\n",
       "      <td>1937.304351</td>\n",
       "      <td>1955.272060</td>\n",
       "      <td>1971.256988</td>\n",
       "      <td>1997.731260</td>\n",
       "      <td>2019.752839</td>\n",
       "      <td>2044.662959</td>\n",
       "      <td>2065.275748</td>\n",
       "      <td>2078.546078</td>\n",
       "      <td>2084.084210</td>\n",
       "    </tr>\n",
       "    <tr>\n",
       "      <th>1</th>\n",
       "      <td>394913</td>\n",
       "      <td>1</td>\n",
       "      <td>New York, NY</td>\n",
       "      <td>msa</td>\n",
       "      <td>NY</td>\n",
       "      <td>2506.196326</td>\n",
       "      <td>2533.311441</td>\n",
       "      <td>2552.989317</td>\n",
       "      <td>2570.501028</td>\n",
       "      <td>2573.663435</td>\n",
       "      <td>...</td>\n",
       "      <td>2957.725252</td>\n",
       "      <td>2984.899451</td>\n",
       "      <td>3032.151836</td>\n",
       "      <td>3082.959790</td>\n",
       "      <td>3142.381057</td>\n",
       "      <td>3201.035347</td>\n",
       "      <td>3258.611614</td>\n",
       "      <td>3308.938574</td>\n",
       "      <td>3327.647323</td>\n",
       "      <td>3321.271717</td>\n",
       "    </tr>\n",
       "    <tr>\n",
       "      <th>2</th>\n",
       "      <td>753899</td>\n",
       "      <td>2</td>\n",
       "      <td>Los Angeles, CA</td>\n",
       "      <td>msa</td>\n",
       "      <td>CA</td>\n",
       "      <td>1977.874325</td>\n",
       "      <td>1990.644815</td>\n",
       "      <td>2004.443160</td>\n",
       "      <td>2016.922137</td>\n",
       "      <td>2031.255505</td>\n",
       "      <td>...</td>\n",
       "      <td>2808.206899</td>\n",
       "      <td>2825.516662</td>\n",
       "      <td>2850.339483</td>\n",
       "      <td>2881.506596</td>\n",
       "      <td>2919.113666</td>\n",
       "      <td>2953.089197</td>\n",
       "      <td>2978.850604</td>\n",
       "      <td>2999.777869</td>\n",
       "      <td>3013.211794</td>\n",
       "      <td>3019.026316</td>\n",
       "    </tr>\n",
       "    <tr>\n",
       "      <th>3</th>\n",
       "      <td>394463</td>\n",
       "      <td>3</td>\n",
       "      <td>Chicago, IL</td>\n",
       "      <td>msa</td>\n",
       "      <td>IL</td>\n",
       "      <td>1478.149264</td>\n",
       "      <td>1490.961012</td>\n",
       "      <td>1502.702134</td>\n",
       "      <td>1528.952557</td>\n",
       "      <td>1535.997197</td>\n",
       "      <td>...</td>\n",
       "      <td>1795.629571</td>\n",
       "      <td>1808.471849</td>\n",
       "      <td>1823.778075</td>\n",
       "      <td>1843.010280</td>\n",
       "      <td>1865.307537</td>\n",
       "      <td>1890.513951</td>\n",
       "      <td>1911.437953</td>\n",
       "      <td>1930.811578</td>\n",
       "      <td>1939.370439</td>\n",
       "      <td>1941.933786</td>\n",
       "    </tr>\n",
       "    <tr>\n",
       "      <th>4</th>\n",
       "      <td>394514</td>\n",
       "      <td>4</td>\n",
       "      <td>Dallas, TX</td>\n",
       "      <td>msa</td>\n",
       "      <td>TX</td>\n",
       "      <td>1180.713035</td>\n",
       "      <td>1191.112125</td>\n",
       "      <td>1202.397600</td>\n",
       "      <td>1209.409429</td>\n",
       "      <td>1216.117716</td>\n",
       "      <td>...</td>\n",
       "      <td>1724.699775</td>\n",
       "      <td>1736.260930</td>\n",
       "      <td>1747.886285</td>\n",
       "      <td>1758.449166</td>\n",
       "      <td>1780.575633</td>\n",
       "      <td>1807.486899</td>\n",
       "      <td>1842.009269</td>\n",
       "      <td>1866.378789</td>\n",
       "      <td>1876.715983</td>\n",
       "      <td>1875.844643</td>\n",
       "    </tr>\n",
       "    <tr>\n",
       "      <th>...</th>\n",
       "      <td>...</td>\n",
       "      <td>...</td>\n",
       "      <td>...</td>\n",
       "      <td>...</td>\n",
       "      <td>...</td>\n",
       "      <td>...</td>\n",
       "      <td>...</td>\n",
       "      <td>...</td>\n",
       "      <td>...</td>\n",
       "      <td>...</td>\n",
       "      <td>...</td>\n",
       "      <td>...</td>\n",
       "      <td>...</td>\n",
       "      <td>...</td>\n",
       "      <td>...</td>\n",
       "      <td>...</td>\n",
       "      <td>...</td>\n",
       "      <td>...</td>\n",
       "      <td>...</td>\n",
       "      <td>...</td>\n",
       "      <td>...</td>\n",
       "    </tr>\n",
       "    <tr>\n",
       "      <th>574</th>\n",
       "      <td>394322</td>\n",
       "      <td>861</td>\n",
       "      <td>Altus, OK</td>\n",
       "      <td>msa</td>\n",
       "      <td>OK</td>\n",
       "      <td>404.816596</td>\n",
       "      <td>NaN</td>\n",
       "      <td>417.170690</td>\n",
       "      <td>NaN</td>\n",
       "      <td>NaN</td>\n",
       "      <td>...</td>\n",
       "      <td>NaN</td>\n",
       "      <td>NaN</td>\n",
       "      <td>NaN</td>\n",
       "      <td>735.821384</td>\n",
       "      <td>732.921061</td>\n",
       "      <td>771.810020</td>\n",
       "      <td>755.232683</td>\n",
       "      <td>810.606473</td>\n",
       "      <td>750.000000</td>\n",
       "      <td>821.649685</td>\n",
       "    </tr>\n",
       "    <tr>\n",
       "      <th>575</th>\n",
       "      <td>394687</td>\n",
       "      <td>869</td>\n",
       "      <td>Hood River, OR</td>\n",
       "      <td>msa</td>\n",
       "      <td>OR</td>\n",
       "      <td>NaN</td>\n",
       "      <td>NaN</td>\n",
       "      <td>NaN</td>\n",
       "      <td>708.148593</td>\n",
       "      <td>NaN</td>\n",
       "      <td>...</td>\n",
       "      <td>NaN</td>\n",
       "      <td>2039.794902</td>\n",
       "      <td>NaN</td>\n",
       "      <td>2061.477514</td>\n",
       "      <td>2053.911628</td>\n",
       "      <td>2293.863629</td>\n",
       "      <td>2446.688466</td>\n",
       "      <td>2573.551207</td>\n",
       "      <td>2575.000000</td>\n",
       "      <td>2617.167354</td>\n",
       "    </tr>\n",
       "    <tr>\n",
       "      <th>576</th>\n",
       "      <td>394718</td>\n",
       "      <td>892</td>\n",
       "      <td>Jamestown, ND</td>\n",
       "      <td>msa</td>\n",
       "      <td>ND</td>\n",
       "      <td>NaN</td>\n",
       "      <td>NaN</td>\n",
       "      <td>NaN</td>\n",
       "      <td>NaN</td>\n",
       "      <td>NaN</td>\n",
       "      <td>...</td>\n",
       "      <td>643.033893</td>\n",
       "      <td>632.188630</td>\n",
       "      <td>NaN</td>\n",
       "      <td>668.388884</td>\n",
       "      <td>715.417127</td>\n",
       "      <td>687.157390</td>\n",
       "      <td>702.818101</td>\n",
       "      <td>729.449277</td>\n",
       "      <td>771.000000</td>\n",
       "      <td>795.646586</td>\n",
       "    </tr>\n",
       "    <tr>\n",
       "      <th>577</th>\n",
       "      <td>394330</td>\n",
       "      <td>906</td>\n",
       "      <td>Andrews, TX</td>\n",
       "      <td>msa</td>\n",
       "      <td>TX</td>\n",
       "      <td>NaN</td>\n",
       "      <td>NaN</td>\n",
       "      <td>480.844237</td>\n",
       "      <td>470.002683</td>\n",
       "      <td>NaN</td>\n",
       "      <td>...</td>\n",
       "      <td>NaN</td>\n",
       "      <td>901.423609</td>\n",
       "      <td>NaN</td>\n",
       "      <td>NaN</td>\n",
       "      <td>NaN</td>\n",
       "      <td>NaN</td>\n",
       "      <td>NaN</td>\n",
       "      <td>NaN</td>\n",
       "      <td>962.000000</td>\n",
       "      <td>1019.826674</td>\n",
       "    </tr>\n",
       "    <tr>\n",
       "      <th>578</th>\n",
       "      <td>394996</td>\n",
       "      <td>907</td>\n",
       "      <td>Portales, NM</td>\n",
       "      <td>msa</td>\n",
       "      <td>NM</td>\n",
       "      <td>517.203126</td>\n",
       "      <td>516.728308</td>\n",
       "      <td>526.970302</td>\n",
       "      <td>529.436634</td>\n",
       "      <td>531.612792</td>\n",
       "      <td>...</td>\n",
       "      <td>NaN</td>\n",
       "      <td>812.564382</td>\n",
       "      <td>816.337611</td>\n",
       "      <td>774.215873</td>\n",
       "      <td>781.403240</td>\n",
       "      <td>778.818450</td>\n",
       "      <td>800.955182</td>\n",
       "      <td>832.421311</td>\n",
       "      <td>850.000000</td>\n",
       "      <td>840.276292</td>\n",
       "    </tr>\n",
       "  </tbody>\n",
       "</table>\n",
       "<p>579 rows × 96 columns</p>\n",
       "</div>"
      ],
      "text/plain": [
       "     RegionID  SizeRank       RegionName RegionType StateName   2015-03-31  \\\n",
       "0      102001         0    United States    country       NaN  1370.301806   \n",
       "1      394913         1     New York, NY        msa        NY  2506.196326   \n",
       "2      753899         2  Los Angeles, CA        msa        CA  1977.874325   \n",
       "3      394463         3      Chicago, IL        msa        IL  1478.149264   \n",
       "4      394514         4       Dallas, TX        msa        TX  1180.713035   \n",
       "..        ...       ...              ...        ...       ...          ...   \n",
       "574    394322       861        Altus, OK        msa        OK   404.816596   \n",
       "575    394687       869   Hood River, OR        msa        OR          NaN   \n",
       "576    394718       892    Jamestown, ND        msa        ND          NaN   \n",
       "577    394330       906      Andrews, TX        msa        TX          NaN   \n",
       "578    394996       907     Portales, NM        msa        NM   517.203126   \n",
       "\n",
       "      2015-04-30   2015-05-31   2015-06-30   2015-07-31  ...   2021-12-31  \\\n",
       "0    1381.971304  1392.389090  1403.203509  1408.901384  ...  1928.945108   \n",
       "1    2533.311441  2552.989317  2570.501028  2573.663435  ...  2957.725252   \n",
       "2    1990.644815  2004.443160  2016.922137  2031.255505  ...  2808.206899   \n",
       "3    1490.961012  1502.702134  1528.952557  1535.997197  ...  1795.629571   \n",
       "4    1191.112125  1202.397600  1209.409429  1216.117716  ...  1724.699775   \n",
       "..           ...          ...          ...          ...  ...          ...   \n",
       "574          NaN   417.170690          NaN          NaN  ...          NaN   \n",
       "575          NaN          NaN   708.148593          NaN  ...          NaN   \n",
       "576          NaN          NaN          NaN          NaN  ...   643.033893   \n",
       "577          NaN   480.844237   470.002683          NaN  ...          NaN   \n",
       "578   516.728308   526.970302   529.436634   531.612792  ...          NaN   \n",
       "\n",
       "      2022-01-31   2022-02-28   2022-03-31   2022-04-30   2022-05-31  \\\n",
       "0    1937.304351  1955.272060  1971.256988  1997.731260  2019.752839   \n",
       "1    2984.899451  3032.151836  3082.959790  3142.381057  3201.035347   \n",
       "2    2825.516662  2850.339483  2881.506596  2919.113666  2953.089197   \n",
       "3    1808.471849  1823.778075  1843.010280  1865.307537  1890.513951   \n",
       "4    1736.260930  1747.886285  1758.449166  1780.575633  1807.486899   \n",
       "..           ...          ...          ...          ...          ...   \n",
       "574          NaN          NaN   735.821384   732.921061   771.810020   \n",
       "575  2039.794902          NaN  2061.477514  2053.911628  2293.863629   \n",
       "576   632.188630          NaN   668.388884   715.417127   687.157390   \n",
       "577   901.423609          NaN          NaN          NaN          NaN   \n",
       "578   812.564382   816.337611   774.215873   781.403240   778.818450   \n",
       "\n",
       "      2022-06-30   2022-07-31   2022-08-31   2022-09-30  \n",
       "0    2044.662959  2065.275748  2078.546078  2084.084210  \n",
       "1    3258.611614  3308.938574  3327.647323  3321.271717  \n",
       "2    2978.850604  2999.777869  3013.211794  3019.026316  \n",
       "3    1911.437953  1930.811578  1939.370439  1941.933786  \n",
       "4    1842.009269  1866.378789  1876.715983  1875.844643  \n",
       "..           ...          ...          ...          ...  \n",
       "574   755.232683   810.606473   750.000000   821.649685  \n",
       "575  2446.688466  2573.551207  2575.000000  2617.167354  \n",
       "576   702.818101   729.449277   771.000000   795.646586  \n",
       "577          NaN          NaN   962.000000  1019.826674  \n",
       "578   800.955182   832.421311   850.000000   840.276292  \n",
       "\n",
       "[579 rows x 96 columns]"
      ]
     },
     "execution_count": 4,
     "metadata": {},
     "output_type": "execute_result"
    }
   ],
   "source": [
    "zori"
   ]
  },
  {
   "cell_type": "markdown",
   "id": "f68b09e2",
   "metadata": {},
   "source": [
    "**Question 1.1:** What information is stored in the ZORI data? What does each row represent?"
   ]
  },
  {
   "cell_type": "markdown",
   "id": "a38f4e14-ebde-4a04-bd2a-31f01714e806",
   "metadata": {},
   "source": [
    "*Type your answer here, replacing this text.*"
   ]
  },
  {
   "cell_type": "markdown",
   "id": "806523c0-fda0-4fa5-be82-3d74261eedd7",
   "metadata": {},
   "source": [
    "Let's see if we can manipulate the data into a format that makes it easy to plot and model."
   ]
  },
  {
   "cell_type": "markdown",
   "id": "2b9d53bc",
   "metadata": {},
   "source": [
    "## Section 2: Time Series EDA"
   ]
  },
  {
   "cell_type": "markdown",
   "id": "3b9f6621",
   "metadata": {},
   "source": [
    "As you saw above, the ZORI index has information at the city level as well as an aggregate value for the entire United States. In this notebook, we'll be focusing on the aggregated US series. Let's select it here."
   ]
  },
  {
   "cell_type": "code",
   "execution_count": 5,
   "id": "002d33cc",
   "metadata": {},
   "outputs": [
    {
     "data": {
      "text/plain": [
       "RegionID             102001\n",
       "SizeRank                  0\n",
       "RegionName    United States\n",
       "RegionType          country\n",
       "StateName               NaN\n",
       "                  ...      \n",
       "2022-04-30       1997.73126\n",
       "2022-05-31      2019.752839\n",
       "2022-06-30      2044.662959\n",
       "2022-07-31      2065.275748\n",
       "2022-08-31      2078.546078\n",
       "Name: 0, Length: 95, dtype: object"
      ]
     },
     "execution_count": 5,
     "metadata": {},
     "output_type": "execute_result"
    }
   ],
   "source": [
    "zUS = zori.iloc[0, :-1]\n",
    "zUS"
   ]
  },
  {
   "cell_type": "markdown",
   "id": "c6e0cf42",
   "metadata": {},
   "source": [
    "We notice that the dates in the timeseries actually start from the 6th entry in the index. If we wanted to create a DataFrame, we would need to find a way to extract this information, in addition to the data stored in the ZORI column."
   ]
  },
  {
   "cell_type": "code",
   "execution_count": 6,
   "id": "a212a031",
   "metadata": {
    "scrolled": true
   },
   "outputs": [],
   "source": [
    "zori_dates = zUS[5:].index\n",
    "zori_data = zUS[5:].to_list()"
   ]
  },
  {
   "cell_type": "markdown",
   "id": "1c11ccb5",
   "metadata": {},
   "source": [
    "We now construct a DataFrame using this information."
   ]
  },
  {
   "cell_type": "code",
   "execution_count": 7,
   "id": "ee84c241",
   "metadata": {
    "scrolled": true
   },
   "outputs": [
    {
     "data": {
      "text/html": [
       "<div>\n",
       "<style scoped>\n",
       "    .dataframe tbody tr th:only-of-type {\n",
       "        vertical-align: middle;\n",
       "    }\n",
       "\n",
       "    .dataframe tbody tr th {\n",
       "        vertical-align: top;\n",
       "    }\n",
       "\n",
       "    .dataframe thead th {\n",
       "        text-align: right;\n",
       "    }\n",
       "</style>\n",
       "<table border=\"1\" class=\"dataframe\">\n",
       "  <thead>\n",
       "    <tr style=\"text-align: right;\">\n",
       "      <th></th>\n",
       "      <th>DATE</th>\n",
       "      <th>ZORI</th>\n",
       "    </tr>\n",
       "  </thead>\n",
       "  <tbody>\n",
       "    <tr>\n",
       "      <th>0</th>\n",
       "      <td>2015-03-01</td>\n",
       "      <td>1370.301806</td>\n",
       "    </tr>\n",
       "    <tr>\n",
       "      <th>1</th>\n",
       "      <td>2015-04-01</td>\n",
       "      <td>1381.971304</td>\n",
       "    </tr>\n",
       "    <tr>\n",
       "      <th>2</th>\n",
       "      <td>2015-05-01</td>\n",
       "      <td>1392.389090</td>\n",
       "    </tr>\n",
       "    <tr>\n",
       "      <th>3</th>\n",
       "      <td>2015-06-01</td>\n",
       "      <td>1403.203509</td>\n",
       "    </tr>\n",
       "    <tr>\n",
       "      <th>4</th>\n",
       "      <td>2015-07-01</td>\n",
       "      <td>1408.901384</td>\n",
       "    </tr>\n",
       "    <tr>\n",
       "      <th>...</th>\n",
       "      <td>...</td>\n",
       "      <td>...</td>\n",
       "    </tr>\n",
       "    <tr>\n",
       "      <th>85</th>\n",
       "      <td>2022-04-01</td>\n",
       "      <td>1997.731260</td>\n",
       "    </tr>\n",
       "    <tr>\n",
       "      <th>86</th>\n",
       "      <td>2022-05-01</td>\n",
       "      <td>2019.752839</td>\n",
       "    </tr>\n",
       "    <tr>\n",
       "      <th>87</th>\n",
       "      <td>2022-06-01</td>\n",
       "      <td>2044.662959</td>\n",
       "    </tr>\n",
       "    <tr>\n",
       "      <th>88</th>\n",
       "      <td>2022-07-01</td>\n",
       "      <td>2065.275748</td>\n",
       "    </tr>\n",
       "    <tr>\n",
       "      <th>89</th>\n",
       "      <td>2022-08-01</td>\n",
       "      <td>2078.546078</td>\n",
       "    </tr>\n",
       "  </tbody>\n",
       "</table>\n",
       "<p>90 rows × 2 columns</p>\n",
       "</div>"
      ],
      "text/plain": [
       "         DATE         ZORI\n",
       "0  2015-03-01  1370.301806\n",
       "1  2015-04-01  1381.971304\n",
       "2  2015-05-01  1392.389090\n",
       "3  2015-06-01  1403.203509\n",
       "4  2015-07-01  1408.901384\n",
       "..        ...          ...\n",
       "85 2022-04-01  1997.731260\n",
       "86 2022-05-01  2019.752839\n",
       "87 2022-06-01  2044.662959\n",
       "88 2022-07-01  2065.275748\n",
       "89 2022-08-01  2078.546078\n",
       "\n",
       "[90 rows x 2 columns]"
      ]
     },
     "execution_count": 7,
     "metadata": {},
     "output_type": "execute_result"
    }
   ],
   "source": [
    "zillow = pd.DataFrame(data={\"DATE\": zori_dates, \"ZORI\" : zori_data})\n",
    "zillow[\"DATE\"]=pd.to_datetime(zillow[\"DATE\"].values.astype('datetime64[M]'))\n",
    "zillow"
   ]
  },
  {
   "cell_type": "markdown",
   "id": "ced035b1",
   "metadata": {},
   "source": [
    "We might wonder what this looks like. Let's graph this time series."
   ]
  },
  {
   "cell_type": "code",
   "execution_count": 8,
   "id": "0788bce4",
   "metadata": {
    "scrolled": true
   },
   "outputs": [
    {
     "data": {
      "image/png": "[encoded data removed]",
      "text/plain": [
       "<Figure size 1000x300 with 1 Axes>"
      ]
     },
     "metadata": {},
     "output_type": "display_data"
    }
   ],
   "source": [
    "plt.plot(zillow[\"DATE\"],zillow[\"ZORI\"])\n",
    "plt.xlabel(\"Year\")\n",
    "plt.ylabel(\"ZORI Index (in $)\")\n",
    "plt.title(\"ZORI Index Time Series\");"
   ]
  },
  {
   "cell_type": "markdown",
   "id": "b3eb70f3",
   "metadata": {},
   "source": [
    "**Question 2.1:** Do you notice anything interesting about this graph? In 2 to 3 sentences, describe any patterns you see, trends over time, or sudden differences."
   ]
  },
  {
   "cell_type": "markdown",
   "id": "4411323d-ff75-4159-afb4-b27672bc1e1c",
   "metadata": {},
   "source": [
    "*Type your answer here, replacing this text.*"
   ]
  },
  {
   "cell_type": "markdown",
   "id": "fbefbc91",
   "metadata": {},
   "source": [
    "## Section 3: United States Consumer Price Index"
   ]
  },
  {
   "cell_type": "markdown",
   "id": "6193d997",
   "metadata": {},
   "source": [
    "In this section, we'll explore the United States Consumer Price Index. From the Bureau of Labor Statistics:\n",
    "> The Consumer Price Index (CPI) is a measure of the average change over time in the prices paid by urban consumers for a market basket of consumer goods and services. Indexes are available for the U.S. and various geographic areas. Average price data for select utility, automotive fuel, and food items are also available.\n",
    "\n",
    "Notably, rent prices are also included in the CPI calculation. \n",
    "\n",
    "We've downloaded historical US CPI data for you from the [Federal Reserve Economic Data (FRED) website](https://fred.stlouisfed.org/series/CUUR0000SEHA). Since our ZORI data starts on 03/31/2015, we've adjusted the sliders on the FRED website to only extract starting from 03/31/2015. We've also renamed the columns to be more readable."
   ]
  },
  {
   "cell_type": "code",
   "execution_count": 9,
   "id": "b656ed8c",
   "metadata": {},
   "outputs": [],
   "source": [
    "zillow = zillow.reset_index()\n",
    "usCPI = pd.read_csv(\"usCPI.csv\")\n",
    "usCPI = usCPI.rename(columns={\"CUUR0000SEHA\": \"CPI\"})\n",
    "usCPI = usCPI.iloc[1:, :]\n",
    "usCPI = usCPI.reset_index()\n",
    "usCPI = usCPI.drop(\"index\",axis=1)"
   ]
  },
  {
   "cell_type": "code",
   "execution_count": 10,
   "id": "14c0f2c5",
   "metadata": {
    "scrolled": true
   },
   "outputs": [
    {
     "data": {
      "text/html": [
       "<div>\n",
       "<style scoped>\n",
       "    .dataframe tbody tr th:only-of-type {\n",
       "        vertical-align: middle;\n",
       "    }\n",
       "\n",
       "    .dataframe tbody tr th {\n",
       "        vertical-align: top;\n",
       "    }\n",
       "\n",
       "    .dataframe thead th {\n",
       "        text-align: right;\n",
       "    }\n",
       "</style>\n",
       "<table border=\"1\" class=\"dataframe\">\n",
       "  <thead>\n",
       "    <tr style=\"text-align: right;\">\n",
       "      <th></th>\n",
       "      <th>DATE</th>\n",
       "      <th>CPI</th>\n",
       "    </tr>\n",
       "  </thead>\n",
       "  <tbody>\n",
       "    <tr>\n",
       "      <th>0</th>\n",
       "      <td>2015-04-01</td>\n",
       "      <td>283.598</td>\n",
       "    </tr>\n",
       "    <tr>\n",
       "      <th>1</th>\n",
       "      <td>2015-05-01</td>\n",
       "      <td>284.245</td>\n",
       "    </tr>\n",
       "    <tr>\n",
       "      <th>2</th>\n",
       "      <td>2015-06-01</td>\n",
       "      <td>285.031</td>\n",
       "    </tr>\n",
       "    <tr>\n",
       "      <th>3</th>\n",
       "      <td>2015-07-01</td>\n",
       "      <td>286.090</td>\n",
       "    </tr>\n",
       "    <tr>\n",
       "      <th>4</th>\n",
       "      <td>2015-08-01</td>\n",
       "      <td>287.068</td>\n",
       "    </tr>\n",
       "  </tbody>\n",
       "</table>\n",
       "</div>"
      ],
      "text/plain": [
       "         DATE      CPI\n",
       "0  2015-04-01  283.598\n",
       "1  2015-05-01  284.245\n",
       "2  2015-06-01  285.031\n",
       "3  2015-07-01  286.090\n",
       "4  2015-08-01  287.068"
      ]
     },
     "execution_count": 10,
     "metadata": {},
     "output_type": "execute_result"
    }
   ],
   "source": [
    "usCPI.head()"
   ]
  },
  {
   "cell_type": "markdown",
   "id": "9ab94af0",
   "metadata": {},
   "source": [
    "We can try plotting this to see what it looks like."
   ]
  },
  {
   "cell_type": "code",
   "execution_count": 11,
   "id": "c339bfcb-68f0-4c37-9c8b-2b0d9e229669",
   "metadata": {},
   "outputs": [
    {
     "data": {
      "image/png": "[encoded data removed]",
      "text/plain": [
       "<Figure size 1000x300 with 1 Axes>"
      ]
     },
     "metadata": {},
     "output_type": "display_data"
    }
   ],
   "source": [
    "plt.plot(usCPI[\"DATE\"], usCPI[\"CPI\"]);"
   ]
  },
  {
   "cell_type": "markdown",
   "id": "82b2c1ea-6ace-4c8a-a31b-0521e00e3a3e",
   "metadata": {},
   "source": [
    "Whoops! Looks like there is something wrong with the x-axis. Let's take a look at the data types of the `usCPI` dataframe using the `dtypes` method. This method displays the data types for each of the columns in the data frame."
   ]
  },
  {
   "cell_type": "code",
   "execution_count": 12,
   "id": "75ab09bb-c383-4d31-b84d-797bf91d72c7",
   "metadata": {},
   "outputs": [
    {
     "data": {
      "text/plain": [
       "DATE     object\n",
       "CPI     float64\n",
       "dtype: object"
      ]
     },
     "execution_count": 12,
     "metadata": {},
     "output_type": "execute_result"
    }
   ],
   "source": [
    "usCPI.dtypes"
   ]
  },
  {
   "cell_type": "markdown",
   "id": "d0eea43b-5f9d-42b2-a665-1bc42be01f2c",
   "metadata": {},
   "source": [
    "Looks like the `DATE` column has an `object` data type. Let's see if we can adjust this to be something that works better with time series. We can use the `pd.to_datetime()` method to convert to a date time format. This will allow Python and `pandas` to know to treat these values as dates and not just strings or other text."
   ]
  },
  {
   "cell_type": "code",
   "execution_count": 13,
   "id": "8483e6c4-a49a-4d22-834d-6684ceb744ac",
   "metadata": {},
   "outputs": [],
   "source": [
    "usCPI[\"DATE\"]=pd.to_datetime(usCPI[\"DATE\"])"
   ]
  },
  {
   "cell_type": "code",
   "execution_count": 14,
   "id": "c7b7b3b2-9812-4d70-be99-1b755f95c5d0",
   "metadata": {},
   "outputs": [
    {
     "data": {
      "text/html": [
       "<div>\n",
       "<style scoped>\n",
       "    .dataframe tbody tr th:only-of-type {\n",
       "        vertical-align: middle;\n",
       "    }\n",
       "\n",
       "    .dataframe tbody tr th {\n",
       "        vertical-align: top;\n",
       "    }\n",
       "\n",
       "    .dataframe thead th {\n",
       "        text-align: right;\n",
       "    }\n",
       "</style>\n",
       "<table border=\"1\" class=\"dataframe\">\n",
       "  <thead>\n",
       "    <tr style=\"text-align: right;\">\n",
       "      <th></th>\n",
       "      <th>DATE</th>\n",
       "      <th>CPI</th>\n",
       "    </tr>\n",
       "  </thead>\n",
       "  <tbody>\n",
       "    <tr>\n",
       "      <th>0</th>\n",
       "      <td>2015-04-01</td>\n",
       "      <td>283.598</td>\n",
       "    </tr>\n",
       "    <tr>\n",
       "      <th>1</th>\n",
       "      <td>2015-05-01</td>\n",
       "      <td>284.245</td>\n",
       "    </tr>\n",
       "    <tr>\n",
       "      <th>2</th>\n",
       "      <td>2015-06-01</td>\n",
       "      <td>285.031</td>\n",
       "    </tr>\n",
       "    <tr>\n",
       "      <th>3</th>\n",
       "      <td>2015-07-01</td>\n",
       "      <td>286.090</td>\n",
       "    </tr>\n",
       "    <tr>\n",
       "      <th>4</th>\n",
       "      <td>2015-08-01</td>\n",
       "      <td>287.068</td>\n",
       "    </tr>\n",
       "  </tbody>\n",
       "</table>\n",
       "</div>"
      ],
      "text/plain": [
       "        DATE      CPI\n",
       "0 2015-04-01  283.598\n",
       "1 2015-05-01  284.245\n",
       "2 2015-06-01  285.031\n",
       "3 2015-07-01  286.090\n",
       "4 2015-08-01  287.068"
      ]
     },
     "execution_count": 14,
     "metadata": {},
     "output_type": "execute_result"
    }
   ],
   "source": [
    "usCPI.head()"
   ]
  },
  {
   "cell_type": "markdown",
   "id": "a4dae13c-8f72-43e6-96db-c809e6181e4d",
   "metadata": {},
   "source": [
    "While the data does not look much different, the data types have changed."
   ]
  },
  {
   "cell_type": "code",
   "execution_count": 15,
   "id": "7168bb47-414d-41fc-9295-356f333ee79c",
   "metadata": {},
   "outputs": [
    {
     "data": {
      "text/plain": [
       "DATE    datetime64[ns]\n",
       "CPI            float64\n",
       "dtype: object"
      ]
     },
     "execution_count": 15,
     "metadata": {},
     "output_type": "execute_result"
    }
   ],
   "source": [
    "usCPI.dtypes"
   ]
  },
  {
   "cell_type": "markdown",
   "id": "870bf29f-7d3f-4f00-bb44-b212634438de",
   "metadata": {},
   "source": [
    "**Question 3.1:** Create a line plot using the `usCPI` dataframe with `DATE` on the x-axis and `CPI` on the y-axis. Label you axes accordingly and give the plot an appropriate title.\n",
    "\n",
    "Hint: Look at how we plotted the ZORI index in the previous section if you need a refresher."
   ]
  },
  {
   "cell_type": "code",
   "execution_count": 16,
   "id": "5f55896c-a741-4849-a1c8-f0ca006a2639",
   "metadata": {},
   "outputs": [],
   "source": [
    "# Your code here"
   ]
  },
  {
   "cell_type": "code",
   "execution_count": 17,
   "id": "c84b71d5",
   "metadata": {},
   "outputs": [
    {
     "data": {
      "image/png": "[encoded data removed]",
      "text/plain": [
       "<Figure size 1000x300 with 1 Axes>"
      ]
     },
     "metadata": {},
     "output_type": "display_data"
    }
   ],
   "source": [
    "# Delete me\n",
    "plt.plot(usCPI[\"DATE\"], usCPI[\"CPI\"])\n",
    "plt.xlabel(\"Year\")\n",
    "plt.ylabel(\"CPI\")\n",
    "plt.title(\"United States CPI Index\");"
   ]
  },
  {
   "cell_type": "markdown",
   "id": "ab57625f",
   "metadata": {},
   "source": [
    "## Section 4: Forecasting Time Series using `darts`"
   ]
  },
  {
   "cell_type": "markdown",
   "id": "a6c90aa4-3bb8-433b-826d-65bb149f7674",
   "metadata": {},
   "source": [
    "In this section, we will learn how to model and forecast time series, including CPI. To do this, we'll be using a package called `darts`. `darts` uses a similar `fit()` and `predict()` workflow as `scikit-learn` and allows for powerful time series models to be build with just a few lines of code.\n",
    "\n"
   ]
  },
  {
   "cell_type": "markdown",
   "id": "6cc6d707-868d-49b8-bd2b-8a59e443cd2e",
   "metadata": {},
   "source": [
    "### Section 4.1: Forecasting Australian Beer Production Using ARIMA\n",
    "\n",
    "To learn more about `darts`, let's do an example using an Autoregressive integrated moving average model or ARIMA. An ARIMA model uses a moving average of past time series values to predict future values.  \n",
    "\n",
    "In this example, we'll be attempting to forecast the total amount of beer produced in Australia (in megaliters). We'll start by loading in the data using the `load()` method on the name of the data set `AusBeerDataset()`."
   ]
  },
  {
   "cell_type": "code",
   "execution_count": 18,
   "id": "c146fe12-a363-435e-aef1-6648713982cd",
   "metadata": {},
   "outputs": [],
   "source": [
    "series_beer = AusBeerDataset().load()"
   ]
  },
  {
   "cell_type": "markdown",
   "id": "c3f046bf-abc3-40fe-a865-93f24d4a37c9",
   "metadata": {},
   "source": [
    "We can also use the `plot()` method to visualize our time series."
   ]
  },
  {
   "cell_type": "code",
   "execution_count": 19,
   "id": "270a14b5-658e-4b2f-81e9-7c8388e45e87",
   "metadata": {},
   "outputs": [
    {
     "data": {
      "image/png": "[encoded data removed]",
      "text/plain": [
       "<Figure size 1000x300 with 1 Axes>"
      ]
     },
     "metadata": {},
     "output_type": "display_data"
    }
   ],
   "source": [
    "series_beer.plot(label=\"Megaliters of Beer Produced in Australia\")\n",
    "plt.legend();"
   ]
  },
  {
   "cell_type": "markdown",
   "id": "c119ddec-529c-4460-bd4f-027f7a99c784",
   "metadata": {},
   "source": [
    "Now that we have an idea of what our time series looks like, let's split our data into test and train datasets. This is important so we can test and evaluate our model on data that the model did not encounter in training. This allows us to see if our model is generalizable and applicable to real world data.\n",
    "\n",
    "Here, we'll use the last 36 months as test data, and use all other data for training using slicing."
   ]
  },
  {
   "cell_type": "code",
   "execution_count": 20,
   "id": "e29cf665-8f30-4b2a-b22e-4ddbc7103d8c",
   "metadata": {},
   "outputs": [],
   "source": [
    "train_beer, test_beer = series_beer[:-36], series_beer[-36:]"
   ]
  },
  {
   "cell_type": "markdown",
   "id": "029318a0-bb0c-4312-8fd2-d0af75e1f59b",
   "metadata": {},
   "source": [
    "Now that we have out train and test data, let's work on developing our model. Similar to `scikit-learn` models, `darts` follows a similar workflow:\n",
    "\n",
    " 1. Create your model\n",
    " 2. Fit your model\n",
    " 3. Predict using your model\n",
    " \n",
    "Let's start by creating our ARIMA model."
   ]
  },
  {
   "cell_type": "code",
   "execution_count": 21,
   "id": "ea9d5ca1-dc41-4f89-a4a2-90f33028cb54",
   "metadata": {},
   "outputs": [],
   "source": [
    "arima_beer = AutoARIMA()"
   ]
  },
  {
   "cell_type": "markdown",
   "id": "f917ca19-6863-48c7-a0a6-e2046695b2d6",
   "metadata": {},
   "source": [
    "We now have our ARIMA model. In order to use our model to predict, we must first fit the model to the training data. We can do that using the `fit` method; passing in our training data as a parameter."
   ]
  },
  {
   "cell_type": "code",
   "execution_count": 22,
   "id": "d8f91a41-686d-4f1c-9a69-9d721d924311",
   "metadata": {},
   "outputs": [
    {
     "data": {
      "text/plain": [
       "<darts.models.forecasting.auto_arima.AutoARIMA at 0x1c123524310>"
      ]
     },
     "execution_count": 22,
     "metadata": {},
     "output_type": "execute_result"
    }
   ],
   "source": [
    "arima_beer.fit(train_beer)"
   ]
  },
  {
   "cell_type": "markdown",
   "id": "a42bbacb-3436-4f0e-b0b7-47bfd9fc9085",
   "metadata": {},
   "source": [
    "Our model is now fitted and ready to predict. Let's predict the length of our test data so we can see how well the model did. We can do that by calling the `predict` method on the model with the number of time periods to predict as a parameter.\n"
   ]
  },
  {
   "cell_type": "code",
   "execution_count": 23,
   "id": "8513aa1b-96f4-4973-8ba4-affcf69525a8",
   "metadata": {},
   "outputs": [],
   "source": [
    "pred = arima_beer.predict(36)"
   ]
  },
  {
   "cell_type": "markdown",
   "id": "d778b91f-b584-4e66-aad5-216d65f9af20",
   "metadata": {},
   "source": [
    "Let's see how well our model did by visualizing our predictions against our test data."
   ]
  },
  {
   "cell_type": "code",
   "execution_count": 24,
   "id": "46725ea9-5430-4487-b588-51388952233c",
   "metadata": {},
   "outputs": [
    {
     "name": "stdout",
     "output_type": "stream",
     "text": [
      "Accuracy:  95.48\n"
     ]
    },
    {
     "data": {
      "image/png": "[encoded data removed]",
      "text/plain": [
       "<Figure size 1000x300 with 1 Axes>"
      ]
     },
     "metadata": {},
     "output_type": "display_data"
    }
   ],
   "source": [
    "series_beer.plot(label=\"actual\")\n",
    "pred.plot(label=\"forecast\")\n",
    "plt.legend()\n",
    "print(\"Accuracy: \",np.round((1-sum(abs(pred-test_beer))/sum(test_beer)).values()[0][0]*100,decimals=2))"
   ]
  },
  {
   "cell_type": "markdown",
   "id": "4f8a1712-0e55-405d-900e-996a2c746816",
   "metadata": {},
   "source": [
    "Not bad for a simple model like ARIMA. In the next section, you'l be able to forecast a time series using `darts`."
   ]
  },
  {
   "cell_type": "markdown",
   "id": "bc2075e7-83cf-448a-a971-c1c30523646b",
   "metadata": {},
   "source": [
    "### Section 4.2: Forecasting Air Passengers\n",
    "\n",
    "In this section, you'll be forecasting the number of air passengers."
   ]
  },
  {
   "cell_type": "markdown",
   "id": "179d09ac-c2b1-4228-bba3-05f1f4762a3c",
   "metadata": {},
   "source": [
    "**Question 4.2.1:** Load in the `AirPassengersDataset`. Assign it to the `series_air` variable."
   ]
  },
  {
   "cell_type": "code",
   "execution_count": 25,
   "id": "02956f49-80c6-4f09-8fb0-59a2aa2ef1f2",
   "metadata": {},
   "outputs": [],
   "source": [
    "# delete me\n",
    "series_air = AirPassengersDataset().load()"
   ]
  },
  {
   "cell_type": "code",
   "execution_count": 155,
   "id": "58a06523-7282-43da-9f86-24bbc5274a3b",
   "metadata": {},
   "outputs": [],
   "source": [
    "series_air = ..."
   ]
  },
  {
   "cell_type": "code",
   "execution_count": 26,
   "id": "4d14ec33-61ab-4dbf-9133-8326c07a61c0",
   "metadata": {},
   "outputs": [],
   "source": [
    "# otter cell"
   ]
  },
  {
   "cell_type": "markdown",
   "id": "c2012c52-04cc-4058-88dd-b427ba7e3ce6",
   "metadata": {},
   "source": [
    "**Question 4.2.2:** Plot the `series_air` time series. Make sure your plot has a legend."
   ]
  },
  {
   "cell_type": "code",
   "execution_count": 27,
   "id": "e6dc36e8-166e-45f0-b1d8-4a4ebfe321cc",
   "metadata": {},
   "outputs": [],
   "source": [
    "# Your code here"
   ]
  },
  {
   "cell_type": "code",
   "execution_count": 28,
   "id": "b0eebee9-c133-4ff0-9437-e0b4491ba5a9",
   "metadata": {},
   "outputs": [],
   "source": [
    "# otter cell"
   ]
  },
  {
   "cell_type": "code",
   "execution_count": 29,
   "id": "1c9a43ce-c87d-4909-990f-7a43cbaee7a3",
   "metadata": {},
   "outputs": [
    {
     "data": {
      "image/png": "[encoded data removed]",
      "text/plain": [
       "<Figure size 1000x300 with 1 Axes>"
      ]
     },
     "metadata": {},
     "output_type": "display_data"
    }
   ],
   "source": [
    "# delete me\n",
    "series_air.plot(label=\"Air Passengers\")\n",
    "plt.legend();"
   ]
  },
  {
   "cell_type": "markdown",
   "id": "464e0d99-acde-4750-bc45-7547c2c27621",
   "metadata": {},
   "source": [
    "Now we will work on splitting the data into test and train sets.\n",
    "\n",
    "**Question 4.2.3:** Split the `series_air` into `train_air` and `test_air`, using the last 24 months as testing data and all other months being in the training set."
   ]
  },
  {
   "cell_type": "code",
   "execution_count": 30,
   "id": "027cf8c6-acfd-47da-a286-1b64d0f0b7bb",
   "metadata": {},
   "outputs": [],
   "source": [
    "train_air, test_air = ..., ..."
   ]
  },
  {
   "cell_type": "code",
   "execution_count": 38,
   "id": "bf080ef7-3207-45aa-8877-80600b0b97cf",
   "metadata": {},
   "outputs": [],
   "source": [
    "# delete me\n",
    "train_air, test_air = series_air[:-24], series_air[-24:]"
   ]
  },
  {
   "cell_type": "markdown",
   "id": "2b9d3867-a1c3-4362-abed-234f04719dbb",
   "metadata": {},
   "source": [
    "We'll now move into modeling.\n",
    "\n",
    "**Question 4.2.4:** Create an `AutoArima` model and assign it to the `arima_air` variable."
   ]
  },
  {
   "cell_type": "code",
   "execution_count": 39,
   "id": "45d4c3e8-15a6-4aff-b960-92492ebba13a",
   "metadata": {},
   "outputs": [],
   "source": [
    "arima_air = ..."
   ]
  },
  {
   "cell_type": "code",
   "execution_count": 40,
   "id": "4bcdf509-59bf-4b6f-8ee2-4c764d6e7dc8",
   "metadata": {},
   "outputs": [],
   "source": [
    "# delete me\n",
    "arima_air = AutoARIMA()"
   ]
  },
  {
   "cell_type": "markdown",
   "id": "c5501181-7df5-47ea-92f7-ec1638f7b07d",
   "metadata": {},
   "source": [
    "**Question 4.2.5:** Fit the `arima_air` model to the training data."
   ]
  },
  {
   "cell_type": "code",
   "execution_count": 41,
   "id": "f218acf3-0809-458e-b171-3c9d5b64e478",
   "metadata": {},
   "outputs": [
    {
     "data": {
      "text/plain": [
       "Ellipsis"
      ]
     },
     "execution_count": 41,
     "metadata": {},
     "output_type": "execute_result"
    }
   ],
   "source": [
    "..."
   ]
  },
  {
   "cell_type": "code",
   "execution_count": 42,
   "id": "6aa0b6f3-facd-4e03-9b12-167805d4b33e",
   "metadata": {},
   "outputs": [
    {
     "data": {
      "text/plain": [
       "<darts.models.forecasting.auto_arima.AutoARIMA at 0x1c1233c5670>"
      ]
     },
     "execution_count": 42,
     "metadata": {},
     "output_type": "execute_result"
    }
   ],
   "source": [
    "# delete me\n",
    "arima_air.fit(train_air)"
   ]
  },
  {
   "cell_type": "markdown",
   "id": "a440b0b4-a030-44cc-95b7-01bd0e3ffa9e",
   "metadata": {},
   "source": [
    "**Question 4.2.6:** Use the fitted `arima_air` model to predict the next 24 months of the time series."
   ]
  },
  {
   "cell_type": "code",
   "execution_count": 46,
   "id": "d5ad1c91-0ea8-4c8f-b0f3-fd08ce1cb379",
   "metadata": {},
   "outputs": [],
   "source": [
    "pred = arima_air.predict(24)"
   ]
  },
  {
   "cell_type": "code",
   "execution_count": 47,
   "id": "5b163af1-df28-4e99-8bc6-106514dcda89",
   "metadata": {},
   "outputs": [
    {
     "name": "stdout",
     "output_type": "stream",
     "text": [
      "Accuracy:  89.62\n"
     ]
    },
    {
     "data": {
      "image/png": "[encoded data removed]",
      "text/plain": [
       "<Figure size 1000x300 with 1 Axes>"
      ]
     },
     "metadata": {},
     "output_type": "display_data"
    }
   ],
   "source": [
    "series_air.plot(label=\"actual\")\n",
    "pred.plot(label=\"forecast\")\n",
    "plt.legend()\n",
    "print(\"Accuracy: \",np.round((1-sum(abs(pred-test_air))/sum(test_air)).values()[0][0]*100,decimals=2))"
   ]
  },
  {
   "cell_type": "markdown",
   "id": "179dd359-a98a-4fbb-ba12-70288008c783",
   "metadata": {},
   "source": [
    "Seems like our model did not do as well as before. What might be some reasons for this? If we look at the first example of the beer production data, the data follows a similar pattern of peaks and troughs. However, if we look at the air passengers dataset, the peaks and troughs are becoming larger over time. The ARIMA model is not able to predict large differences from the data it was trained on, as seen above.\n",
    "\n",
    "Let's see if we can use a different model to do predictions."
   ]
  },
  {
   "cell_type": "markdown",
   "id": "d793af58-f502-4b9c-b873-4c177a3ce990",
   "metadata": {},
   "source": [
    "### Section 4.3: Forecasting Air Passengers using a N-HiTS\n",
    "\n",
    "In this section, we'll use the powerful Neural Hierarchical Interpolation for Time Series Forecasting (N-HiTS) model. This model is a neural network that works well with complex time series.\n",
    "\n",
    "Since the N-HiTS model is a neural network, are a pre-processing step, we have to scale the data to be between 0 and 1 using `Scaler()`. Similar to the models we have worked with thus far, we start by initializing the `Scaler()`."
   ]
  },
  {
   "cell_type": "code",
   "execution_count": 48,
   "id": "32834c3e-e645-434d-b857-4f015d4a5877",
   "metadata": {},
   "outputs": [],
   "source": [
    "air_scaler = Scaler()"
   ]
  },
  {
   "cell_type": "markdown",
   "id": "dba49d56-d06e-45de-b3df-6e95ed92b8c6",
   "metadata": {},
   "source": [
    "We can then apply the scaler using the `fit_transform()` method. This both fits and applies the scaling to the time series."
   ]
  },
  {
   "cell_type": "code",
   "execution_count": 49,
   "id": "9c6c6fb0-07d2-41e1-aeeb-9d29bfe305d5",
   "metadata": {},
   "outputs": [],
   "source": [
    "series_air_scaled = air_scaler.fit_transform(series_air)"
   ]
  },
  {
   "cell_type": "code",
   "execution_count": 55,
   "id": "ce182323-28a1-4c5b-a1c5-92687a503776",
   "metadata": {},
   "outputs": [
    {
     "data": {
      "text/plain": [
       "array([0.01544402, 0.02702703, 0.05405405, 0.04826255, 0.03281853,\n",
       "       0.05984556, 0.08494208, 0.08494208, 0.06177606, 0.02895753])"
      ]
     },
     "execution_count": 55,
     "metadata": {},
     "output_type": "execute_result"
    }
   ],
   "source": [
    "series_air_scaled.values().flatten()[0:10]"
   ]
  },
  {
   "cell_type": "markdown",
   "id": "e77eec7e-0a7c-426e-b17f-d4be8ed399f4",
   "metadata": {},
   "source": [
    "Now, all of our data points are scaled between 0 and 1, with the largest data point being set to 1 and the smallest data point being set to 0. All other data points are scaled depending on where they fit in that range.\n",
    "\n",
    "We can now split the data into train and test."
   ]
  },
  {
   "cell_type": "code",
   "execution_count": 57,
   "id": "27d61807-3852-4871-a5df-9b0f97607505",
   "metadata": {},
   "outputs": [],
   "source": [
    "train_air_scaled, test_air_scaled = series_air_scaled[:-24], series_air_scaled[-24:]"
   ]
  },
  {
   "cell_type": "markdown",
   "id": "5ee6aa54-7bba-4044-ad09-9c2062c6bcb4",
   "metadata": {},
   "source": [
    "We'll start by initializing our model. Since this model is a little more complex, we'll be adding in some additional arguments `input_chunk_length`, the amount of training data the model looks at and `output_chunk_length`, how long of a forecast we want the model to generate."
   ]
  },
  {
   "cell_type": "code",
   "execution_count": 58,
   "id": "fb2040c5-affb-4bb9-8ad0-4088d81fd145",
   "metadata": {},
   "outputs": [],
   "source": [
    "air_nhits = NHiTSModel(input_chunk_length=24, output_chunk_length=len(test_air_scaled))"
   ]
  },
  {
   "cell_type": "markdown",
   "id": "ab3effb3-c4e2-4f1c-8044-3d26d33dbe7a",
   "metadata": {},
   "source": [
    "Next, we'll fit the model by training it on the `train_air_scaled` time series. We'll also have the model go through the data 500 times by specifying the `epochs` argument. \n",
    "\n",
    "*The N-HiTS model allows for `past_covariates` to be used in modeling.* Covariates are time series that are related to the time series you are trying to predict. An example of this is using temperature in predicting ice cream sales. This is a similar concept to using additional variables in a regression model. You can add in these in by setting the `past_covariates` argument to the time series you would like to use. "
   ]
  },
  {
   "cell_type": "code",
   "execution_count": 59,
   "id": "4b5e4c61-71a6-4d23-a93e-58b7caef5db3",
   "metadata": {},
   "outputs": [
    {
     "name": "stderr",
     "output_type": "stream",
     "text": [
      "GPU available: False, used: False\n",
      "TPU available: False, using: 0 TPU cores\n",
      "IPU available: False, using: 0 IPUs\n",
      "HPU available: False, using: 0 HPUs\n",
      "\n",
      "  | Name          | Type             | Params\n",
      "---------------------------------------------------\n",
      "0 | criterion     | MSELoss          | 0     \n",
      "1 | train_metrics | MetricCollection | 0     \n",
      "2 | val_metrics   | MetricCollection | 0     \n",
      "3 | stacks        | ModuleList       | 841 K \n",
      "---------------------------------------------------\n",
      "829 K     Trainable params\n",
      "12.3 K    Non-trainable params\n",
      "841 K     Total params\n",
      "6.734     Total estimated model params size (MB)\n"
     ]
    },
    {
     "name": "stdout",
     "output_type": "stream",
     "text": [
      "Epoch 499: 100%|█████████████████████████████████████| 3/3 [00:00<00:00, 23.36it/s, loss=0.000216, train_loss=0.000172]"
     ]
    },
    {
     "name": "stderr",
     "output_type": "stream",
     "text": [
      "`Trainer.fit` stopped: `max_epochs=500` reached.\n"
     ]
    },
    {
     "name": "stdout",
     "output_type": "stream",
     "text": [
      "Epoch 499: 100%|█████████████████████████████████████| 3/3 [00:00<00:00, 21.49it/s, loss=0.000216, train_loss=0.000172]\n"
     ]
    },
    {
     "data": {
      "text/plain": [
       "<darts.models.forecasting.nhits.NHiTSModel at 0x1c126bfa820>"
      ]
     },
     "execution_count": 59,
     "metadata": {},
     "output_type": "execute_result"
    }
   ],
   "source": [
    "air_nhits.fit(series=train_air_scaled, epochs=500)"
   ]
  },
  {
   "cell_type": "markdown",
   "id": "f2832913-d62b-49cc-9e92-667ec42aa065",
   "metadata": {},
   "source": [
    "Now that we have fit our model, we can generate our predictions.  Similar to the ARIMA model, we can use the `predict()` method on our model.\n",
    "\n",
    "We'll also be setting our output length parameter `n` to the length of our test dataset. If we had `past_covariates`, we could also specify them here. The series used for forecasting is also included using the `series` parameter."
   ]
  },
  {
   "cell_type": "code",
   "execution_count": 60,
   "id": "83cde847-36f7-4b2d-939c-e370814a51e9",
   "metadata": {},
   "outputs": [
    {
     "name": "stderr",
     "output_type": "stream",
     "text": [
      "GPU available: False, used: False\n",
      "TPU available: False, using: 0 TPU cores\n",
      "IPU available: False, using: 0 IPUs\n",
      "HPU available: False, using: 0 HPUs\n"
     ]
    },
    {
     "name": "stdout",
     "output_type": "stream",
     "text": [
      "Predicting DataLoader 0: 100%|███████████████████████████████████████████████████████████| 1/1 [00:00<00:00,  6.24it/s]\n"
     ]
    }
   ],
   "source": [
    "air_predictions_nhits = air_nhits.predict(n=len(test_air_scaled), series=train_air_scaled)"
   ]
  },
  {
   "cell_type": "markdown",
   "id": "6954936e-4a63-4120-b257-1a21101f20b0",
   "metadata": {},
   "source": [
    "Since we scaled our original input data using `Scaler()`, we have to inverse the scaling using `inverse_transform()`."
   ]
  },
  {
   "cell_type": "code",
   "execution_count": 61,
   "id": "d168cca8-3a95-4d53-9fa9-b4617848ca5f",
   "metadata": {},
   "outputs": [],
   "source": [
    "air_prediction_not_scaled = air_scaler.inverse_transform(air_predictions_nhits)"
   ]
  },
  {
   "cell_type": "markdown",
   "id": "085c2e75-103b-4b3b-b505-d2f1243df76c",
   "metadata": {},
   "source": [
    "We can now look at how the model did in comparison to the ARIMA model and the actual data."
   ]
  },
  {
   "cell_type": "code",
   "execution_count": 81,
   "id": "1b364d11-354c-49fc-bdf1-3a06a5630d11",
   "metadata": {},
   "outputs": [
    {
     "name": "stdout",
     "output_type": "stream",
     "text": [
      "N-HiTS Accuracy:  90.49\n"
     ]
    },
    {
     "data": {
      "image/png": "[encoded data removed]",
      "text/plain": [
       "<Figure size 1000x300 with 1 Axes>"
      ]
     },
     "metadata": {},
     "output_type": "display_data"
    }
   ],
   "source": [
    "series_air.plot(label=\"actual\")\n",
    "air_prediction_not_scaled.plot(label=\"N-HiTS Model\")\n",
    "pred.plot(label=\"ARIMA Model\")\n",
    "plt.legend()\n",
    "print(\"N-HiTS Accuracy: \",np.round((1-sum(abs(air_prediction_not_scaled-test_air))/sum(test_air)).values()[0][0]*100,decimals=2))"
   ]
  },
  {
   "cell_type": "markdown",
   "id": "7e6a8d35-50e5-4bdb-94c7-622ff41807a7",
   "metadata": {},
   "source": [
    "Our more powerful N-HiTS model is better able to recognize patterns and apply them to future unseen data. Incorporating related past coviariates helps the model make even better predictions as you will in the next section.\n"
   ]
  },
  {
   "cell_type": "markdown",
   "id": "cd916510-c112-40ca-ac16-dbd6f98c77ac",
   "metadata": {},
   "source": [
    "## Section 5: Using ZORI to Predict CPI\n",
    "\n",
    "In this section, we'll be incorporating everything we have learned about time series to predict the consumer price index using the ZORI index.\n",
    "\n",
    "We'll start by combining our CPI data and our ZORI data into one data frame."
   ]
  },
  {
   "cell_type": "code",
   "execution_count": 84,
   "id": "057fbc35-1c48-42cf-99ab-b87de3034eff",
   "metadata": {},
   "outputs": [],
   "source": [
    "zillow_copy=zillow.copy()\n",
    "zillow_copy[\"date_ms\"]=zillow[\"DATE\"].astype(\"datetime64[M]\")\n",
    "zillow_copy=zillow_copy.drop([\"DATE\",\"index\"],axis=1)"
   ]
  },
  {
   "cell_type": "code",
   "execution_count": 85,
   "id": "93c60cf0-46bc-4745-a821-77f7d22bac90",
   "metadata": {},
   "outputs": [
    {
     "data": {
      "text/html": [
       "<div>\n",
       "<style scoped>\n",
       "    .dataframe tbody tr th:only-of-type {\n",
       "        vertical-align: middle;\n",
       "    }\n",
       "\n",
       "    .dataframe tbody tr th {\n",
       "        vertical-align: top;\n",
       "    }\n",
       "\n",
       "    .dataframe thead th {\n",
       "        text-align: right;\n",
       "    }\n",
       "</style>\n",
       "<table border=\"1\" class=\"dataframe\">\n",
       "  <thead>\n",
       "    <tr style=\"text-align: right;\">\n",
       "      <th></th>\n",
       "      <th>ZORI</th>\n",
       "      <th>date_ms</th>\n",
       "    </tr>\n",
       "  </thead>\n",
       "  <tbody>\n",
       "    <tr>\n",
       "      <th>0</th>\n",
       "      <td>1370.301806</td>\n",
       "      <td>2015-03-01</td>\n",
       "    </tr>\n",
       "    <tr>\n",
       "      <th>1</th>\n",
       "      <td>1381.971304</td>\n",
       "      <td>2015-04-01</td>\n",
       "    </tr>\n",
       "    <tr>\n",
       "      <th>2</th>\n",
       "      <td>1392.389090</td>\n",
       "      <td>2015-05-01</td>\n",
       "    </tr>\n",
       "    <tr>\n",
       "      <th>3</th>\n",
       "      <td>1403.203509</td>\n",
       "      <td>2015-06-01</td>\n",
       "    </tr>\n",
       "    <tr>\n",
       "      <th>4</th>\n",
       "      <td>1408.901384</td>\n",
       "      <td>2015-07-01</td>\n",
       "    </tr>\n",
       "  </tbody>\n",
       "</table>\n",
       "</div>"
      ],
      "text/plain": [
       "          ZORI    date_ms\n",
       "0  1370.301806 2015-03-01\n",
       "1  1381.971304 2015-04-01\n",
       "2  1392.389090 2015-05-01\n",
       "3  1403.203509 2015-06-01\n",
       "4  1408.901384 2015-07-01"
      ]
     },
     "execution_count": 85,
     "metadata": {},
     "output_type": "execute_result"
    }
   ],
   "source": [
    "zillow_copy.head()"
   ]
  },
  {
   "cell_type": "markdown",
   "id": "f84bec27-1418-4175-8515-5ec5b6c0609a",
   "metadata": {},
   "source": [
    "Now let's merge all of our datasets together. This will allow us to more easily do our modeling."
   ]
  },
  {
   "cell_type": "code",
   "execution_count": 89,
   "id": "852c2e4f-1b5f-4071-a03d-bb9e0d897df2",
   "metadata": {},
   "outputs": [],
   "source": [
    "comb_data=pd.merge(zillow_copy, usCPI, left_on=\"date_ms\",right_on=\"DATE\").drop(\"DATE\",axis=1)"
   ]
  },
  {
   "cell_type": "code",
   "execution_count": 90,
   "id": "0bcddbad-6004-4167-a61d-06d152c941b2",
   "metadata": {},
   "outputs": [
    {
     "data": {
      "text/html": [
       "<div>\n",
       "<style scoped>\n",
       "    .dataframe tbody tr th:only-of-type {\n",
       "        vertical-align: middle;\n",
       "    }\n",
       "\n",
       "    .dataframe tbody tr th {\n",
       "        vertical-align: top;\n",
       "    }\n",
       "\n",
       "    .dataframe thead th {\n",
       "        text-align: right;\n",
       "    }\n",
       "</style>\n",
       "<table border=\"1\" class=\"dataframe\">\n",
       "  <thead>\n",
       "    <tr style=\"text-align: right;\">\n",
       "      <th></th>\n",
       "      <th>ZORI</th>\n",
       "      <th>date_ms</th>\n",
       "      <th>CPI</th>\n",
       "    </tr>\n",
       "  </thead>\n",
       "  <tbody>\n",
       "    <tr>\n",
       "      <th>0</th>\n",
       "      <td>1381.971304</td>\n",
       "      <td>2015-04-01</td>\n",
       "      <td>283.598</td>\n",
       "    </tr>\n",
       "    <tr>\n",
       "      <th>1</th>\n",
       "      <td>1392.389090</td>\n",
       "      <td>2015-05-01</td>\n",
       "      <td>284.245</td>\n",
       "    </tr>\n",
       "    <tr>\n",
       "      <th>2</th>\n",
       "      <td>1403.203509</td>\n",
       "      <td>2015-06-01</td>\n",
       "      <td>285.031</td>\n",
       "    </tr>\n",
       "    <tr>\n",
       "      <th>3</th>\n",
       "      <td>1408.901384</td>\n",
       "      <td>2015-07-01</td>\n",
       "      <td>286.090</td>\n",
       "    </tr>\n",
       "    <tr>\n",
       "      <th>4</th>\n",
       "      <td>1414.264526</td>\n",
       "      <td>2015-08-01</td>\n",
       "      <td>287.068</td>\n",
       "    </tr>\n",
       "  </tbody>\n",
       "</table>\n",
       "</div>"
      ],
      "text/plain": [
       "          ZORI    date_ms      CPI\n",
       "0  1381.971304 2015-04-01  283.598\n",
       "1  1392.389090 2015-05-01  284.245\n",
       "2  1403.203509 2015-06-01  285.031\n",
       "3  1408.901384 2015-07-01  286.090\n",
       "4  1414.264526 2015-08-01  287.068"
      ]
     },
     "execution_count": 90,
     "metadata": {},
     "output_type": "execute_result"
    }
   ],
   "source": [
    "comb_data.head()"
   ]
  },
  {
   "cell_type": "markdown",
   "id": "cc6950a2-0072-4af2-8fd9-7f26d9e0ce1a",
   "metadata": {},
   "source": [
    "As a quick sanity check, we'll run a correlation to see if the ZORI index is related to the CPI."
   ]
  },
  {
   "cell_type": "code",
   "execution_count": 92,
   "id": "6d04447f-fdb2-4890-9b19-e93c9008afc1",
   "metadata": {},
   "outputs": [
    {
     "data": {
      "text/html": [
       "<div>\n",
       "<style scoped>\n",
       "    .dataframe tbody tr th:only-of-type {\n",
       "        vertical-align: middle;\n",
       "    }\n",
       "\n",
       "    .dataframe tbody tr th {\n",
       "        vertical-align: top;\n",
       "    }\n",
       "\n",
       "    .dataframe thead th {\n",
       "        text-align: right;\n",
       "    }\n",
       "</style>\n",
       "<table border=\"1\" class=\"dataframe\">\n",
       "  <thead>\n",
       "    <tr style=\"text-align: right;\">\n",
       "      <th></th>\n",
       "      <th>ZORI</th>\n",
       "      <th>CPI</th>\n",
       "    </tr>\n",
       "  </thead>\n",
       "  <tbody>\n",
       "    <tr>\n",
       "      <th>ZORI</th>\n",
       "      <td>1.00000</td>\n",
       "      <td>0.94072</td>\n",
       "    </tr>\n",
       "    <tr>\n",
       "      <th>CPI</th>\n",
       "      <td>0.94072</td>\n",
       "      <td>1.00000</td>\n",
       "    </tr>\n",
       "  </tbody>\n",
       "</table>\n",
       "</div>"
      ],
      "text/plain": [
       "         ZORI      CPI\n",
       "ZORI  1.00000  0.94072\n",
       "CPI   0.94072  1.00000"
      ]
     },
     "execution_count": 92,
     "metadata": {},
     "output_type": "execute_result"
    }
   ],
   "source": [
    "comb_data[[\"ZORI\",\"CPI\"]].corr()"
   ]
  },
  {
   "cell_type": "markdown",
   "id": "a8a3ce49-c3fd-4175-84ca-5b2f8ce341a7",
   "metadata": {},
   "source": [
    "Based on the correlation of 94%, the ZORI index seems like a good candidate as a covariate for prediction.\n",
    "\n",
    "We can also verify this visually."
   ]
  },
  {
   "cell_type": "code",
   "execution_count": 93,
   "id": "a35903e7-552d-4b95-b9f4-ed3012e45937",
   "metadata": {},
   "outputs": [
    {
     "data": {
      "image/png": "[encoded data removed]",
      "text/plain": [
       "<Figure size 1000x300 with 2 Axes>"
      ]
     },
     "metadata": {},
     "output_type": "display_data"
    }
   ],
   "source": [
    "x = comb_data[\"date_ms\"]\n",
    "y1 = comb_data[\"CPI\"]\n",
    "y2 = comb_data[\"ZORI\"]\n",
    "\n",
    "fig, ax1 = plt.subplots()\n",
    "\n",
    "ax2 = ax1.twinx()\n",
    "ax1.plot(x, y1, 'g-')\n",
    "ax2.plot(x, y2, 'b-')\n",
    "\n",
    "ax1.set_xlabel(\"Date\")\n",
    "ax1.set_ylabel('CPI', color='g')\n",
    "ax2.set_ylabel('ZORI', color='b')\n",
    "plt.show()"
   ]
  },
  {
   "cell_type": "markdown",
   "id": "17a834a8-94d8-499c-a288-54d9c692345c",
   "metadata": {},
   "source": [
    "The `darts` package requires that all data be entered into a `TimeSeries` datatype. Using the `from_dataframe` method, we can specify the dataframe (`df`), column containing the date (`time_col`), and then the values of the time series (`value_cols`)."
   ]
  },
  {
   "cell_type": "code",
   "execution_count": 94,
   "id": "dd7afac3-76e4-4ec1-9de5-f3a1476f5bda",
   "metadata": {},
   "outputs": [],
   "source": [
    "zori_ts = TimeSeries.from_dataframe(df=comb_data, time_col=\"date_ms\",value_cols=\"ZORI\")"
   ]
  },
  {
   "cell_type": "markdown",
   "id": "b5bfaef4-2158-450a-bb17-676e017739c9",
   "metadata": {},
   "source": [
    "**Question 5.1:** Scale the `zori_ts` time series using the `Scaler()` function. Assign the `Scaler` to the variable `zori_scaler` and the scaled time series to `zori_ts_scaled`."
   ]
  },
  {
   "cell_type": "code",
   "execution_count": 98,
   "id": "7f5a2d6c-0803-4d5c-b4b8-6f6ff96a46c6",
   "metadata": {},
   "outputs": [],
   "source": [
    "zori_scaler = Scaler()\n",
    "zori_ts_scaled = zori_scaler.fit_transform(zori_ts) "
   ]
  },
  {
   "cell_type": "code",
   "execution_count": 99,
   "id": "36d0336a-acda-4397-8f19-05bdebad1c7a",
   "metadata": {},
   "outputs": [
    {
     "data": {
      "text/html": [
       "<div><svg style=\"position: absolute; width: 0; height: 0; overflow: hidden\">\n",
       "<defs>\n",
       "<symbol id=\"icon-database\" viewBox=\"0 0 32 32\">\n",
       "<path d=\"M16 0c-8.837 0-16 2.239-16 5v4c0 2.761 7.163 5 16 5s16-2.239 16-5v-4c0-2.761-7.163-5-16-5z\"></path>\n",
       "<path d=\"M16 17c-8.837 0-16-2.239-16-5v6c0 2.761 7.163 5 16 5s16-2.239 16-5v-6c0 2.761-7.163 5-16 5z\"></path>\n",
       "<path d=\"M16 26c-8.837 0-16-2.239-16-5v6c0 2.761 7.163 5 16 5s16-2.239 16-5v-6c0 2.761-7.163 5-16 5z\"></path>\n",
       "</symbol>\n",
       "<symbol id=\"icon-file-text2\" viewBox=\"0 0 32 32\">\n",
       "<path d=\"M28.681 7.159c-0.694-0.947-1.662-2.053-2.724-3.116s-2.169-2.030-3.116-2.724c-1.612-1.182-2.393-1.319-2.841-1.319h-15.5c-1.378 0-2.5 1.121-2.5 2.5v27c0 1.378 1.122 2.5 2.5 2.5h23c1.378 0 2.5-1.122 2.5-2.5v-19.5c0-0.448-0.137-1.23-1.319-2.841zM24.543 5.457c0.959 0.959 1.712 1.825 2.268 2.543h-4.811v-4.811c0.718 0.556 1.584 1.309 2.543 2.268zM28 29.5c0 0.271-0.229 0.5-0.5 0.5h-23c-0.271 0-0.5-0.229-0.5-0.5v-27c0-0.271 0.229-0.5 0.5-0.5 0 0 15.499-0 15.5 0v7c0 0.552 0.448 1 1 1h7v19.5z\"></path>\n",
       "<path d=\"M23 26h-14c-0.552 0-1-0.448-1-1s0.448-1 1-1h14c0.552 0 1 0.448 1 1s-0.448 1-1 1z\"></path>\n",
       "<path d=\"M23 22h-14c-0.552 0-1-0.448-1-1s0.448-1 1-1h14c0.552 0 1 0.448 1 1s-0.448 1-1 1z\"></path>\n",
       "<path d=\"M23 18h-14c-0.552 0-1-0.448-1-1s0.448-1 1-1h14c0.552 0 1 0.448 1 1s-0.448 1-1 1z\"></path>\n",
       "</symbol>\n",
       "</defs>\n",
       "</svg>\n",
       "<style>/* CSS stylesheet for displaying xarray objects in jupyterlab.\n",
       " *\n",
       " */\n",
       "\n",
       ":root {\n",
       "  --xr-font-color0: var(--jp-content-font-color0, rgba(0, 0, 0, 1));\n",
       "  --xr-font-color2: var(--jp-content-font-color2, rgba(0, 0, 0, 0.54));\n",
       "  --xr-font-color3: var(--jp-content-font-color3, rgba(0, 0, 0, 0.38));\n",
       "  --xr-border-color: var(--jp-border-color2, #e0e0e0);\n",
       "  --xr-disabled-color: var(--jp-layout-color3, #bdbdbd);\n",
       "  --xr-background-color: var(--jp-layout-color0, white);\n",
       "  --xr-background-color-row-even: var(--jp-layout-color1, white);\n",
       "  --xr-background-color-row-odd: var(--jp-layout-color2, #eeeeee);\n",
       "}\n",
       "\n",
       "html[theme=dark],\n",
       "body[data-theme=dark],\n",
       "body.vscode-dark {\n",
       "  --xr-font-color0: rgba(255, 255, 255, 1);\n",
       "  --xr-font-color2: rgba(255, 255, 255, 0.54);\n",
       "  --xr-font-color3: rgba(255, 255, 255, 0.38);\n",
       "  --xr-border-color: #1F1F1F;\n",
       "  --xr-disabled-color: #515151;\n",
       "  --xr-background-color: #111111;\n",
       "  --xr-background-color-row-even: #111111;\n",
       "  --xr-background-color-row-odd: #313131;\n",
       "}\n",
       "\n",
       ".xr-wrap {\n",
       "  display: block !important;\n",
       "  min-width: 300px;\n",
       "  max-width: 700px;\n",
       "}\n",
       "\n",
       ".xr-text-repr-fallback {\n",
       "  /* fallback to plain text repr when CSS is not injected (untrusted notebook) */\n",
       "  display: none;\n",
       "}\n",
       "\n",
       ".xr-header {\n",
       "  padding-top: 6px;\n",
       "  padding-bottom: 6px;\n",
       "  margin-bottom: 4px;\n",
       "  border-bottom: solid 1px var(--xr-border-color);\n",
       "}\n",
       "\n",
       ".xr-header > div,\n",
       ".xr-header > ul {\n",
       "  display: inline;\n",
       "  margin-top: 0;\n",
       "  margin-bottom: 0;\n",
       "}\n",
       "\n",
       ".xr-obj-type,\n",
       ".xr-array-name {\n",
       "  margin-left: 2px;\n",
       "  margin-right: 10px;\n",
       "}\n",
       "\n",
       ".xr-obj-type {\n",
       "  color: var(--xr-font-color2);\n",
       "}\n",
       "\n",
       ".xr-sections {\n",
       "  padding-left: 0 !important;\n",
       "  display: grid;\n",
       "  grid-template-columns: 150px auto auto 1fr 20px 20px;\n",
       "}\n",
       "\n",
       ".xr-section-item {\n",
       "  display: contents;\n",
       "}\n",
       "\n",
       ".xr-section-item input {\n",
       "  display: none;\n",
       "}\n",
       "\n",
       ".xr-section-item input + label {\n",
       "  color: var(--xr-disabled-color);\n",
       "}\n",
       "\n",
       ".xr-section-item input:enabled + label {\n",
       "  cursor: pointer;\n",
       "  color: var(--xr-font-color2);\n",
       "}\n",
       "\n",
       ".xr-section-item input:enabled + label:hover {\n",
       "  color: var(--xr-font-color0);\n",
       "}\n",
       "\n",
       ".xr-section-summary {\n",
       "  grid-column: 1;\n",
       "  color: var(--xr-font-color2);\n",
       "  font-weight: 500;\n",
       "}\n",
       "\n",
       ".xr-section-summary > span {\n",
       "  display: inline-block;\n",
       "  padding-left: 0.5em;\n",
       "}\n",
       "\n",
       ".xr-section-summary-in:disabled + label {\n",
       "  color: var(--xr-font-color2);\n",
       "}\n",
       "\n",
       ".xr-section-summary-in + label:before {\n",
       "  display: inline-block;\n",
       "  content: '►';\n",
       "  font-size: 11px;\n",
       "  width: 15px;\n",
       "  text-align: center;\n",
       "}\n",
       "\n",
       ".xr-section-summary-in:disabled + label:before {\n",
       "  color: var(--xr-disabled-color);\n",
       "}\n",
       "\n",
       ".xr-section-summary-in:checked + label:before {\n",
       "  content: '▼';\n",
       "}\n",
       "\n",
       ".xr-section-summary-in:checked + label > span {\n",
       "  display: none;\n",
       "}\n",
       "\n",
       ".xr-section-summary,\n",
       ".xr-section-inline-details {\n",
       "  padding-top: 4px;\n",
       "  padding-bottom: 4px;\n",
       "}\n",
       "\n",
       ".xr-section-inline-details {\n",
       "  grid-column: 2 / -1;\n",
       "}\n",
       "\n",
       ".xr-section-details {\n",
       "  display: none;\n",
       "  grid-column: 1 / -1;\n",
       "  margin-bottom: 5px;\n",
       "}\n",
       "\n",
       ".xr-section-summary-in:checked ~ .xr-section-details {\n",
       "  display: contents;\n",
       "}\n",
       "\n",
       ".xr-array-wrap {\n",
       "  grid-column: 1 / -1;\n",
       "  display: grid;\n",
       "  grid-template-columns: 20px auto;\n",
       "}\n",
       "\n",
       ".xr-array-wrap > label {\n",
       "  grid-column: 1;\n",
       "  vertical-align: top;\n",
       "}\n",
       "\n",
       ".xr-preview {\n",
       "  color: var(--xr-font-color3);\n",
       "}\n",
       "\n",
       ".xr-array-preview,\n",
       ".xr-array-data {\n",
       "  padding: 0 5px !important;\n",
       "  grid-column: 2;\n",
       "}\n",
       "\n",
       ".xr-array-data,\n",
       ".xr-array-in:checked ~ .xr-array-preview {\n",
       "  display: none;\n",
       "}\n",
       "\n",
       ".xr-array-in:checked ~ .xr-array-data,\n",
       ".xr-array-preview {\n",
       "  display: inline-block;\n",
       "}\n",
       "\n",
       ".xr-dim-list {\n",
       "  display: inline-block !important;\n",
       "  list-style: none;\n",
       "  padding: 0 !important;\n",
       "  margin: 0;\n",
       "}\n",
       "\n",
       ".xr-dim-list li {\n",
       "  display: inline-block;\n",
       "  padding: 0;\n",
       "  margin: 0;\n",
       "}\n",
       "\n",
       ".xr-dim-list:before {\n",
       "  content: '(';\n",
       "}\n",
       "\n",
       ".xr-dim-list:after {\n",
       "  content: ')';\n",
       "}\n",
       "\n",
       ".xr-dim-list li:not(:last-child):after {\n",
       "  content: ',';\n",
       "  padding-right: 5px;\n",
       "}\n",
       "\n",
       ".xr-has-index {\n",
       "  font-weight: bold;\n",
       "}\n",
       "\n",
       ".xr-var-list,\n",
       ".xr-var-item {\n",
       "  display: contents;\n",
       "}\n",
       "\n",
       ".xr-var-item > div,\n",
       ".xr-var-item label,\n",
       ".xr-var-item > .xr-var-name span {\n",
       "  background-color: var(--xr-background-color-row-even);\n",
       "  margin-bottom: 0;\n",
       "}\n",
       "\n",
       ".xr-var-item > .xr-var-name:hover span {\n",
       "  padding-right: 5px;\n",
       "}\n",
       "\n",
       ".xr-var-list > li:nth-child(odd) > div,\n",
       ".xr-var-list > li:nth-child(odd) > label,\n",
       ".xr-var-list > li:nth-child(odd) > .xr-var-name span {\n",
       "  background-color: var(--xr-background-color-row-odd);\n",
       "}\n",
       "\n",
       ".xr-var-name {\n",
       "  grid-column: 1;\n",
       "}\n",
       "\n",
       ".xr-var-dims {\n",
       "  grid-column: 2;\n",
       "}\n",
       "\n",
       ".xr-var-dtype {\n",
       "  grid-column: 3;\n",
       "  text-align: right;\n",
       "  color: var(--xr-font-color2);\n",
       "}\n",
       "\n",
       ".xr-var-preview {\n",
       "  grid-column: 4;\n",
       "}\n",
       "\n",
       ".xr-index-preview {\n",
       "  grid-column: 2 / 5;\n",
       "  color: var(--xr-font-color2);\n",
       "}\n",
       "\n",
       ".xr-var-name,\n",
       ".xr-var-dims,\n",
       ".xr-var-dtype,\n",
       ".xr-preview,\n",
       ".xr-attrs dt {\n",
       "  white-space: nowrap;\n",
       "  overflow: hidden;\n",
       "  text-overflow: ellipsis;\n",
       "  padding-right: 10px;\n",
       "}\n",
       "\n",
       ".xr-var-name:hover,\n",
       ".xr-var-dims:hover,\n",
       ".xr-var-dtype:hover,\n",
       ".xr-attrs dt:hover {\n",
       "  overflow: visible;\n",
       "  width: auto;\n",
       "  z-index: 1;\n",
       "}\n",
       "\n",
       ".xr-var-attrs,\n",
       ".xr-var-data,\n",
       ".xr-index-data {\n",
       "  display: none;\n",
       "  background-color: var(--xr-background-color) !important;\n",
       "  padding-bottom: 5px !important;\n",
       "}\n",
       "\n",
       ".xr-var-attrs-in:checked ~ .xr-var-attrs,\n",
       ".xr-var-data-in:checked ~ .xr-var-data,\n",
       ".xr-index-data-in:checked ~ .xr-index-data {\n",
       "  display: block;\n",
       "}\n",
       "\n",
       ".xr-var-data > table {\n",
       "  float: right;\n",
       "}\n",
       "\n",
       ".xr-var-name span,\n",
       ".xr-var-data,\n",
       ".xr-index-name div,\n",
       ".xr-index-data,\n",
       ".xr-attrs {\n",
       "  padding-left: 25px !important;\n",
       "}\n",
       "\n",
       ".xr-attrs,\n",
       ".xr-var-attrs,\n",
       ".xr-var-data,\n",
       ".xr-index-data {\n",
       "  grid-column: 1 / -1;\n",
       "}\n",
       "\n",
       "dl.xr-attrs {\n",
       "  padding: 0;\n",
       "  margin: 0;\n",
       "  display: grid;\n",
       "  grid-template-columns: 125px auto;\n",
       "}\n",
       "\n",
       ".xr-attrs dt,\n",
       ".xr-attrs dd {\n",
       "  padding: 0;\n",
       "  margin: 0;\n",
       "  float: left;\n",
       "  padding-right: 10px;\n",
       "  width: auto;\n",
       "}\n",
       "\n",
       ".xr-attrs dt {\n",
       "  font-weight: normal;\n",
       "  grid-column: 1;\n",
       "}\n",
       "\n",
       ".xr-attrs dt:hover span {\n",
       "  display: inline-block;\n",
       "  background: var(--xr-background-color);\n",
       "  padding-right: 10px;\n",
       "}\n",
       "\n",
       ".xr-attrs dd {\n",
       "  grid-column: 2;\n",
       "  white-space: pre-wrap;\n",
       "  word-break: break-all;\n",
       "}\n",
       "\n",
       ".xr-icon-database,\n",
       ".xr-icon-file-text2,\n",
       ".xr-no-icon {\n",
       "  display: inline-block;\n",
       "  vertical-align: middle;\n",
       "  width: 1em;\n",
       "  height: 1.5em !important;\n",
       "  stroke-width: 0;\n",
       "  stroke: currentColor;\n",
       "  fill: currentColor;\n",
       "}\n",
       "</style><pre class='xr-text-repr-fallback'>&lt;TimeSeries (DataArray) (date_ms: 5, component: 1, sample: 1)&gt;\n",
       "array([[[0.        ]],\n",
       "\n",
       "       [[0.01495573]],\n",
       "\n",
       "       [[0.03048087]],\n",
       "\n",
       "       [[0.03866072]],\n",
       "\n",
       "       [[0.04636002]]])\n",
       "Coordinates:\n",
       "  * date_ms    (date_ms) datetime64[ns] 2015-04-01 2015-05-01 ... 2015-08-01\n",
       "  * component  (component) object &#x27;ZORI&#x27;\n",
       "Dimensions without coordinates: sample\n",
       "Attributes:\n",
       "    static_covariates:  None\n",
       "    hierarchy:          None</pre><div class='xr-wrap' style='display:none'><div class='xr-header'><div class='xr-obj-type'>TimeSeries (DataArray)</div><div class='xr-array-name'></div><ul class='xr-dim-list'><li><span class='xr-has-index'>date_ms</span>: 5</li><li><span class='xr-has-index'>component</span>: 1</li><li><span>sample</span>: 1</li></ul></div><ul class='xr-sections'><li class='xr-section-item'><div class='xr-array-wrap'><input id='section-f0ff0a7b-7142-4ef2-9183-29fc16bc4586' class='xr-array-in' type='checkbox' checked><label for='section-f0ff0a7b-7142-4ef2-9183-29fc16bc4586' title='Show/hide data repr'><svg class='icon xr-icon-database'><use xlink:href='#icon-database'></use></svg></label><div class='xr-array-preview xr-preview'><span>0.0 0.01496 0.03048 0.03866 0.04636</span></div><div class='xr-array-data'><pre>array([[[0.        ]],\n",
       "\n",
       "       [[0.01495573]],\n",
       "\n",
       "       [[0.03048087]],\n",
       "\n",
       "       [[0.03866072]],\n",
       "\n",
       "       [[0.04636002]]])</pre></div></div></li><li class='xr-section-item'><input id='section-b19d134c-18fd-4cdb-8102-359e11e27544' class='xr-section-summary-in' type='checkbox'  checked><label for='section-b19d134c-18fd-4cdb-8102-359e11e27544' class='xr-section-summary' >Coordinates: <span>(2)</span></label><div class='xr-section-inline-details'></div><div class='xr-section-details'><ul class='xr-var-list'><li class='xr-var-item'><div class='xr-var-name'><span class='xr-has-index'>date_ms</span></div><div class='xr-var-dims'>(date_ms)</div><div class='xr-var-dtype'>datetime64[ns]</div><div class='xr-var-preview xr-preview'>2015-04-01 ... 2015-08-01</div><input id='attrs-2de94324-6de6-40aa-bc6b-13419aa6c8f7' class='xr-var-attrs-in' type='checkbox' disabled><label for='attrs-2de94324-6de6-40aa-bc6b-13419aa6c8f7' title='Show/Hide attributes'><svg class='icon xr-icon-file-text2'><use xlink:href='#icon-file-text2'></use></svg></label><input id='data-12b26c56-8302-445e-ac50-b82d6a44de33' class='xr-var-data-in' type='checkbox'><label for='data-12b26c56-8302-445e-ac50-b82d6a44de33' title='Show/Hide data repr'><svg class='icon xr-icon-database'><use xlink:href='#icon-database'></use></svg></label><div class='xr-var-attrs'><dl class='xr-attrs'></dl></div><div class='xr-var-data'><pre>array([&#x27;2015-04-01T00:00:00.000000000&#x27;, &#x27;2015-05-01T00:00:00.000000000&#x27;,\n",
       "       &#x27;2015-06-01T00:00:00.000000000&#x27;, &#x27;2015-07-01T00:00:00.000000000&#x27;,\n",
       "       &#x27;2015-08-01T00:00:00.000000000&#x27;], dtype=&#x27;datetime64[ns]&#x27;)</pre></div></li><li class='xr-var-item'><div class='xr-var-name'><span class='xr-has-index'>component</span></div><div class='xr-var-dims'>(component)</div><div class='xr-var-dtype'>object</div><div class='xr-var-preview xr-preview'>&#x27;ZORI&#x27;</div><input id='attrs-44d4c1e8-7318-4431-8d94-aff87949ee49' class='xr-var-attrs-in' type='checkbox' disabled><label for='attrs-44d4c1e8-7318-4431-8d94-aff87949ee49' title='Show/Hide attributes'><svg class='icon xr-icon-file-text2'><use xlink:href='#icon-file-text2'></use></svg></label><input id='data-deaf9db2-701f-48b0-a710-b75b9c8a9926' class='xr-var-data-in' type='checkbox'><label for='data-deaf9db2-701f-48b0-a710-b75b9c8a9926' title='Show/Hide data repr'><svg class='icon xr-icon-database'><use xlink:href='#icon-database'></use></svg></label><div class='xr-var-attrs'><dl class='xr-attrs'></dl></div><div class='xr-var-data'><pre>array([&#x27;ZORI&#x27;], dtype=object)</pre></div></li></ul></div></li><li class='xr-section-item'><input id='section-6c487cf0-5780-4990-bef0-8de511ff149d' class='xr-section-summary-in' type='checkbox'  ><label for='section-6c487cf0-5780-4990-bef0-8de511ff149d' class='xr-section-summary' >Indexes: <span>(2)</span></label><div class='xr-section-inline-details'></div><div class='xr-section-details'><ul class='xr-var-list'><li class='xr-var-item'><div class='xr-index-name'><div>date_ms</div></div><div class='xr-index-preview'>PandasIndex</div><div></div><input id='index-edb3079f-4cfb-4238-a20c-7d5e53e9e03e' class='xr-index-data-in' type='checkbox'/><label for='index-edb3079f-4cfb-4238-a20c-7d5e53e9e03e' title='Show/Hide index repr'><svg class='icon xr-icon-database'><use xlink:href='#icon-database'></use></svg></label><div class='xr-index-data'><pre>PandasIndex(DatetimeIndex([&#x27;2015-04-01&#x27;, &#x27;2015-05-01&#x27;, &#x27;2015-06-01&#x27;, &#x27;2015-07-01&#x27;,\n",
       "               &#x27;2015-08-01&#x27;],\n",
       "              dtype=&#x27;datetime64[ns]&#x27;, name=&#x27;date_ms&#x27;, freq=&#x27;MS&#x27;))</pre></div></li><li class='xr-var-item'><div class='xr-index-name'><div>component</div></div><div class='xr-index-preview'>PandasIndex</div><div></div><input id='index-083aa650-8366-4bb5-b74b-97afe011d1d4' class='xr-index-data-in' type='checkbox'/><label for='index-083aa650-8366-4bb5-b74b-97afe011d1d4' title='Show/Hide index repr'><svg class='icon xr-icon-database'><use xlink:href='#icon-database'></use></svg></label><div class='xr-index-data'><pre>PandasIndex(Index([&#x27;ZORI&#x27;], dtype=&#x27;object&#x27;, name=&#x27;component&#x27;))</pre></div></li></ul></div></li><li class='xr-section-item'><input id='section-45ec2e72-975a-4cbf-98b3-3c87c40bb7c1' class='xr-section-summary-in' type='checkbox'  checked><label for='section-45ec2e72-975a-4cbf-98b3-3c87c40bb7c1' class='xr-section-summary' >Attributes: <span>(2)</span></label><div class='xr-section-inline-details'></div><div class='xr-section-details'><dl class='xr-attrs'><dt><span>static_covariates :</span></dt><dd>None</dd><dt><span>hierarchy :</span></dt><dd>None</dd></dl></div></li></ul></div></div>"
      ],
      "text/plain": [
       "<TimeSeries (DataArray) (date_ms: 5, component: 1, sample: 1)>\n",
       "array([[[0.        ]],\n",
       "\n",
       "       [[0.01495573]],\n",
       "\n",
       "       [[0.03048087]],\n",
       "\n",
       "       [[0.03866072]],\n",
       "\n",
       "       [[0.04636002]]])\n",
       "Coordinates:\n",
       "  * date_ms    (date_ms) datetime64[ns] 2015-04-01 2015-05-01 ... 2015-08-01\n",
       "  * component  (component) object 'ZORI'\n",
       "Dimensions without coordinates: sample\n",
       "Attributes:\n",
       "    static_covariates:  None\n",
       "    hierarchy:          None"
      ]
     },
     "execution_count": 99,
     "metadata": {},
     "output_type": "execute_result"
    }
   ],
   "source": [
    "zori_ts_scaled.head()"
   ]
  },
  {
   "cell_type": "markdown",
   "id": "8ca70b25-6d9c-46b3-ab14-9e5f11952eaa",
   "metadata": {},
   "source": [
    "**Question 5.2:** Using the `TimeSeries.from_dataframe` method, create a time series called `cpi_ts` using the `comb_data` dataframe, `date_ms` date column, and `CPI` values."
   ]
  },
  {
   "cell_type": "code",
   "execution_count": 101,
   "id": "a29042b2-cf9c-488a-b992-96eec3d27604",
   "metadata": {},
   "outputs": [],
   "source": [
    "cpi_ts = TimeSeries.from_dataframe(comb_data, time_col=\"date_ms\",value_cols=\"CPI\")"
   ]
  },
  {
   "cell_type": "markdown",
   "id": "2535598c-a6df-449f-8148-92ff5f34d2c5",
   "metadata": {},
   "source": [
    "**Question 5.3:** Scale the `cpi_ts` time series using the `Scaler()` function. Assign the `Scaler` to the variable `cpi_scaler` and the scaled time series to `cpi_ts_scaled`."
   ]
  },
  {
   "cell_type": "code",
   "execution_count": 102,
   "id": "7af0c3b3-955d-4edc-8e88-d2f686d0c57a",
   "metadata": {},
   "outputs": [],
   "source": [
    "cpi_scaler = Scaler()\n",
    "cpi_ts_scaled = cpi_scaler.fit_transform(cpi_ts)"
   ]
  },
  {
   "cell_type": "markdown",
   "id": "bace8cfe-1274-4e85-ae0a-698f8bd23df9",
   "metadata": {},
   "source": [
    "For training and testing, we will split so our training set ends in 2021 and our test set will begin in 2022. "
   ]
  },
  {
   "cell_type": "code",
   "execution_count": 103,
   "id": "f95b5a07-bbe1-4811-84ff-2fb8ae7da97e",
   "metadata": {},
   "outputs": [],
   "source": [
    "zori_ts_train, zori_ts_val = zori_ts_scaled.split_after(pd.Timestamp(\"2021-12-01\"))"
   ]
  },
  {
   "cell_type": "code",
   "execution_count": 104,
   "id": "7765ebde-d537-46bb-9eac-ec10f85ca779",
   "metadata": {},
   "outputs": [],
   "source": [
    "cpi_ts_train, cpi_ts_val = cpi_ts_scaled.split_after(pd.Timestamp(\"2021-12-01\"))"
   ]
  },
  {
   "cell_type": "markdown",
   "id": "90d3e42f-8c41-448d-9c0b-d8c92afe1783",
   "metadata": {},
   "source": [
    "**Question 5.4:** Create a N-HiTS model with `input_chunk_length` = 24, and `output_chunk_length` equal to the length of our validation/testing data."
   ]
  },
  {
   "cell_type": "code",
   "execution_count": 105,
   "id": "766a8215-d240-46e2-a663-8900d609ca26",
   "metadata": {},
   "outputs": [],
   "source": [
    "model = NHiTSModel(input_chunk_length=24, output_chunk_length=len(cpi_ts_val))"
   ]
  },
  {
   "cell_type": "markdown",
   "id": "df580a33-01ab-43d2-8937-0b2d2760db18",
   "metadata": {},
   "source": [
    "**Question 5.5**: Fit the N-HiTS `model` with `cpi_ts_train` as the `series`, `past_covariates` as `zori_ts_train`. For the `epochs` argument, experiment with different numbers (start with 100) to get an accuracy of 95% or higher. *The more epochs you add will allow the model to train longer but will take longer to run.*"
   ]
  },
  {
   "cell_type": "code",
   "execution_count": 107,
   "id": "48df7054-b79b-4f66-983c-fc37682857e5",
   "metadata": {},
   "outputs": [
    {
     "name": "stderr",
     "output_type": "stream",
     "text": [
      "GPU available: False, used: False\n",
      "TPU available: False, using: 0 TPU cores\n",
      "IPU available: False, using: 0 IPUs\n",
      "HPU available: False, using: 0 HPUs\n",
      "\n",
      "  | Name          | Type             | Params\n",
      "---------------------------------------------------\n",
      "0 | criterion     | MSELoss          | 0     \n",
      "1 | train_metrics | MetricCollection | 0     \n",
      "2 | val_metrics   | MetricCollection | 0     \n",
      "3 | stacks        | ModuleList       | 881 K \n",
      "---------------------------------------------------\n",
      "857 K     Trainable params\n",
      "24.6 K    Non-trainable params\n",
      "881 K     Total params\n",
      "7.054     Total estimated model params size (MB)\n"
     ]
    },
    {
     "name": "stdout",
     "output_type": "stream",
     "text": [
      "Epoch 499: 100%|██████████████████████████████████████| 2/2 [00:00<00:00, 18.18it/s, loss=5.73e-05, train_loss=6.08e-5]"
     ]
    },
    {
     "name": "stderr",
     "output_type": "stream",
     "text": [
      "`Trainer.fit` stopped: `max_epochs=500` reached.\n"
     ]
    },
    {
     "name": "stdout",
     "output_type": "stream",
     "text": [
      "Epoch 499: 100%|██████████████████████████████████████| 2/2 [00:00<00:00, 16.80it/s, loss=5.73e-05, train_loss=6.08e-5]\n"
     ]
    },
    {
     "data": {
      "text/plain": [
       "<darts.models.forecasting.nhits.NHiTSModel at 0x1c12c5f3f10>"
      ]
     },
     "execution_count": 107,
     "metadata": {},
     "output_type": "execute_result"
    }
   ],
   "source": [
    "model.fit(series=cpi_ts_train, past_covariates=zori_ts_train, epochs=500)"
   ]
  },
  {
   "cell_type": "markdown",
   "id": "4d6383b7-984d-461d-97a4-1209fd6f2507",
   "metadata": {},
   "source": [
    "**Question 5.6:** Create a prediction using the `predict` method. Set `n` to be the length of the `cpi_ts_val`, select `zori_ts_train` as the `past_covariates`. This will allow the model to use the relationship of these time series to better predict CPI in the future. Select `cpi_ts_train` as the `series`. Assign your predictions to the `scaled_predictions` variable."
   ]
  },
  {
   "cell_type": "code",
   "execution_count": 108,
   "id": "04aa61b8-23bf-4183-9061-2efa800f9adb",
   "metadata": {},
   "outputs": [
    {
     "name": "stderr",
     "output_type": "stream",
     "text": [
      "GPU available: False, used: False\n",
      "TPU available: False, using: 0 TPU cores\n",
      "IPU available: False, using: 0 IPUs\n",
      "HPU available: False, using: 0 HPUs\n"
     ]
    },
    {
     "name": "stdout",
     "output_type": "stream",
     "text": [
      "Predicting DataLoader 0: 100%|███████████████████████████████████████████████████████████| 1/1 [00:00<00:00, 49.70it/s]\n"
     ]
    }
   ],
   "source": [
    "scaled_predictions = model.predict(n=len(cpi_ts_val), past_covariates=zori_ts_train, series=cpi_ts_train)"
   ]
  },
  {
   "cell_type": "markdown",
   "id": "bb5b9391-3a16-45f5-bd4e-343a17b71430",
   "metadata": {},
   "source": [
    "**Question 5.7:** Inverse the scaled predictions by using the `inverse_transform` method on the `cpi_scaler` scaler. Use your predictions `scaled_predictions` for the data."
   ]
  },
  {
   "cell_type": "code",
   "execution_count": 109,
   "id": "16ded72e-2779-48fa-96c0-34bbb3552c53",
   "metadata": {},
   "outputs": [],
   "source": [
    "prediction = cpi_scaler.inverse_transform(scaled_predictions)"
   ]
  },
  {
   "cell_type": "markdown",
   "id": "599b1405-eda6-454b-a5f1-275581e21d72",
   "metadata": {},
   "source": [
    "Now that we have our predictions, we can plot them against the actual values for the testing period. "
   ]
  },
  {
   "cell_type": "code",
   "execution_count": 110,
   "id": "11ec9605-7c59-4568-b1a0-f82cabfc4993",
   "metadata": {},
   "outputs": [
    {
     "name": "stdout",
     "output_type": "stream",
     "text": [
      "Accuracy:  0.96\n"
     ]
    },
    {
     "data": {
      "image/png": "[encoded data removed]",
      "text/plain": [
       "<Figure size 1000x300 with 1 Axes>"
      ]
     },
     "metadata": {},
     "output_type": "display_data"
    }
   ],
   "source": [
    "cpi_ts.plot(label = 'actual')\n",
    "prediction.plot(label = 'forecast', lw = 3)\n",
    "accuracy=(1-sum(abs(cpi_scaler.inverse_transform(cpi_ts_val).values()-prediction.values())/prediction.values()))[0]\n",
    "print(\"Accuracy: \",np.round(accuracy,2))\n",
    "plt.legend();"
   ]
  },
  {
   "cell_type": "markdown",
   "id": "d46d9ad5-8b78-4b58-a91b-33563e920b73",
   "metadata": {},
   "source": [
    "Depending on our accuracy, you might need to adjust the `epochs` parameter in the **Question 5.5**. A higher number of epochs could increase your accuracy."
   ]
  },
  {
   "cell_type": "code",
   "execution_count": null,
   "id": "8c96569f-97ad-4505-9777-9908429907d7",
   "metadata": {},
   "outputs": [],
   "source": []
  },
  {
   "cell_type": "code",
   "execution_count": null,
   "id": "c184f46a-35ad-4272-8570-536723535048",
   "metadata": {},
   "outputs": [],
   "source": []
  }
 ],
 "metadata": {
  "kernelspec": {
   "display_name": "Python 3 (ipykernel)",
   "language": "python",
   "name": "python3"
  },
  "language_info": {
   "codemirror_mode": {
    "name": "ipython",
    "version": 3
   },
   "file_extension": ".py",
   "mimetype": "text/x-python",
   "name": "python",
   "nbconvert_exporter": "python",
   "pygments_lexer": "ipython3",
   "version": "3.9.15"
  }
 },
 "nbformat": 4,
 "nbformat_minor": 5
}
