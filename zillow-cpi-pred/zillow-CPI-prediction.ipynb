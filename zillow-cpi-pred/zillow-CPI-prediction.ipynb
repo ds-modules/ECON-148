{
 "cells": [
  {
   "cell_type": "markdown",
   "id": "3d8df175",
   "metadata": {},
   "source": [
    "# ECON 148 - Using Zillow to Predict CPI"
   ]
  },
  {
   "cell_type": "markdown",
   "id": "ee6a8bba",
   "metadata": {},
   "source": [
    "## Introduction\n",
    "In this notebook, we're going to try to use data from Zillow (specifically, their ZORI index) to see if we can use it to predict the US consumer price index."
   ]
  },
  {
   "cell_type": "markdown",
   "id": "ac292572",
   "metadata": {},
   "source": [
    "Run the following cell to import our standard packages."
   ]
  },
  {
   "cell_type": "code",
   "execution_count": 11,
   "id": "fb2a7ce5",
   "metadata": {},
   "outputs": [],
   "source": [
    "import pandas as pd\n",
    "import numpy as np\n",
    "import seaborn as sns\n",
    "import matplotlib as plt\n",
    "from scipy import stats\n",
    "%matplotlib inline"
   ]
  },
  {
   "cell_type": "markdown",
   "id": "c173644a",
   "metadata": {},
   "source": [
    "We've downloaded the ZORI index for you from https://www.zillow.com/research/data/"
   ]
  },
  {
   "cell_type": "code",
   "execution_count": 5,
   "id": "ae8c3f41",
   "metadata": {},
   "outputs": [],
   "source": [
    "zori = pd.read_csv(\"zori1.csv\")"
   ]
  },
  {
   "cell_type": "markdown",
   "id": "bec7bd0f",
   "metadata": {},
   "source": [
    "Run the following cell to display information about the ZORI index. What can you tell from the data?"
   ]
  },
  {
   "cell_type": "code",
   "execution_count": 6,
   "id": "6e62e124",
   "metadata": {
    "scrolled": true
   },
   "outputs": [
    {
     "data": {
      "text/html": [
       "<div>\n",
       "<style scoped>\n",
       "    .dataframe tbody tr th:only-of-type {\n",
       "        vertical-align: middle;\n",
       "    }\n",
       "\n",
       "    .dataframe tbody tr th {\n",
       "        vertical-align: top;\n",
       "    }\n",
       "\n",
       "    .dataframe thead th {\n",
       "        text-align: right;\n",
       "    }\n",
       "</style>\n",
       "<table border=\"1\" class=\"dataframe\">\n",
       "  <thead>\n",
       "    <tr style=\"text-align: right;\">\n",
       "      <th></th>\n",
       "      <th>RegionID</th>\n",
       "      <th>SizeRank</th>\n",
       "      <th>RegionName</th>\n",
       "      <th>RegionType</th>\n",
       "      <th>StateName</th>\n",
       "      <th>2015-03-31</th>\n",
       "      <th>2015-04-30</th>\n",
       "      <th>2015-05-31</th>\n",
       "      <th>2015-06-30</th>\n",
       "      <th>2015-07-31</th>\n",
       "      <th>...</th>\n",
       "      <th>2021-12-31</th>\n",
       "      <th>2022-01-31</th>\n",
       "      <th>2022-02-28</th>\n",
       "      <th>2022-03-31</th>\n",
       "      <th>2022-04-30</th>\n",
       "      <th>2022-05-31</th>\n",
       "      <th>2022-06-30</th>\n",
       "      <th>2022-07-31</th>\n",
       "      <th>2022-08-31</th>\n",
       "      <th>2022-09-30</th>\n",
       "    </tr>\n",
       "  </thead>\n",
       "  <tbody>\n",
       "    <tr>\n",
       "      <th>0</th>\n",
       "      <td>102001</td>\n",
       "      <td>0</td>\n",
       "      <td>United States</td>\n",
       "      <td>country</td>\n",
       "      <td>NaN</td>\n",
       "      <td>1370.301806</td>\n",
       "      <td>1381.971304</td>\n",
       "      <td>1392.389090</td>\n",
       "      <td>1403.203509</td>\n",
       "      <td>1408.901384</td>\n",
       "      <td>...</td>\n",
       "      <td>1928.945108</td>\n",
       "      <td>1937.304351</td>\n",
       "      <td>1955.272060</td>\n",
       "      <td>1971.256988</td>\n",
       "      <td>1997.731260</td>\n",
       "      <td>2019.752839</td>\n",
       "      <td>2044.662959</td>\n",
       "      <td>2065.275748</td>\n",
       "      <td>2078.546078</td>\n",
       "      <td>2084.084210</td>\n",
       "    </tr>\n",
       "    <tr>\n",
       "      <th>1</th>\n",
       "      <td>394913</td>\n",
       "      <td>1</td>\n",
       "      <td>New York, NY</td>\n",
       "      <td>msa</td>\n",
       "      <td>NY</td>\n",
       "      <td>2506.196326</td>\n",
       "      <td>2533.311441</td>\n",
       "      <td>2552.989317</td>\n",
       "      <td>2570.501028</td>\n",
       "      <td>2573.663435</td>\n",
       "      <td>...</td>\n",
       "      <td>2957.725252</td>\n",
       "      <td>2984.899451</td>\n",
       "      <td>3032.151836</td>\n",
       "      <td>3082.959790</td>\n",
       "      <td>3142.381057</td>\n",
       "      <td>3201.035347</td>\n",
       "      <td>3258.611614</td>\n",
       "      <td>3308.938574</td>\n",
       "      <td>3327.647323</td>\n",
       "      <td>3321.271717</td>\n",
       "    </tr>\n",
       "    <tr>\n",
       "      <th>2</th>\n",
       "      <td>753899</td>\n",
       "      <td>2</td>\n",
       "      <td>Los Angeles, CA</td>\n",
       "      <td>msa</td>\n",
       "      <td>CA</td>\n",
       "      <td>1977.874325</td>\n",
       "      <td>1990.644815</td>\n",
       "      <td>2004.443160</td>\n",
       "      <td>2016.922137</td>\n",
       "      <td>2031.255505</td>\n",
       "      <td>...</td>\n",
       "      <td>2808.206899</td>\n",
       "      <td>2825.516662</td>\n",
       "      <td>2850.339483</td>\n",
       "      <td>2881.506596</td>\n",
       "      <td>2919.113666</td>\n",
       "      <td>2953.089197</td>\n",
       "      <td>2978.850604</td>\n",
       "      <td>2999.777869</td>\n",
       "      <td>3013.211794</td>\n",
       "      <td>3019.026316</td>\n",
       "    </tr>\n",
       "    <tr>\n",
       "      <th>3</th>\n",
       "      <td>394463</td>\n",
       "      <td>3</td>\n",
       "      <td>Chicago, IL</td>\n",
       "      <td>msa</td>\n",
       "      <td>IL</td>\n",
       "      <td>1478.149264</td>\n",
       "      <td>1490.961012</td>\n",
       "      <td>1502.702134</td>\n",
       "      <td>1528.952557</td>\n",
       "      <td>1535.997197</td>\n",
       "      <td>...</td>\n",
       "      <td>1795.629571</td>\n",
       "      <td>1808.471849</td>\n",
       "      <td>1823.778075</td>\n",
       "      <td>1843.010280</td>\n",
       "      <td>1865.307537</td>\n",
       "      <td>1890.513951</td>\n",
       "      <td>1911.437953</td>\n",
       "      <td>1930.811578</td>\n",
       "      <td>1939.370439</td>\n",
       "      <td>1941.933786</td>\n",
       "    </tr>\n",
       "    <tr>\n",
       "      <th>4</th>\n",
       "      <td>394514</td>\n",
       "      <td>4</td>\n",
       "      <td>Dallas, TX</td>\n",
       "      <td>msa</td>\n",
       "      <td>TX</td>\n",
       "      <td>1180.713035</td>\n",
       "      <td>1191.112125</td>\n",
       "      <td>1202.397600</td>\n",
       "      <td>1209.409429</td>\n",
       "      <td>1216.117716</td>\n",
       "      <td>...</td>\n",
       "      <td>1724.699775</td>\n",
       "      <td>1736.260930</td>\n",
       "      <td>1747.886285</td>\n",
       "      <td>1758.449166</td>\n",
       "      <td>1780.575633</td>\n",
       "      <td>1807.486899</td>\n",
       "      <td>1842.009269</td>\n",
       "      <td>1866.378789</td>\n",
       "      <td>1876.715983</td>\n",
       "      <td>1875.844643</td>\n",
       "    </tr>\n",
       "    <tr>\n",
       "      <th>...</th>\n",
       "      <td>...</td>\n",
       "      <td>...</td>\n",
       "      <td>...</td>\n",
       "      <td>...</td>\n",
       "      <td>...</td>\n",
       "      <td>...</td>\n",
       "      <td>...</td>\n",
       "      <td>...</td>\n",
       "      <td>...</td>\n",
       "      <td>...</td>\n",
       "      <td>...</td>\n",
       "      <td>...</td>\n",
       "      <td>...</td>\n",
       "      <td>...</td>\n",
       "      <td>...</td>\n",
       "      <td>...</td>\n",
       "      <td>...</td>\n",
       "      <td>...</td>\n",
       "      <td>...</td>\n",
       "      <td>...</td>\n",
       "      <td>...</td>\n",
       "    </tr>\n",
       "    <tr>\n",
       "      <th>574</th>\n",
       "      <td>394322</td>\n",
       "      <td>861</td>\n",
       "      <td>Altus, OK</td>\n",
       "      <td>msa</td>\n",
       "      <td>OK</td>\n",
       "      <td>404.816596</td>\n",
       "      <td>NaN</td>\n",
       "      <td>417.170690</td>\n",
       "      <td>NaN</td>\n",
       "      <td>NaN</td>\n",
       "      <td>...</td>\n",
       "      <td>NaN</td>\n",
       "      <td>NaN</td>\n",
       "      <td>NaN</td>\n",
       "      <td>735.821384</td>\n",
       "      <td>732.921061</td>\n",
       "      <td>771.810020</td>\n",
       "      <td>755.232683</td>\n",
       "      <td>810.606473</td>\n",
       "      <td>750.000000</td>\n",
       "      <td>821.649685</td>\n",
       "    </tr>\n",
       "    <tr>\n",
       "      <th>575</th>\n",
       "      <td>394687</td>\n",
       "      <td>869</td>\n",
       "      <td>Hood River, OR</td>\n",
       "      <td>msa</td>\n",
       "      <td>OR</td>\n",
       "      <td>NaN</td>\n",
       "      <td>NaN</td>\n",
       "      <td>NaN</td>\n",
       "      <td>708.148593</td>\n",
       "      <td>NaN</td>\n",
       "      <td>...</td>\n",
       "      <td>NaN</td>\n",
       "      <td>2039.794902</td>\n",
       "      <td>NaN</td>\n",
       "      <td>2061.477514</td>\n",
       "      <td>2053.911628</td>\n",
       "      <td>2293.863629</td>\n",
       "      <td>2446.688466</td>\n",
       "      <td>2573.551207</td>\n",
       "      <td>2575.000000</td>\n",
       "      <td>2617.167354</td>\n",
       "    </tr>\n",
       "    <tr>\n",
       "      <th>576</th>\n",
       "      <td>394718</td>\n",
       "      <td>892</td>\n",
       "      <td>Jamestown, ND</td>\n",
       "      <td>msa</td>\n",
       "      <td>ND</td>\n",
       "      <td>NaN</td>\n",
       "      <td>NaN</td>\n",
       "      <td>NaN</td>\n",
       "      <td>NaN</td>\n",
       "      <td>NaN</td>\n",
       "      <td>...</td>\n",
       "      <td>643.033893</td>\n",
       "      <td>632.188630</td>\n",
       "      <td>NaN</td>\n",
       "      <td>668.388884</td>\n",
       "      <td>715.417127</td>\n",
       "      <td>687.157390</td>\n",
       "      <td>702.818101</td>\n",
       "      <td>729.449277</td>\n",
       "      <td>771.000000</td>\n",
       "      <td>795.646586</td>\n",
       "    </tr>\n",
       "    <tr>\n",
       "      <th>577</th>\n",
       "      <td>394330</td>\n",
       "      <td>906</td>\n",
       "      <td>Andrews, TX</td>\n",
       "      <td>msa</td>\n",
       "      <td>TX</td>\n",
       "      <td>NaN</td>\n",
       "      <td>NaN</td>\n",
       "      <td>480.844237</td>\n",
       "      <td>470.002683</td>\n",
       "      <td>NaN</td>\n",
       "      <td>...</td>\n",
       "      <td>NaN</td>\n",
       "      <td>901.423609</td>\n",
       "      <td>NaN</td>\n",
       "      <td>NaN</td>\n",
       "      <td>NaN</td>\n",
       "      <td>NaN</td>\n",
       "      <td>NaN</td>\n",
       "      <td>NaN</td>\n",
       "      <td>962.000000</td>\n",
       "      <td>1019.826674</td>\n",
       "    </tr>\n",
       "    <tr>\n",
       "      <th>578</th>\n",
       "      <td>394996</td>\n",
       "      <td>907</td>\n",
       "      <td>Portales, NM</td>\n",
       "      <td>msa</td>\n",
       "      <td>NM</td>\n",
       "      <td>517.203126</td>\n",
       "      <td>516.728308</td>\n",
       "      <td>526.970302</td>\n",
       "      <td>529.436634</td>\n",
       "      <td>531.612792</td>\n",
       "      <td>...</td>\n",
       "      <td>NaN</td>\n",
       "      <td>812.564382</td>\n",
       "      <td>816.337611</td>\n",
       "      <td>774.215873</td>\n",
       "      <td>781.403240</td>\n",
       "      <td>778.818450</td>\n",
       "      <td>800.955182</td>\n",
       "      <td>832.421311</td>\n",
       "      <td>850.000000</td>\n",
       "      <td>840.276292</td>\n",
       "    </tr>\n",
       "  </tbody>\n",
       "</table>\n",
       "<p>579 rows × 96 columns</p>\n",
       "</div>"
      ],
      "text/plain": [
       "     RegionID  SizeRank       RegionName RegionType StateName   2015-03-31  \\\n",
       "0      102001         0    United States    country       NaN  1370.301806   \n",
       "1      394913         1     New York, NY        msa        NY  2506.196326   \n",
       "2      753899         2  Los Angeles, CA        msa        CA  1977.874325   \n",
       "3      394463         3      Chicago, IL        msa        IL  1478.149264   \n",
       "4      394514         4       Dallas, TX        msa        TX  1180.713035   \n",
       "..        ...       ...              ...        ...       ...          ...   \n",
       "574    394322       861        Altus, OK        msa        OK   404.816596   \n",
       "575    394687       869   Hood River, OR        msa        OR          NaN   \n",
       "576    394718       892    Jamestown, ND        msa        ND          NaN   \n",
       "577    394330       906      Andrews, TX        msa        TX          NaN   \n",
       "578    394996       907     Portales, NM        msa        NM   517.203126   \n",
       "\n",
       "      2015-04-30   2015-05-31   2015-06-30   2015-07-31  ...   2021-12-31  \\\n",
       "0    1381.971304  1392.389090  1403.203509  1408.901384  ...  1928.945108   \n",
       "1    2533.311441  2552.989317  2570.501028  2573.663435  ...  2957.725252   \n",
       "2    1990.644815  2004.443160  2016.922137  2031.255505  ...  2808.206899   \n",
       "3    1490.961012  1502.702134  1528.952557  1535.997197  ...  1795.629571   \n",
       "4    1191.112125  1202.397600  1209.409429  1216.117716  ...  1724.699775   \n",
       "..           ...          ...          ...          ...  ...          ...   \n",
       "574          NaN   417.170690          NaN          NaN  ...          NaN   \n",
       "575          NaN          NaN   708.148593          NaN  ...          NaN   \n",
       "576          NaN          NaN          NaN          NaN  ...   643.033893   \n",
       "577          NaN   480.844237   470.002683          NaN  ...          NaN   \n",
       "578   516.728308   526.970302   529.436634   531.612792  ...          NaN   \n",
       "\n",
       "      2022-01-31   2022-02-28   2022-03-31   2022-04-30   2022-05-31  \\\n",
       "0    1937.304351  1955.272060  1971.256988  1997.731260  2019.752839   \n",
       "1    2984.899451  3032.151836  3082.959790  3142.381057  3201.035347   \n",
       "2    2825.516662  2850.339483  2881.506596  2919.113666  2953.089197   \n",
       "3    1808.471849  1823.778075  1843.010280  1865.307537  1890.513951   \n",
       "4    1736.260930  1747.886285  1758.449166  1780.575633  1807.486899   \n",
       "..           ...          ...          ...          ...          ...   \n",
       "574          NaN          NaN   735.821384   732.921061   771.810020   \n",
       "575  2039.794902          NaN  2061.477514  2053.911628  2293.863629   \n",
       "576   632.188630          NaN   668.388884   715.417127   687.157390   \n",
       "577   901.423609          NaN          NaN          NaN          NaN   \n",
       "578   812.564382   816.337611   774.215873   781.403240   778.818450   \n",
       "\n",
       "      2022-06-30   2022-07-31   2022-08-31   2022-09-30  \n",
       "0    2044.662959  2065.275748  2078.546078  2084.084210  \n",
       "1    3258.611614  3308.938574  3327.647323  3321.271717  \n",
       "2    2978.850604  2999.777869  3013.211794  3019.026316  \n",
       "3    1911.437953  1930.811578  1939.370439  1941.933786  \n",
       "4    1842.009269  1866.378789  1876.715983  1875.844643  \n",
       "..           ...          ...          ...          ...  \n",
       "574   755.232683   810.606473   750.000000   821.649685  \n",
       "575  2446.688466  2573.551207  2575.000000  2617.167354  \n",
       "576   702.818101   729.449277   771.000000   795.646586  \n",
       "577          NaN          NaN   962.000000  1019.826674  \n",
       "578   800.955182   832.421311   850.000000   840.276292  \n",
       "\n",
       "[579 rows x 96 columns]"
      ]
     },
     "execution_count": 6,
     "metadata": {},
     "output_type": "execute_result"
    }
   ],
   "source": [
    "zori"
   ]
  },
  {
   "cell_type": "markdown",
   "id": "f68b09e2",
   "metadata": {},
   "source": [
    "## Question 1\n",
    "### (1a)\n",
    "What information is stored in the ZORI data? What does each row represent?"
   ]
  },
  {
   "cell_type": "markdown",
   "id": "696d6270",
   "metadata": {},
   "source": [
    "### (1b)"
   ]
  },
  {
   "cell_type": "markdown",
   "id": "f7174857",
   "metadata": {},
   "source": [
    "If we wanted to compared ZORI data against US CPI, what might be some ways we can manipulate our data?"
   ]
  },
  {
   "cell_type": "markdown",
   "id": "2b9d53bc",
   "metadata": {},
   "source": [
    "# Data Processing"
   ]
  },
  {
   "cell_type": "markdown",
   "id": "4b6ed59f",
   "metadata": {},
   "source": [
    "## ZORI"
   ]
  },
  {
   "cell_type": "markdown",
   "id": "3b9f6621",
   "metadata": {},
   "source": [
    "Below, we select row within the ZORI dataframe that has the timeseries corresponding to the US ZORI index."
   ]
  },
  {
   "cell_type": "code",
   "execution_count": 7,
   "id": "002d33cc",
   "metadata": {},
   "outputs": [
    {
     "data": {
      "text/plain": [
       "RegionID             102001\n",
       "SizeRank                  0\n",
       "RegionName    United States\n",
       "RegionType          country\n",
       "StateName               NaN\n",
       "                  ...      \n",
       "2022-04-30       1997.73126\n",
       "2022-05-31      2019.752839\n",
       "2022-06-30      2044.662959\n",
       "2022-07-31      2065.275748\n",
       "2022-08-31      2078.546078\n",
       "Name: 0, Length: 95, dtype: object"
      ]
     },
     "execution_count": 7,
     "metadata": {},
     "output_type": "execute_result"
    }
   ],
   "source": [
    "zUS = zori.iloc[0, :-1]\n",
    "zUS"
   ]
  },
  {
   "cell_type": "markdown",
   "id": "c6e0cf42",
   "metadata": {},
   "source": [
    "We notice that the dates in the timeseries actually start from the 6th entry in the index. If we wanted to create a DataFrame, we would need to find a way to extract this information, in addition to the data stored in the ZORI column."
   ]
  },
  {
   "cell_type": "code",
   "execution_count": 8,
   "id": "a212a031",
   "metadata": {
    "scrolled": true
   },
   "outputs": [],
   "source": [
    "zori_dates = zUS[5:].index\n",
    "zori_data = zUS[5:].to_list()"
   ]
  },
  {
   "cell_type": "markdown",
   "id": "1c11ccb5",
   "metadata": {},
   "source": [
    "We now construct a DataFrame using this information."
   ]
  },
  {
   "cell_type": "code",
   "execution_count": 9,
   "id": "ee84c241",
   "metadata": {
    "scrolled": true
   },
   "outputs": [
    {
     "data": {
      "text/html": [
       "<div>\n",
       "<style scoped>\n",
       "    .dataframe tbody tr th:only-of-type {\n",
       "        vertical-align: middle;\n",
       "    }\n",
       "\n",
       "    .dataframe tbody tr th {\n",
       "        vertical-align: top;\n",
       "    }\n",
       "\n",
       "    .dataframe thead th {\n",
       "        text-align: right;\n",
       "    }\n",
       "</style>\n",
       "<table border=\"1\" class=\"dataframe\">\n",
       "  <thead>\n",
       "    <tr style=\"text-align: right;\">\n",
       "      <th></th>\n",
       "      <th>DATE</th>\n",
       "      <th>ZORI</th>\n",
       "    </tr>\n",
       "  </thead>\n",
       "  <tbody>\n",
       "    <tr>\n",
       "      <th>0</th>\n",
       "      <td>2015-03-31</td>\n",
       "      <td>1370.301806</td>\n",
       "    </tr>\n",
       "    <tr>\n",
       "      <th>1</th>\n",
       "      <td>2015-04-30</td>\n",
       "      <td>1381.971304</td>\n",
       "    </tr>\n",
       "    <tr>\n",
       "      <th>2</th>\n",
       "      <td>2015-05-31</td>\n",
       "      <td>1392.389090</td>\n",
       "    </tr>\n",
       "    <tr>\n",
       "      <th>3</th>\n",
       "      <td>2015-06-30</td>\n",
       "      <td>1403.203509</td>\n",
       "    </tr>\n",
       "    <tr>\n",
       "      <th>4</th>\n",
       "      <td>2015-07-31</td>\n",
       "      <td>1408.901384</td>\n",
       "    </tr>\n",
       "    <tr>\n",
       "      <th>...</th>\n",
       "      <td>...</td>\n",
       "      <td>...</td>\n",
       "    </tr>\n",
       "    <tr>\n",
       "      <th>85</th>\n",
       "      <td>2022-04-30</td>\n",
       "      <td>1997.731260</td>\n",
       "    </tr>\n",
       "    <tr>\n",
       "      <th>86</th>\n",
       "      <td>2022-05-31</td>\n",
       "      <td>2019.752839</td>\n",
       "    </tr>\n",
       "    <tr>\n",
       "      <th>87</th>\n",
       "      <td>2022-06-30</td>\n",
       "      <td>2044.662959</td>\n",
       "    </tr>\n",
       "    <tr>\n",
       "      <th>88</th>\n",
       "      <td>2022-07-31</td>\n",
       "      <td>2065.275748</td>\n",
       "    </tr>\n",
       "    <tr>\n",
       "      <th>89</th>\n",
       "      <td>2022-08-31</td>\n",
       "      <td>2078.546078</td>\n",
       "    </tr>\n",
       "  </tbody>\n",
       "</table>\n",
       "<p>90 rows × 2 columns</p>\n",
       "</div>"
      ],
      "text/plain": [
       "          DATE         ZORI\n",
       "0   2015-03-31  1370.301806\n",
       "1   2015-04-30  1381.971304\n",
       "2   2015-05-31  1392.389090\n",
       "3   2015-06-30  1403.203509\n",
       "4   2015-07-31  1408.901384\n",
       "..         ...          ...\n",
       "85  2022-04-30  1997.731260\n",
       "86  2022-05-31  2019.752839\n",
       "87  2022-06-30  2044.662959\n",
       "88  2022-07-31  2065.275748\n",
       "89  2022-08-31  2078.546078\n",
       "\n",
       "[90 rows x 2 columns]"
      ]
     },
     "execution_count": 9,
     "metadata": {},
     "output_type": "execute_result"
    }
   ],
   "source": [
    "zillow = pd.DataFrame(data={\"DATE\": zori_dates, \"ZORI\" : zori_data})\n",
    "zillow"
   ]
  },
  {
   "cell_type": "markdown",
   "id": "ced035b1",
   "metadata": {},
   "source": [
    "We might wonder what this looks like. Let's graph this time series."
   ]
  },
  {
   "cell_type": "code",
   "execution_count": 12,
   "id": "0788bce4",
   "metadata": {
    "scrolled": true
   },
   "outputs": [
    {
     "data": {
      "text/plain": [
       "<AxesSubplot: xlabel='DATE', ylabel='ZORI'>"
      ]
     },
     "execution_count": 12,
     "metadata": {},
     "output_type": "execute_result"
    },
    {
     "data": {
      "image/png": "[encoded data removed]",
      "text/plain": [
       "<Figure size 640x480 with 1 Axes>"
      ]
     },
     "metadata": {},
     "output_type": "display_data"
    }
   ],
   "source": [
    "sns.lineplot(data=zillow, x=\"DATE\", y=\"ZORI\")"
   ]
  },
  {
   "cell_type": "markdown",
   "id": "b3eb70f3",
   "metadata": {},
   "source": [
    "Do you notice anything interesting about this graph? "
   ]
  },
  {
   "cell_type": "markdown",
   "id": "391fae41",
   "metadata": {},
   "source": [
    "We'll focus on the part where the slope becomes noticably steeper. Can you find around what time this happened? What are some possible explanations?"
   ]
  },
  {
   "cell_type": "markdown",
   "id": "fbefbc91",
   "metadata": {},
   "source": [
    "## US CPI"
   ]
  },
  {
   "cell_type": "markdown",
   "id": "70e4b9b8",
   "metadata": {},
   "source": [
    "We'll now bring our attention to the US CPI."
   ]
  },
  {
   "cell_type": "markdown",
   "id": "6193d997",
   "metadata": {},
   "source": [
    "We've downloaded historical US CPI data for you from the [FRED website](https://fred.stlouisfed.org/series/CUUR0000SEHA). Since our ZORI data starts on 03/31/2015, we've adjusted the sliders on the FRED website to only extract starting from 03/31/2015. We've also renamed the columns to be more readable."
   ]
  },
  {
   "cell_type": "code",
   "execution_count": 284,
   "id": "9013d133",
   "metadata": {
    "scrolled": true
   },
   "outputs": [],
   "source": [
    "zillow = zillow.reset_index()"
   ]
  },
  {
   "cell_type": "code",
   "execution_count": 285,
   "id": "b656ed8c",
   "metadata": {},
   "outputs": [],
   "source": [
    "usCPI = pd.read_csv(\"usCPI.csv\")\n",
    "usCPI = usCPI.rename(columns={\"CUUR0000SEHA\": \"CPI\"})\n",
    "usCPI = usCPI.iloc[1:, :]\n",
    "usCPI = usCPI.reset_index()"
   ]
  },
  {
   "cell_type": "code",
   "execution_count": 286,
   "id": "14c0f2c5",
   "metadata": {
    "scrolled": true
   },
   "outputs": [
    {
     "data": {
      "text/html": [
       "<div>\n",
       "<style scoped>\n",
       "    .dataframe tbody tr th:only-of-type {\n",
       "        vertical-align: middle;\n",
       "    }\n",
       "\n",
       "    .dataframe tbody tr th {\n",
       "        vertical-align: top;\n",
       "    }\n",
       "\n",
       "    .dataframe thead th {\n",
       "        text-align: right;\n",
       "    }\n",
       "</style>\n",
       "<table border=\"1\" class=\"dataframe\">\n",
       "  <thead>\n",
       "    <tr style=\"text-align: right;\">\n",
       "      <th></th>\n",
       "      <th>index</th>\n",
       "      <th>DATE</th>\n",
       "      <th>CPI</th>\n",
       "    </tr>\n",
       "  </thead>\n",
       "  <tbody>\n",
       "    <tr>\n",
       "      <th>0</th>\n",
       "      <td>1</td>\n",
       "      <td>2015-04-01</td>\n",
       "      <td>283.598</td>\n",
       "    </tr>\n",
       "    <tr>\n",
       "      <th>1</th>\n",
       "      <td>2</td>\n",
       "      <td>2015-05-01</td>\n",
       "      <td>284.245</td>\n",
       "    </tr>\n",
       "    <tr>\n",
       "      <th>2</th>\n",
       "      <td>3</td>\n",
       "      <td>2015-06-01</td>\n",
       "      <td>285.031</td>\n",
       "    </tr>\n",
       "    <tr>\n",
       "      <th>3</th>\n",
       "      <td>4</td>\n",
       "      <td>2015-07-01</td>\n",
       "      <td>286.090</td>\n",
       "    </tr>\n",
       "    <tr>\n",
       "      <th>4</th>\n",
       "      <td>5</td>\n",
       "      <td>2015-08-01</td>\n",
       "      <td>287.068</td>\n",
       "    </tr>\n",
       "    <tr>\n",
       "      <th>...</th>\n",
       "      <td>...</td>\n",
       "      <td>...</td>\n",
       "      <td>...</td>\n",
       "    </tr>\n",
       "    <tr>\n",
       "      <th>85</th>\n",
       "      <td>86</td>\n",
       "      <td>2022-05-01</td>\n",
       "      <td>365.116</td>\n",
       "    </tr>\n",
       "    <tr>\n",
       "      <th>86</th>\n",
       "      <td>87</td>\n",
       "      <td>2022-06-01</td>\n",
       "      <td>367.927</td>\n",
       "    </tr>\n",
       "    <tr>\n",
       "      <th>87</th>\n",
       "      <td>88</td>\n",
       "      <td>2022-07-01</td>\n",
       "      <td>370.448</td>\n",
       "    </tr>\n",
       "    <tr>\n",
       "      <th>88</th>\n",
       "      <td>89</td>\n",
       "      <td>2022-08-01</td>\n",
       "      <td>373.283</td>\n",
       "    </tr>\n",
       "    <tr>\n",
       "      <th>89</th>\n",
       "      <td>90</td>\n",
       "      <td>2022-09-01</td>\n",
       "      <td>376.569</td>\n",
       "    </tr>\n",
       "  </tbody>\n",
       "</table>\n",
       "<p>90 rows × 3 columns</p>\n",
       "</div>"
      ],
      "text/plain": [
       "    index        DATE      CPI\n",
       "0       1  2015-04-01  283.598\n",
       "1       2  2015-05-01  284.245\n",
       "2       3  2015-06-01  285.031\n",
       "3       4  2015-07-01  286.090\n",
       "4       5  2015-08-01  287.068\n",
       "..    ...         ...      ...\n",
       "85     86  2022-05-01  365.116\n",
       "86     87  2022-06-01  367.927\n",
       "87     88  2022-07-01  370.448\n",
       "88     89  2022-08-01  373.283\n",
       "89     90  2022-09-01  376.569\n",
       "\n",
       "[90 rows x 3 columns]"
      ]
     },
     "execution_count": 286,
     "metadata": {},
     "output_type": "execute_result"
    }
   ],
   "source": [
    "usCPI"
   ]
  },
  {
   "cell_type": "code",
   "execution_count": 287,
   "id": "cea9bd9d",
   "metadata": {},
   "outputs": [
    {
     "data": {
      "text/plain": [
       "str"
      ]
     },
     "execution_count": 287,
     "metadata": {},
     "output_type": "execute_result"
    }
   ],
   "source": [
    "type(usCPI[\"DATE\"][0])"
   ]
  },
  {
   "cell_type": "markdown",
   "id": "9ab94af0",
   "metadata": {},
   "source": [
    "We can try plotting this to see what it looks like."
   ]
  },
  {
   "cell_type": "code",
   "execution_count": 288,
   "id": "c84b71d5",
   "metadata": {},
   "outputs": [
    {
     "data": {
      "text/plain": [
       "<AxesSubplot: xlabel='DATE', ylabel='CPI'>"
      ]
     },
     "execution_count": 288,
     "metadata": {},
     "output_type": "execute_result"
    },
    {
     "data": {
      "image/png": "[encoded data removed]",
      "text/plain": [
       "<Figure size 640x480 with 1 Axes>"
      ]
     },
     "metadata": {},
     "output_type": "display_data"
    }
   ],
   "source": [
    "sns.lineplot(data=usCPI, x=\"DATE\", y=\"CPI\")"
   ]
  },
  {
   "cell_type": "markdown",
   "id": "ab57625f",
   "metadata": {},
   "source": [
    "# Time Series Prediction"
   ]
  },
  {
   "cell_type": "code",
   "execution_count": 289,
   "id": "854317a2",
   "metadata": {},
   "outputs": [],
   "source": [
    "import matplotlib.pyplot as plt"
   ]
  },
  {
   "cell_type": "code",
   "execution_count": 290,
   "id": "6343c974",
   "metadata": {
    "scrolled": true
   },
   "outputs": [],
   "source": [
    "usCPI = usCPI[[\"DATE\", \"CPI\"]]"
   ]
  },
  {
   "cell_type": "code",
   "execution_count": 291,
   "id": "517bf1f1",
   "metadata": {
    "scrolled": true
   },
   "outputs": [
    {
     "data": {
      "text/html": [
       "<div>\n",
       "<style scoped>\n",
       "    .dataframe tbody tr th:only-of-type {\n",
       "        vertical-align: middle;\n",
       "    }\n",
       "\n",
       "    .dataframe tbody tr th {\n",
       "        vertical-align: top;\n",
       "    }\n",
       "\n",
       "    .dataframe thead th {\n",
       "        text-align: right;\n",
       "    }\n",
       "</style>\n",
       "<table border=\"1\" class=\"dataframe\">\n",
       "  <thead>\n",
       "    <tr style=\"text-align: right;\">\n",
       "      <th></th>\n",
       "      <th>DATE</th>\n",
       "      <th>CPI</th>\n",
       "    </tr>\n",
       "  </thead>\n",
       "  <tbody>\n",
       "    <tr>\n",
       "      <th>0</th>\n",
       "      <td>2015-04-01</td>\n",
       "      <td>283.598</td>\n",
       "    </tr>\n",
       "    <tr>\n",
       "      <th>1</th>\n",
       "      <td>2015-05-01</td>\n",
       "      <td>284.245</td>\n",
       "    </tr>\n",
       "    <tr>\n",
       "      <th>2</th>\n",
       "      <td>2015-06-01</td>\n",
       "      <td>285.031</td>\n",
       "    </tr>\n",
       "    <tr>\n",
       "      <th>3</th>\n",
       "      <td>2015-07-01</td>\n",
       "      <td>286.090</td>\n",
       "    </tr>\n",
       "    <tr>\n",
       "      <th>4</th>\n",
       "      <td>2015-08-01</td>\n",
       "      <td>287.068</td>\n",
       "    </tr>\n",
       "    <tr>\n",
       "      <th>...</th>\n",
       "      <td>...</td>\n",
       "      <td>...</td>\n",
       "    </tr>\n",
       "    <tr>\n",
       "      <th>85</th>\n",
       "      <td>2022-05-01</td>\n",
       "      <td>365.116</td>\n",
       "    </tr>\n",
       "    <tr>\n",
       "      <th>86</th>\n",
       "      <td>2022-06-01</td>\n",
       "      <td>367.927</td>\n",
       "    </tr>\n",
       "    <tr>\n",
       "      <th>87</th>\n",
       "      <td>2022-07-01</td>\n",
       "      <td>370.448</td>\n",
       "    </tr>\n",
       "    <tr>\n",
       "      <th>88</th>\n",
       "      <td>2022-08-01</td>\n",
       "      <td>373.283</td>\n",
       "    </tr>\n",
       "    <tr>\n",
       "      <th>89</th>\n",
       "      <td>2022-09-01</td>\n",
       "      <td>376.569</td>\n",
       "    </tr>\n",
       "  </tbody>\n",
       "</table>\n",
       "<p>90 rows × 2 columns</p>\n",
       "</div>"
      ],
      "text/plain": [
       "          DATE      CPI\n",
       "0   2015-04-01  283.598\n",
       "1   2015-05-01  284.245\n",
       "2   2015-06-01  285.031\n",
       "3   2015-07-01  286.090\n",
       "4   2015-08-01  287.068\n",
       "..         ...      ...\n",
       "85  2022-05-01  365.116\n",
       "86  2022-06-01  367.927\n",
       "87  2022-07-01  370.448\n",
       "88  2022-08-01  373.283\n",
       "89  2022-09-01  376.569\n",
       "\n",
       "[90 rows x 2 columns]"
      ]
     },
     "execution_count": 291,
     "metadata": {},
     "output_type": "execute_result"
    }
   ],
   "source": [
    "usCPI"
   ]
  },
  {
   "cell_type": "code",
   "execution_count": 292,
   "id": "ba8268a2",
   "metadata": {
    "scrolled": true
   },
   "outputs": [
    {
     "name": "stderr",
     "output_type": "stream",
     "text": [
      "C:\\Users\\am513\\AppData\\Local\\Temp\\ipykernel_25156\\1247769527.py:1: SettingWithCopyWarning: \n",
      "A value is trying to be set on a copy of a slice from a DataFrame.\n",
      "Try using .loc[row_indexer,col_indexer] = value instead\n",
      "\n",
      "See the caveats in the documentation: https://pandas.pydata.org/pandas-docs/stable/user_guide/indexing.html#returning-a-view-versus-a-copy\n",
      "  usCPI[\"DATE\"] = pd.to_datetime(usCPI['DATE'])\n"
     ]
    }
   ],
   "source": [
    "usCPI[\"DATE\"] = pd.to_datetime(usCPI['DATE'])"
   ]
  },
  {
   "cell_type": "code",
   "execution_count": 293,
   "id": "409a0d8b",
   "metadata": {},
   "outputs": [
    {
     "data": {
      "text/plain": [
       "0    2015-04-01\n",
       "1    2015-05-01\n",
       "2    2015-06-01\n",
       "3    2015-07-01\n",
       "4    2015-08-01\n",
       "        ...    \n",
       "85   2022-05-01\n",
       "86   2022-06-01\n",
       "87   2022-07-01\n",
       "88   2022-08-01\n",
       "89   2022-09-01\n",
       "Name: DATE, Length: 90, dtype: datetime64[ns]"
      ]
     },
     "execution_count": 293,
     "metadata": {},
     "output_type": "execute_result"
    }
   ],
   "source": [
    "usCPI[\"DATE\"]"
   ]
  },
  {
   "cell_type": "code",
   "execution_count": 294,
   "id": "dc15e4ac",
   "metadata": {
    "scrolled": true
   },
   "outputs": [],
   "source": [
    "usCPI = usCPI.set_index(\"DATE\")"
   ]
  },
  {
   "cell_type": "code",
   "execution_count": 295,
   "id": "587e397e",
   "metadata": {},
   "outputs": [
    {
     "data": {
      "text/html": [
       "<div>\n",
       "<style scoped>\n",
       "    .dataframe tbody tr th:only-of-type {\n",
       "        vertical-align: middle;\n",
       "    }\n",
       "\n",
       "    .dataframe tbody tr th {\n",
       "        vertical-align: top;\n",
       "    }\n",
       "\n",
       "    .dataframe thead th {\n",
       "        text-align: right;\n",
       "    }\n",
       "</style>\n",
       "<table border=\"1\" class=\"dataframe\">\n",
       "  <thead>\n",
       "    <tr style=\"text-align: right;\">\n",
       "      <th></th>\n",
       "      <th>CPI</th>\n",
       "    </tr>\n",
       "    <tr>\n",
       "      <th>DATE</th>\n",
       "      <th></th>\n",
       "    </tr>\n",
       "  </thead>\n",
       "  <tbody>\n",
       "    <tr>\n",
       "      <th>2015-04-01</th>\n",
       "      <td>283.598</td>\n",
       "    </tr>\n",
       "    <tr>\n",
       "      <th>2015-05-01</th>\n",
       "      <td>284.245</td>\n",
       "    </tr>\n",
       "    <tr>\n",
       "      <th>2015-06-01</th>\n",
       "      <td>285.031</td>\n",
       "    </tr>\n",
       "    <tr>\n",
       "      <th>2015-07-01</th>\n",
       "      <td>286.090</td>\n",
       "    </tr>\n",
       "    <tr>\n",
       "      <th>2015-08-01</th>\n",
       "      <td>287.068</td>\n",
       "    </tr>\n",
       "    <tr>\n",
       "      <th>...</th>\n",
       "      <td>...</td>\n",
       "    </tr>\n",
       "    <tr>\n",
       "      <th>2022-05-01</th>\n",
       "      <td>365.116</td>\n",
       "    </tr>\n",
       "    <tr>\n",
       "      <th>2022-06-01</th>\n",
       "      <td>367.927</td>\n",
       "    </tr>\n",
       "    <tr>\n",
       "      <th>2022-07-01</th>\n",
       "      <td>370.448</td>\n",
       "    </tr>\n",
       "    <tr>\n",
       "      <th>2022-08-01</th>\n",
       "      <td>373.283</td>\n",
       "    </tr>\n",
       "    <tr>\n",
       "      <th>2022-09-01</th>\n",
       "      <td>376.569</td>\n",
       "    </tr>\n",
       "  </tbody>\n",
       "</table>\n",
       "<p>90 rows × 1 columns</p>\n",
       "</div>"
      ],
      "text/plain": [
       "                CPI\n",
       "DATE               \n",
       "2015-04-01  283.598\n",
       "2015-05-01  284.245\n",
       "2015-06-01  285.031\n",
       "2015-07-01  286.090\n",
       "2015-08-01  287.068\n",
       "...             ...\n",
       "2022-05-01  365.116\n",
       "2022-06-01  367.927\n",
       "2022-07-01  370.448\n",
       "2022-08-01  373.283\n",
       "2022-09-01  376.569\n",
       "\n",
       "[90 rows x 1 columns]"
      ]
     },
     "execution_count": 295,
     "metadata": {},
     "output_type": "execute_result"
    }
   ],
   "source": [
    "usCPI"
   ]
  },
  {
   "cell_type": "code",
   "execution_count": 296,
   "id": "2bc25d15",
   "metadata": {
    "scrolled": true
   },
   "outputs": [
    {
     "data": {
      "image/png": "[encoded data removed]",
      "text/plain": [
       "<Figure size 640x480 with 1 Axes>"
      ]
     },
     "metadata": {},
     "output_type": "display_data"
    }
   ],
   "source": [
    "train = usCPI[usCPI.index < pd.to_datetime(\"2022-01-01\", format='%Y-%m-%d')]\n",
    "test = usCPI[usCPI.index >= pd.to_datetime(\"2022-01-01\", format='%Y-%m-%d')]\n",
    "\n",
    "plt.plot(train, color = \"black\")\n",
    "plt.plot(test, color = \"red\")\n",
    "plt.ylabel('')\n",
    "plt.xlabel('Date')\n",
    "plt.xticks(rotation=45)\n",
    "plt.title(\"Train/Test split for US CPI Data\")\n",
    "plt.show()"
   ]
  },
  {
   "cell_type": "code",
   "execution_count": 297,
   "id": "391cee57",
   "metadata": {},
   "outputs": [],
   "source": [
    "from statsmodels.tsa.statespace.sarimax import SARIMAX"
   ]
  },
  {
   "cell_type": "code",
   "execution_count": 298,
   "id": "16c8d9a1",
   "metadata": {
    "scrolled": true
   },
   "outputs": [],
   "source": [
    "y = train['CPI']"
   ]
  },
  {
   "cell_type": "code",
   "execution_count": 299,
   "id": "d776c472",
   "metadata": {},
   "outputs": [
    {
     "name": "stderr",
     "output_type": "stream",
     "text": [
      "C:\\Users\\am513\\anaconda3\\envs\\python39\\lib\\site-packages\\statsmodels\\tsa\\base\\tsa_model.py:471: ValueWarning: No frequency information was provided, so inferred frequency MS will be used.\n",
      "  self._init_dates(dates, freq)\n",
      "C:\\Users\\am513\\anaconda3\\envs\\python39\\lib\\site-packages\\statsmodels\\tsa\\base\\tsa_model.py:471: ValueWarning: No frequency information was provided, so inferred frequency MS will be used.\n",
      "  self._init_dates(dates, freq)\n"
     ]
    }
   ],
   "source": [
    "ARMAmodel = SARIMAX(y, order = (1, 0, 1))"
   ]
  },
  {
   "cell_type": "code",
   "execution_count": 300,
   "id": "f5f5824a",
   "metadata": {
    "scrolled": true
   },
   "outputs": [
    {
     "name": "stderr",
     "output_type": "stream",
     "text": [
      "C:\\Users\\am513\\anaconda3\\envs\\python39\\lib\\site-packages\\statsmodels\\tsa\\statespace\\sarimax.py:966: UserWarning: Non-stationary starting autoregressive parameters found. Using zeros as starting parameters.\n",
      "  warn('Non-stationary starting autoregressive parameters'\n"
     ]
    }
   ],
   "source": [
    "ARMAmodel = ARMAmodel.fit()"
   ]
  },
  {
   "cell_type": "code",
   "execution_count": 301,
   "id": "c896fb31",
   "metadata": {},
   "outputs": [],
   "source": [
    "y_pred = ARMAmodel.get_forecast(len(test.index))\n",
    "y_pred_df = y_pred.conf_int(alpha = 0.05) \n",
    "y_pred_df[\"Predictions\"] = ARMAmodel.predict(start = y_pred_df.index[0], end = y_pred_df.index[-1])\n",
    "y_pred_df.index = test.index\n",
    "y_pred_out = y_pred_df[\"Predictions\"] "
   ]
  },
  {
   "cell_type": "code",
   "execution_count": 302,
   "id": "337fc64a",
   "metadata": {
    "scrolled": true
   },
   "outputs": [
    {
     "data": {
      "text/plain": [
       "<matplotlib.legend.Legend at 0x17f9f4cad60>"
      ]
     },
     "execution_count": 302,
     "metadata": {},
     "output_type": "execute_result"
    },
    {
     "data": {
      "image/png": "[encoded data removed]",
      "text/plain": [
       "<Figure size 640x480 with 1 Axes>"
      ]
     },
     "metadata": {},
     "output_type": "display_data"
    }
   ],
   "source": [
    "\n",
    "plt.plot(train, color = \"black\")\n",
    "plt.plot(test, color = \"red\")\n",
    "plt.plot(y_pred_out, color='green', label = 'Predictions')\n",
    "plt.ylabel('')\n",
    "plt.xlabel('Date')\n",
    "plt.xticks(rotation=45)\n",
    "plt.title(\"Predictions US CPI Data\")\n",
    "plt.legend()"
   ]
  },
  {
   "cell_type": "code",
   "execution_count": 304,
   "id": "c3b62944",
   "metadata": {
    "scrolled": true
   },
   "outputs": [
    {
     "name": "stdout",
     "output_type": "stream",
     "text": [
      "RMSE:  10.859972404354904\n"
     ]
    }
   ],
   "source": [
    "import numpy as np\n",
    "from sklearn.metrics import mean_squared_error\n",
    "\n",
    "arma_rmse = np.sqrt(mean_squared_error(test[\"CPI\"].values, y_pred_df[\"Predictions\"]))\n",
    "print(\"RMSE: \",arma_rmse)"
   ]
  },
  {
   "cell_type": "markdown",
   "id": "49f3ec7d",
   "metadata": {},
   "source": [
    "## Moving ARIMA"
   ]
  },
  {
   "cell_type": "code",
   "execution_count": 305,
   "id": "bb5ff5c1",
   "metadata": {},
   "outputs": [],
   "source": [
    "from statsmodels.tsa.arima.model import ARIMA"
   ]
  },
  {
   "cell_type": "code",
   "execution_count": 306,
   "id": "3fc7ada2",
   "metadata": {
    "scrolled": true
   },
   "outputs": [
    {
     "name": "stderr",
     "output_type": "stream",
     "text": [
      "C:\\Users\\am513\\anaconda3\\envs\\python39\\lib\\site-packages\\statsmodels\\tsa\\base\\tsa_model.py:471: ValueWarning: No frequency information was provided, so inferred frequency MS will be used.\n",
      "  self._init_dates(dates, freq)\n",
      "C:\\Users\\am513\\anaconda3\\envs\\python39\\lib\\site-packages\\statsmodels\\tsa\\base\\tsa_model.py:471: ValueWarning: No frequency information was provided, so inferred frequency MS will be used.\n",
      "  self._init_dates(dates, freq)\n",
      "C:\\Users\\am513\\anaconda3\\envs\\python39\\lib\\site-packages\\statsmodels\\tsa\\base\\tsa_model.py:471: ValueWarning: No frequency information was provided, so inferred frequency MS will be used.\n",
      "  self._init_dates(dates, freq)\n",
      "C:\\Users\\am513\\anaconda3\\envs\\python39\\lib\\site-packages\\statsmodels\\tsa\\statespace\\sarimax.py:978: UserWarning: Non-invertible starting MA parameters found. Using zeros as starting parameters.\n",
      "  warn('Non-invertible starting MA parameters found.'\n",
      "C:\\Users\\am513\\anaconda3\\envs\\python39\\lib\\site-packages\\statsmodels\\base\\model.py:604: ConvergenceWarning: Maximum Likelihood optimization failed to converge. Check mle_retvals\n",
      "  warnings.warn(\"Maximum Likelihood optimization failed to \"\n"
     ]
    },
    {
     "name": "stdout",
     "output_type": "stream",
     "text": [
      "RMSE:  1.699626290777005\n"
     ]
    },
    {
     "data": {
      "image/png": "[encoded data removed]",
      "text/plain": [
       "<Figure size 640x480 with 1 Axes>"
      ]
     },
     "metadata": {},
     "output_type": "display_data"
    }
   ],
   "source": [
    "ARIMAmodel = ARIMA(y, order = (7, 4, 2))\n",
    "ARIMAmodel = ARIMAmodel.fit()\n",
    "\n",
    "y_pred = ARIMAmodel.get_forecast(len(test.index))\n",
    "y_pred_df = y_pred.conf_int(alpha = 0.05) \n",
    "y_pred_df[\"Predictions\"] = ARIMAmodel.predict(start = y_pred_df.index[0], end = y_pred_df.index[-1])\n",
    "y_pred_df.index = test.index\n",
    "y_pred_out = y_pred_df[\"Predictions\"] \n",
    "plt.plot(train, color = \"black\")\n",
    "plt.plot(test, color = \"red\")\n",
    "plt.plot(y_pred_out, color='blue', label = 'ARIMA Predictions')\n",
    "plt.legend()\n",
    "\n",
    "\n",
    "import numpy as np\n",
    "from sklearn.metrics import mean_squared_error\n",
    "\n",
    "arma_rmse = np.sqrt(mean_squared_error(test[\"CPI\"].values, y_pred_df[\"Predictions\"]))\n",
    "print(\"RMSE: \",arma_rmse)"
   ]
  },
  {
   "cell_type": "markdown",
   "id": "5c8c1daf",
   "metadata": {},
   "source": [
    "Try playing with the parameters!"
   ]
  },
  {
   "cell_type": "code",
   "execution_count": 35,
   "id": "7ba4bc35",
   "metadata": {},
   "outputs": [
    {
     "name": "stderr",
     "output_type": "stream",
     "text": [
      "C:\\Users\\am513\\anaconda3\\envs\\python39\\lib\\site-packages\\statsmodels\\tsa\\base\\tsa_model.py:471: ValueWarning: No frequency information was provided, so inferred frequency MS will be used.\n",
      "  self._init_dates(dates, freq)\n",
      "C:\\Users\\am513\\anaconda3\\envs\\python39\\lib\\site-packages\\statsmodels\\tsa\\base\\tsa_model.py:471: ValueWarning: No frequency information was provided, so inferred frequency MS will be used.\n",
      "  self._init_dates(dates, freq)\n",
      "C:\\Users\\am513\\anaconda3\\envs\\python39\\lib\\site-packages\\statsmodels\\tsa\\statespace\\sarimax.py:978: UserWarning: Non-invertible starting MA parameters found. Using zeros as starting parameters.\n",
      "  warn('Non-invertible starting MA parameters found.'\n",
      "C:\\Users\\am513\\anaconda3\\envs\\python39\\lib\\site-packages\\statsmodels\\tsa\\statespace\\sarimax.py:866: UserWarning: Too few observations to estimate starting parameters for seasonal ARMA. All parameters except for variances will be set to zeros.\n",
      "  warn('Too few observations to estimate starting parameters%s.'\n",
      "C:\\Users\\am513\\anaconda3\\envs\\python39\\lib\\site-packages\\statsmodels\\base\\model.py:604: ConvergenceWarning: Maximum Likelihood optimization failed to converge. Check mle_retvals\n",
      "  warnings.warn(\"Maximum Likelihood optimization failed to \"\n"
     ]
    },
    {
     "data": {
      "text/plain": [
       "<matplotlib.legend.Legend at 0x17f8338ad60>"
      ]
     },
     "execution_count": 35,
     "metadata": {},
     "output_type": "execute_result"
    },
    {
     "data": {
      "image/png": "[encoded data removed]",
      "text/plain": [
       "<Figure size 640x480 with 1 Axes>"
      ]
     },
     "metadata": {},
     "output_type": "display_data"
    }
   ],
   "source": [
    "SARIMAXmodel = SARIMAX(y, order = (5, 4, 2), seasonal_order=(2,2,2,12))\n",
    "SARIMAXmodel = SARIMAXmodel.fit()\n",
    "\n",
    "y_pred = SARIMAXmodel.get_forecast(len(test.index))\n",
    "y_pred_df = y_pred.conf_int(alpha = 0.05) \n",
    "y_pred_df[\"Predictions\"] = SARIMAXmodel.predict(start = y_pred_df.index[0], end = y_pred_df.index[-1])\n",
    "y_pred_df.index = test.index\n",
    "y_pred_out = y_pred_df[\"Predictions\"] \n",
    "plt.plot(train, color = \"black\")\n",
    "plt.plot(test, color = \"red\")\n",
    "plt.plot(y_pred_out, color='Blue', label = 'SARIMA Predictions')\n",
    "plt.legend()"
   ]
  },
  {
   "cell_type": "markdown",
   "id": "f129aa7f",
   "metadata": {},
   "source": [
    "## SARIMA Model"
   ]
  },
  {
   "cell_type": "code",
   "execution_count": 36,
   "id": "97fa8c4c",
   "metadata": {},
   "outputs": [
    {
     "name": "stderr",
     "output_type": "stream",
     "text": [
      "C:\\Users\\am513\\anaconda3\\envs\\python39\\lib\\site-packages\\statsmodels\\tsa\\base\\tsa_model.py:471: ValueWarning: No frequency information was provided, so inferred frequency MS will be used.\n",
      "  self._init_dates(dates, freq)\n",
      "C:\\Users\\am513\\anaconda3\\envs\\python39\\lib\\site-packages\\statsmodels\\tsa\\base\\tsa_model.py:471: ValueWarning: No frequency information was provided, so inferred frequency MS will be used.\n",
      "  self._init_dates(dates, freq)\n",
      "C:\\Users\\am513\\anaconda3\\envs\\python39\\lib\\site-packages\\statsmodels\\tsa\\statespace\\sarimax.py:978: UserWarning: Non-invertible starting MA parameters found. Using zeros as starting parameters.\n",
      "  warn('Non-invertible starting MA parameters found.'\n",
      "C:\\Users\\am513\\anaconda3\\envs\\python39\\lib\\site-packages\\statsmodels\\tsa\\statespace\\sarimax.py:866: UserWarning: Too few observations to estimate starting parameters for seasonal ARMA. All parameters except for variances will be set to zeros.\n",
      "  warn('Too few observations to estimate starting parameters%s.'\n",
      "C:\\Users\\am513\\anaconda3\\envs\\python39\\lib\\site-packages\\statsmodels\\base\\model.py:604: ConvergenceWarning: Maximum Likelihood optimization failed to converge. Check mle_retvals\n",
      "  warnings.warn(\"Maximum Likelihood optimization failed to \"\n"
     ]
    },
    {
     "data": {
      "text/plain": [
       "<matplotlib.legend.Legend at 0x17f866f27f0>"
      ]
     },
     "execution_count": 36,
     "metadata": {},
     "output_type": "execute_result"
    },
    {
     "data": {
      "image/png": "[encoded data removed]",
      "text/plain": [
       "<Figure size 640x480 with 1 Axes>"
      ]
     },
     "metadata": {},
     "output_type": "display_data"
    }
   ],
   "source": [
    "SARIMAXmodel = SARIMAX(y, order = (5, 4, 2), seasonal_order=(2,2,2,12))\n",
    "SARIMAXmodel = SARIMAXmodel.fit()\n",
    "\n",
    "y_pred = SARIMAXmodel.get_forecast(len(test.index))\n",
    "y_pred_df = y_pred.conf_int(alpha = 0.05) \n",
    "y_pred_df[\"Predictions\"] = SARIMAXmodel.predict(start = y_pred_df.index[0], end = y_pred_df.index[-1])\n",
    "y_pred_df.index = test.index\n",
    "y_pred_out = y_pred_df[\"Predictions\"] \n",
    "plt.plot(y_pred_out, color='Blue', label = 'SARIMA Predictions')\n",
    "plt.legend()"
   ]
  },
  {
   "cell_type": "markdown",
   "id": "84c6405f",
   "metadata": {},
   "source": [
    "## Combining the Two Datasets"
   ]
  },
  {
   "cell_type": "markdown",
   "id": "59c130ff",
   "metadata": {},
   "source": [
    "We want to combine both time series so that we can analyze them together. However, we notice that the `DATE` column has different values. ZORI is measured on the 31st of each month, while CPI is measured on the 1st day of each month. For our purposes, we can combine the two by using the `DATE` index from the US CPI and using the 1st day of the month."
   ]
  },
  {
   "cell_type": "code",
   "execution_count": 311,
   "id": "9e0355ba-d9a2-40c9-af0e-f2565530ded7",
   "metadata": {},
   "outputs": [
    {
     "data": {
      "text/plain": [
       "0    2015-04-01\n",
       "1    2015-05-01\n",
       "2    2015-06-01\n",
       "3    2015-07-01\n",
       "4    2015-08-01\n",
       "        ...    \n",
       "85   2022-05-01\n",
       "86   2022-06-01\n",
       "87   2022-07-01\n",
       "88   2022-08-01\n",
       "89   2022-09-01\n",
       "Name: DATE, Length: 90, dtype: datetime64[ns]"
      ]
     },
     "execution_count": 311,
     "metadata": {},
     "output_type": "execute_result"
    }
   ],
   "source": [
    "usCPI.reset_index()[\"DATE\"]"
   ]
  },
  {
   "cell_type": "code",
   "execution_count": 314,
   "id": "9e20c94f",
   "metadata": {},
   "outputs": [
    {
     "data": {
      "text/html": [
       "<div>\n",
       "<style scoped>\n",
       "    .dataframe tbody tr th:only-of-type {\n",
       "        vertical-align: middle;\n",
       "    }\n",
       "\n",
       "    .dataframe tbody tr th {\n",
       "        vertical-align: top;\n",
       "    }\n",
       "\n",
       "    .dataframe thead th {\n",
       "        text-align: right;\n",
       "    }\n",
       "</style>\n",
       "<table border=\"1\" class=\"dataframe\">\n",
       "  <thead>\n",
       "    <tr style=\"text-align: right;\">\n",
       "      <th></th>\n",
       "      <th>DATE</th>\n",
       "      <th>CPI</th>\n",
       "      <th>ZORI</th>\n",
       "    </tr>\n",
       "  </thead>\n",
       "  <tbody>\n",
       "    <tr>\n",
       "      <th>0</th>\n",
       "      <td>2015-04-01</td>\n",
       "      <td>283.598</td>\n",
       "      <td>1370.301806</td>\n",
       "    </tr>\n",
       "    <tr>\n",
       "      <th>1</th>\n",
       "      <td>2015-05-01</td>\n",
       "      <td>284.245</td>\n",
       "      <td>1381.971304</td>\n",
       "    </tr>\n",
       "    <tr>\n",
       "      <th>2</th>\n",
       "      <td>2015-06-01</td>\n",
       "      <td>285.031</td>\n",
       "      <td>1392.389090</td>\n",
       "    </tr>\n",
       "    <tr>\n",
       "      <th>3</th>\n",
       "      <td>2015-07-01</td>\n",
       "      <td>286.090</td>\n",
       "      <td>1403.203509</td>\n",
       "    </tr>\n",
       "    <tr>\n",
       "      <th>4</th>\n",
       "      <td>2015-08-01</td>\n",
       "      <td>287.068</td>\n",
       "      <td>1408.901384</td>\n",
       "    </tr>\n",
       "    <tr>\n",
       "      <th>...</th>\n",
       "      <td>...</td>\n",
       "      <td>...</td>\n",
       "      <td>...</td>\n",
       "    </tr>\n",
       "    <tr>\n",
       "      <th>85</th>\n",
       "      <td>2022-05-01</td>\n",
       "      <td>365.116</td>\n",
       "      <td>1997.731260</td>\n",
       "    </tr>\n",
       "    <tr>\n",
       "      <th>86</th>\n",
       "      <td>2022-06-01</td>\n",
       "      <td>367.927</td>\n",
       "      <td>2019.752839</td>\n",
       "    </tr>\n",
       "    <tr>\n",
       "      <th>87</th>\n",
       "      <td>2022-07-01</td>\n",
       "      <td>370.448</td>\n",
       "      <td>2044.662959</td>\n",
       "    </tr>\n",
       "    <tr>\n",
       "      <th>88</th>\n",
       "      <td>2022-08-01</td>\n",
       "      <td>373.283</td>\n",
       "      <td>2065.275748</td>\n",
       "    </tr>\n",
       "    <tr>\n",
       "      <th>89</th>\n",
       "      <td>2022-09-01</td>\n",
       "      <td>376.569</td>\n",
       "      <td>2078.546078</td>\n",
       "    </tr>\n",
       "  </tbody>\n",
       "</table>\n",
       "<p>90 rows × 3 columns</p>\n",
       "</div>"
      ],
      "text/plain": [
       "         DATE      CPI         ZORI\n",
       "0  2015-04-01  283.598  1370.301806\n",
       "1  2015-05-01  284.245  1381.971304\n",
       "2  2015-06-01  285.031  1392.389090\n",
       "3  2015-07-01  286.090  1403.203509\n",
       "4  2015-08-01  287.068  1408.901384\n",
       "..        ...      ...          ...\n",
       "85 2022-05-01  365.116  1997.731260\n",
       "86 2022-06-01  367.927  2019.752839\n",
       "87 2022-07-01  370.448  2044.662959\n",
       "88 2022-08-01  373.283  2065.275748\n",
       "89 2022-09-01  376.569  2078.546078\n",
       "\n",
       "[90 rows x 3 columns]"
      ]
     },
     "execution_count": 314,
     "metadata": {},
     "output_type": "execute_result"
    }
   ],
   "source": [
    "combined = pd.DataFrame({\"DATE\": usCPI.reset_index()[\"DATE\"], \"CPI\": usCPI.reset_index()[\"CPI\"], \"ZORI\" : zillow[\"ZORI\"]})\n",
    "combined"
   ]
  },
  {
   "cell_type": "markdown",
   "id": "2d405a49",
   "metadata": {},
   "source": [
    "## Plotting"
   ]
  },
  {
   "cell_type": "markdown",
   "id": "2ebf71bb",
   "metadata": {},
   "source": [
    "We can try plotting this graph to see if we can find anything interesting."
   ]
  },
  {
   "cell_type": "code",
   "execution_count": 315,
   "id": "6bf30323",
   "metadata": {
    "scrolled": true
   },
   "outputs": [
    {
     "data": {
      "text/plain": [
       "<AxesSubplot: xlabel='DATE', ylabel='CPI'>"
      ]
     },
     "execution_count": 315,
     "metadata": {},
     "output_type": "execute_result"
    },
    {
     "data": {
      "image/png": "[encoded data removed]",
      "text/plain": [
       "<Figure size 640x480 with 1 Axes>"
      ]
     },
     "metadata": {},
     "output_type": "display_data"
    }
   ],
   "source": [
    "sns.lineplot(data=combined, x=\"DATE\", y=\"CPI\")\n",
    "sns.lineplot(data=combined, x=\"DATE\", y=\"ZORI\")"
   ]
  },
  {
   "cell_type": "markdown",
   "id": "8478c082",
   "metadata": {},
   "source": [
    "We have a problem! ZORI and CPI use a different scale!"
   ]
  },
  {
   "cell_type": "markdown",
   "id": "809d9e48",
   "metadata": {},
   "source": [
    "### Logging Our Data"
   ]
  },
  {
   "cell_type": "markdown",
   "id": "c6c9712b",
   "metadata": {},
   "source": [
    "We can try logging our data to make them easier to compare."
   ]
  },
  {
   "cell_type": "code",
   "execution_count": 316,
   "id": "db935ffe",
   "metadata": {},
   "outputs": [],
   "source": [
    "combined[\"log CPI\"] = np.log(combined[\"CPI\"])\n",
    "combined[\"log ZORI\"] = np.log(combined[\"ZORI\"])"
   ]
  },
  {
   "cell_type": "code",
   "execution_count": 317,
   "id": "0d8890f7",
   "metadata": {},
   "outputs": [
    {
     "data": {
      "text/plain": [
       "<AxesSubplot: xlabel='DATE', ylabel='log CPI'>"
      ]
     },
     "execution_count": 317,
     "metadata": {},
     "output_type": "execute_result"
    },
    {
     "data": {
      "image/png": "[encoded data removed]",
      "text/plain": [
       "<Figure size 640x480 with 1 Axes>"
      ]
     },
     "metadata": {},
     "output_type": "display_data"
    }
   ],
   "source": [
    "sns.lineplot(data=combined, x=\"DATE\", y=\"log CPI\")\n",
    "sns.lineplot(data=combined, x=\"DATE\", y=\"log ZORI\")"
   ]
  },
  {
   "cell_type": "markdown",
   "id": "867dbe8f",
   "metadata": {},
   "source": [
    "Now, the similar shape becomes more apparent, but we can see that log ZORI is roughly in the 7 range, while log CPI is roughly in the 5 range. We can try subtracting 2 to log ZORI to see if they are similar."
   ]
  },
  {
   "cell_type": "code",
   "execution_count": 318,
   "id": "31921145",
   "metadata": {},
   "outputs": [],
   "source": [
    "combined[\"modified ZORI\"] = combined[\"log ZORI\"].apply(lambda x: x-1.6)"
   ]
  },
  {
   "cell_type": "code",
   "execution_count": 319,
   "id": "d61a0cfd",
   "metadata": {},
   "outputs": [
    {
     "data": {
      "text/html": [
       "<div>\n",
       "<style scoped>\n",
       "    .dataframe tbody tr th:only-of-type {\n",
       "        vertical-align: middle;\n",
       "    }\n",
       "\n",
       "    .dataframe tbody tr th {\n",
       "        vertical-align: top;\n",
       "    }\n",
       "\n",
       "    .dataframe thead th {\n",
       "        text-align: right;\n",
       "    }\n",
       "</style>\n",
       "<table border=\"1\" class=\"dataframe\">\n",
       "  <thead>\n",
       "    <tr style=\"text-align: right;\">\n",
       "      <th></th>\n",
       "      <th>DATE</th>\n",
       "      <th>CPI</th>\n",
       "      <th>ZORI</th>\n",
       "      <th>log CPI</th>\n",
       "      <th>log ZORI</th>\n",
       "      <th>modified ZORI</th>\n",
       "    </tr>\n",
       "  </thead>\n",
       "  <tbody>\n",
       "    <tr>\n",
       "      <th>0</th>\n",
       "      <td>2015-04-01</td>\n",
       "      <td>283.598</td>\n",
       "      <td>1370.301806</td>\n",
       "      <td>5.647558</td>\n",
       "      <td>7.222786</td>\n",
       "      <td>5.622786</td>\n",
       "    </tr>\n",
       "    <tr>\n",
       "      <th>1</th>\n",
       "      <td>2015-05-01</td>\n",
       "      <td>284.245</td>\n",
       "      <td>1381.971304</td>\n",
       "      <td>5.649837</td>\n",
       "      <td>7.231266</td>\n",
       "      <td>5.631266</td>\n",
       "    </tr>\n",
       "    <tr>\n",
       "      <th>2</th>\n",
       "      <td>2015-06-01</td>\n",
       "      <td>285.031</td>\n",
       "      <td>1392.389090</td>\n",
       "      <td>5.652598</td>\n",
       "      <td>7.238776</td>\n",
       "      <td>5.638776</td>\n",
       "    </tr>\n",
       "    <tr>\n",
       "      <th>3</th>\n",
       "      <td>2015-07-01</td>\n",
       "      <td>286.090</td>\n",
       "      <td>1403.203509</td>\n",
       "      <td>5.656306</td>\n",
       "      <td>7.246513</td>\n",
       "      <td>5.646513</td>\n",
       "    </tr>\n",
       "    <tr>\n",
       "      <th>4</th>\n",
       "      <td>2015-08-01</td>\n",
       "      <td>287.068</td>\n",
       "      <td>1408.901384</td>\n",
       "      <td>5.659719</td>\n",
       "      <td>7.250566</td>\n",
       "      <td>5.650566</td>\n",
       "    </tr>\n",
       "    <tr>\n",
       "      <th>...</th>\n",
       "      <td>...</td>\n",
       "      <td>...</td>\n",
       "      <td>...</td>\n",
       "      <td>...</td>\n",
       "      <td>...</td>\n",
       "      <td>...</td>\n",
       "    </tr>\n",
       "    <tr>\n",
       "      <th>85</th>\n",
       "      <td>2022-05-01</td>\n",
       "      <td>365.116</td>\n",
       "      <td>1997.731260</td>\n",
       "      <td>5.900215</td>\n",
       "      <td>7.599767</td>\n",
       "      <td>5.999767</td>\n",
       "    </tr>\n",
       "    <tr>\n",
       "      <th>86</th>\n",
       "      <td>2022-06-01</td>\n",
       "      <td>367.927</td>\n",
       "      <td>2019.752839</td>\n",
       "      <td>5.907885</td>\n",
       "      <td>7.610730</td>\n",
       "      <td>6.010730</td>\n",
       "    </tr>\n",
       "    <tr>\n",
       "      <th>87</th>\n",
       "      <td>2022-07-01</td>\n",
       "      <td>370.448</td>\n",
       "      <td>2044.662959</td>\n",
       "      <td>5.914713</td>\n",
       "      <td>7.622988</td>\n",
       "      <td>6.022988</td>\n",
       "    </tr>\n",
       "    <tr>\n",
       "      <th>88</th>\n",
       "      <td>2022-08-01</td>\n",
       "      <td>373.283</td>\n",
       "      <td>2065.275748</td>\n",
       "      <td>5.922337</td>\n",
       "      <td>7.633019</td>\n",
       "      <td>6.033019</td>\n",
       "    </tr>\n",
       "    <tr>\n",
       "      <th>89</th>\n",
       "      <td>2022-09-01</td>\n",
       "      <td>376.569</td>\n",
       "      <td>2078.546078</td>\n",
       "      <td>5.931101</td>\n",
       "      <td>7.639424</td>\n",
       "      <td>6.039424</td>\n",
       "    </tr>\n",
       "  </tbody>\n",
       "</table>\n",
       "<p>90 rows × 6 columns</p>\n",
       "</div>"
      ],
      "text/plain": [
       "         DATE      CPI         ZORI   log CPI  log ZORI  modified ZORI\n",
       "0  2015-04-01  283.598  1370.301806  5.647558  7.222786       5.622786\n",
       "1  2015-05-01  284.245  1381.971304  5.649837  7.231266       5.631266\n",
       "2  2015-06-01  285.031  1392.389090  5.652598  7.238776       5.638776\n",
       "3  2015-07-01  286.090  1403.203509  5.656306  7.246513       5.646513\n",
       "4  2015-08-01  287.068  1408.901384  5.659719  7.250566       5.650566\n",
       "..        ...      ...          ...       ...       ...            ...\n",
       "85 2022-05-01  365.116  1997.731260  5.900215  7.599767       5.999767\n",
       "86 2022-06-01  367.927  2019.752839  5.907885  7.610730       6.010730\n",
       "87 2022-07-01  370.448  2044.662959  5.914713  7.622988       6.022988\n",
       "88 2022-08-01  373.283  2065.275748  5.922337  7.633019       6.033019\n",
       "89 2022-09-01  376.569  2078.546078  5.931101  7.639424       6.039424\n",
       "\n",
       "[90 rows x 6 columns]"
      ]
     },
     "execution_count": 319,
     "metadata": {},
     "output_type": "execute_result"
    }
   ],
   "source": [
    "combined"
   ]
  },
  {
   "cell_type": "code",
   "execution_count": 320,
   "id": "70d5a42b",
   "metadata": {},
   "outputs": [
    {
     "data": {
      "text/plain": [
       "<AxesSubplot: xlabel='DATE', ylabel='log CPI'>"
      ]
     },
     "execution_count": 320,
     "metadata": {},
     "output_type": "execute_result"
    },
    {
     "data": {
      "image/png": "[encoded data removed]",
      "text/plain": [
       "<Figure size 640x480 with 1 Axes>"
      ]
     },
     "metadata": {},
     "output_type": "display_data"
    }
   ],
   "source": [
    "sns.lineplot(data=combined, x=\"DATE\", y=\"log CPI\")\n",
    "sns.lineplot(data=combined, x=\"DATE\", y=\"modified ZORI\")"
   ]
  },
  {
   "cell_type": "code",
   "execution_count": 321,
   "id": "9f3e075a",
   "metadata": {},
   "outputs": [
    {
     "data": {
      "text/plain": [
       "PearsonRResult(statistic=0.954651447268295, pvalue=4.4054808381897e-48)"
      ]
     },
     "execution_count": 321,
     "metadata": {},
     "output_type": "execute_result"
    }
   ],
   "source": [
    "stats.pearsonr(combined[\"log CPI\"], combined[\"log ZORI\"])"
   ]
  },
  {
   "cell_type": "markdown",
   "id": "26690e77",
   "metadata": {},
   "source": [
    "What are some things you notice in the graph?"
   ]
  },
  {
   "cell_type": "markdown",
   "id": "d29c7968",
   "metadata": {},
   "source": [
    "We can see that ZORI has a lot more fluctuation than the CPI."
   ]
  },
  {
   "cell_type": "markdown",
   "id": "19285041",
   "metadata": {},
   "source": [
    "# VAR Models"
   ]
  },
  {
   "cell_type": "markdown",
   "id": "0602bae3",
   "metadata": {},
   "source": [
    "We set the index as the date column."
   ]
  },
  {
   "cell_type": "code",
   "execution_count": 322,
   "id": "8bd0a022",
   "metadata": {},
   "outputs": [],
   "source": [
    "df = combined.set_index(\"DATE\")\n",
    "df = df[[\"CPI\", \"ZORI\"]]"
   ]
  },
  {
   "cell_type": "code",
   "execution_count": 323,
   "id": "3e8ba105",
   "metadata": {
    "scrolled": true
   },
   "outputs": [
    {
     "data": {
      "text/html": [
       "<div>\n",
       "<style scoped>\n",
       "    .dataframe tbody tr th:only-of-type {\n",
       "        vertical-align: middle;\n",
       "    }\n",
       "\n",
       "    .dataframe tbody tr th {\n",
       "        vertical-align: top;\n",
       "    }\n",
       "\n",
       "    .dataframe thead th {\n",
       "        text-align: right;\n",
       "    }\n",
       "</style>\n",
       "<table border=\"1\" class=\"dataframe\">\n",
       "  <thead>\n",
       "    <tr style=\"text-align: right;\">\n",
       "      <th></th>\n",
       "      <th>CPI</th>\n",
       "      <th>ZORI</th>\n",
       "    </tr>\n",
       "    <tr>\n",
       "      <th>DATE</th>\n",
       "      <th></th>\n",
       "      <th></th>\n",
       "    </tr>\n",
       "  </thead>\n",
       "  <tbody>\n",
       "    <tr>\n",
       "      <th>2015-04-01</th>\n",
       "      <td>283.598</td>\n",
       "      <td>1370.301806</td>\n",
       "    </tr>\n",
       "    <tr>\n",
       "      <th>2015-05-01</th>\n",
       "      <td>284.245</td>\n",
       "      <td>1381.971304</td>\n",
       "    </tr>\n",
       "    <tr>\n",
       "      <th>2015-06-01</th>\n",
       "      <td>285.031</td>\n",
       "      <td>1392.389090</td>\n",
       "    </tr>\n",
       "    <tr>\n",
       "      <th>2015-07-01</th>\n",
       "      <td>286.090</td>\n",
       "      <td>1403.203509</td>\n",
       "    </tr>\n",
       "    <tr>\n",
       "      <th>2015-08-01</th>\n",
       "      <td>287.068</td>\n",
       "      <td>1408.901384</td>\n",
       "    </tr>\n",
       "    <tr>\n",
       "      <th>...</th>\n",
       "      <td>...</td>\n",
       "      <td>...</td>\n",
       "    </tr>\n",
       "    <tr>\n",
       "      <th>2022-05-01</th>\n",
       "      <td>365.116</td>\n",
       "      <td>1997.731260</td>\n",
       "    </tr>\n",
       "    <tr>\n",
       "      <th>2022-06-01</th>\n",
       "      <td>367.927</td>\n",
       "      <td>2019.752839</td>\n",
       "    </tr>\n",
       "    <tr>\n",
       "      <th>2022-07-01</th>\n",
       "      <td>370.448</td>\n",
       "      <td>2044.662959</td>\n",
       "    </tr>\n",
       "    <tr>\n",
       "      <th>2022-08-01</th>\n",
       "      <td>373.283</td>\n",
       "      <td>2065.275748</td>\n",
       "    </tr>\n",
       "    <tr>\n",
       "      <th>2022-09-01</th>\n",
       "      <td>376.569</td>\n",
       "      <td>2078.546078</td>\n",
       "    </tr>\n",
       "  </tbody>\n",
       "</table>\n",
       "<p>90 rows × 2 columns</p>\n",
       "</div>"
      ],
      "text/plain": [
       "                CPI         ZORI\n",
       "DATE                            \n",
       "2015-04-01  283.598  1370.301806\n",
       "2015-05-01  284.245  1381.971304\n",
       "2015-06-01  285.031  1392.389090\n",
       "2015-07-01  286.090  1403.203509\n",
       "2015-08-01  287.068  1408.901384\n",
       "...             ...          ...\n",
       "2022-05-01  365.116  1997.731260\n",
       "2022-06-01  367.927  2019.752839\n",
       "2022-07-01  370.448  2044.662959\n",
       "2022-08-01  373.283  2065.275748\n",
       "2022-09-01  376.569  2078.546078\n",
       "\n",
       "[90 rows x 2 columns]"
      ]
     },
     "execution_count": 323,
     "metadata": {},
     "output_type": "execute_result"
    }
   ],
   "source": [
    "df"
   ]
  },
  {
   "cell_type": "markdown",
   "id": "d0cd7eee",
   "metadata": {},
   "source": [
    "We import some modules from the statsmodels library."
   ]
  },
  {
   "cell_type": "code",
   "execution_count": 324,
   "id": "43f6019d",
   "metadata": {},
   "outputs": [],
   "source": [
    "import pandas as pd\n",
    "import numpy as np\n",
    "import matplotlib.pyplot as plt\n",
    "%matplotlib inline\n",
    "\n",
    "# Import Statsmodels\n",
    "from statsmodels.tsa.api import VAR\n",
    "from statsmodels.tsa.stattools import adfuller\n",
    "from statsmodels.tools.eval_measures import rmse, aic"
   ]
  },
  {
   "cell_type": "markdown",
   "id": "901fa19d",
   "metadata": {},
   "source": [
    "### Granger Causality"
   ]
  },
  {
   "cell_type": "markdown",
   "id": "5d019ab4",
   "metadata": {},
   "source": [
    "We first use Granger's Causality Tests to see the p-value of the correlations between different variables."
   ]
  },
  {
   "cell_type": "code",
   "execution_count": 325,
   "id": "2eab3a32",
   "metadata": {},
   "outputs": [],
   "source": [
    "from statsmodels.tsa.stattools import grangercausalitytests\n",
    "maxlag=12\n",
    "test = 'ssr_chi2test'\n",
    "def grangers_causation_matrix(data, variables, test='ssr_chi2test', verbose=False):    \n",
    "    \"\"\"Check Granger Causality of all possible combinations of the Time series.\n",
    "    The rows are the response variable, columns are predictors. The values in the table \n",
    "    are the P-Values. P-Values lesser than the significance level (0.05), implies \n",
    "    the Null Hypothesis that the coefficients of the corresponding past values is \n",
    "    zero, that is, the X does not cause Y can be rejected.\n",
    "\n",
    "    data      : pandas dataframe containing the time series variables\n",
    "    variables : list containing names of the time series variables.\n",
    "    \"\"\"\n",
    "    df = pd.DataFrame(np.zeros((len(variables), len(variables))), columns=variables, index=variables)\n",
    "    for c in df.columns:\n",
    "        for r in df.index:\n",
    "            test_result = grangercausalitytests(data[[r, c]], maxlag=maxlag, verbose=False)\n",
    "            p_values = [round(test_result[i+1][0][test][1],4) for i in range(maxlag)]\n",
    "            if verbose: print(f'Y = {r}, X = {c}, P Values = {p_values}')\n",
    "            min_p_value = np.min(p_values)\n",
    "            df.loc[r, c] = min_p_value\n",
    "    df.columns = [var + '_x' for var in variables]\n",
    "    df.index = [var + '_y' for var in variables]\n",
    "    return df"
   ]
  },
  {
   "cell_type": "code",
   "execution_count": 326,
   "id": "455baeff",
   "metadata": {},
   "outputs": [
    {
     "data": {
      "text/html": [
       "<div>\n",
       "<style scoped>\n",
       "    .dataframe tbody tr th:only-of-type {\n",
       "        vertical-align: middle;\n",
       "    }\n",
       "\n",
       "    .dataframe tbody tr th {\n",
       "        vertical-align: top;\n",
       "    }\n",
       "\n",
       "    .dataframe thead th {\n",
       "        text-align: right;\n",
       "    }\n",
       "</style>\n",
       "<table border=\"1\" class=\"dataframe\">\n",
       "  <thead>\n",
       "    <tr style=\"text-align: right;\">\n",
       "      <th></th>\n",
       "      <th>CPI_x</th>\n",
       "      <th>ZORI_x</th>\n",
       "    </tr>\n",
       "  </thead>\n",
       "  <tbody>\n",
       "    <tr>\n",
       "      <th>CPI_y</th>\n",
       "      <td>1.0000</td>\n",
       "      <td>0.0</td>\n",
       "    </tr>\n",
       "    <tr>\n",
       "      <th>ZORI_y</th>\n",
       "      <td>0.0119</td>\n",
       "      <td>1.0</td>\n",
       "    </tr>\n",
       "  </tbody>\n",
       "</table>\n",
       "</div>"
      ],
      "text/plain": [
       "         CPI_x  ZORI_x\n",
       "CPI_y   1.0000     0.0\n",
       "ZORI_y  0.0119     1.0"
      ]
     },
     "execution_count": 326,
     "metadata": {},
     "output_type": "execute_result"
    }
   ],
   "source": [
    "grangers_causation_matrix(df, variables = df.columns) "
   ]
  },
  {
   "cell_type": "markdown",
   "id": "47aa2f95",
   "metadata": {},
   "source": [
    "How can we interpret the findings above?"
   ]
  },
  {
   "cell_type": "markdown",
   "id": "36d2c30b",
   "metadata": {},
   "source": [
    "### Cointegration Test"
   ]
  },
  {
   "cell_type": "markdown",
   "id": "96be5702",
   "metadata": {},
   "source": [
    "We can use a cointegration test to see if the two time series are correlated before making any predictions."
   ]
  },
  {
   "cell_type": "code",
   "execution_count": 327,
   "id": "be0a65fa",
   "metadata": {},
   "outputs": [],
   "source": [
    "from statsmodels.tsa.vector_ar.vecm import coint_johansen\n",
    "\n",
    "def cointegration_test(df, alpha=0.05): \n",
    "    \"\"\"Perform Johanson's Cointegration Test and Report Summary\"\"\"\n",
    "    out = coint_johansen(df,-1,5)\n",
    "    d = {'0.90':0, '0.95':1, '0.99':2}\n",
    "    traces = out.lr1\n",
    "    cvts = out.cvt[:, d[str(1-alpha)]]\n",
    "    def adjust(val, length= 6): return str(val).ljust(length)\n",
    "\n",
    "    # Summary\n",
    "    print('Name   ::  Test Stat > C(95%)    =>   Signif  \\n', '--'*20)\n",
    "    for col, trace, cvt in zip(df.columns, traces, cvts):\n",
    "        print(adjust(col), ':: ', adjust(round(trace,2), 9), \">\", adjust(cvt, 8), ' =>  ' , trace > cvt)"
   ]
  },
  {
   "cell_type": "code",
   "execution_count": 328,
   "id": "22e73d95",
   "metadata": {},
   "outputs": [
    {
     "name": "stdout",
     "output_type": "stream",
     "text": [
      "Name   ::  Test Stat > C(95%)    =>   Signif  \n",
      " ----------------------------------------\n",
      "CPI    ::  20.2      > 12.3212   =>   True\n",
      "ZORI   ::  5.2       > 4.1296    =>   True\n"
     ]
    }
   ],
   "source": [
    "cointegration_test(df)"
   ]
  },
  {
   "cell_type": "markdown",
   "id": "7c75bb52",
   "metadata": {},
   "source": [
    "### Splitting into Training and Testing Groups"
   ]
  },
  {
   "cell_type": "code",
   "execution_count": 329,
   "id": "bbaad113",
   "metadata": {
    "scrolled": true
   },
   "outputs": [
    {
     "name": "stdout",
     "output_type": "stream",
     "text": [
      "(86, 2)\n",
      "(4, 2)\n"
     ]
    }
   ],
   "source": [
    "nobs = 4\n",
    "df_train, df_test = df[0:-nobs], df[-nobs:]\n",
    "\n",
    "# Check size\n",
    "print(df_train.shape)  # (119, 8)\n",
    "print(df_test.shape)  # (4, 8)"
   ]
  },
  {
   "cell_type": "markdown",
   "id": "0c128cd8",
   "metadata": {},
   "source": [
    "## Transforming the Time Series to be Stationary"
   ]
  },
  {
   "cell_type": "markdown",
   "id": "d0f8c250",
   "metadata": {},
   "source": [
    "In order to perform our VAR test, we want our time series to be stationary. A stationary time series is one whose characteristics like mean and variance does not change over time."
   ]
  },
  {
   "cell_type": "code",
   "execution_count": 330,
   "id": "a15184e4",
   "metadata": {},
   "outputs": [],
   "source": [
    "def adfuller_test(series, signif=0.05, name='', verbose=False):\n",
    "    \"\"\"Perform ADFuller to test for Stationarity of given series and print report\"\"\"\n",
    "    r = adfuller(series, autolag='AIC')\n",
    "    output = {'test_statistic':round(r[0], 4), 'pvalue':round(r[1], 4), 'n_lags':round(r[2], 4), 'n_obs':r[3]}\n",
    "    p_value = output['pvalue'] \n",
    "    def adjust(val, length= 6): return str(val).ljust(length)\n",
    "\n",
    "    # Print Summary\n",
    "    print(f'    Augmented Dickey-Fuller Test on \"{name}\"', \"\\n   \", '-'*47)\n",
    "    print(f' Null Hypothesis: Data has unit root. Non-Stationary.')\n",
    "    print(f' Significance Level    = {signif}')\n",
    "    print(f' Test Statistic        = {output[\"test_statistic\"]}')\n",
    "    print(f' No. Lags Chosen       = {output[\"n_lags\"]}')\n",
    "\n",
    "    for key,val in r[4].items():\n",
    "        print(f' Critical value {adjust(key)} = {round(val, 3)}')\n",
    "\n",
    "    if p_value <= signif:\n",
    "        print(f\" => P-Value = {p_value}. Rejecting Null Hypothesis.\")\n",
    "        print(f\" => Series is Stationary.\")\n",
    "    else:\n",
    "        print(f\" => P-Value = {p_value}. Weak evidence to reject the Null Hypothesis.\")\n",
    "        print(f\" => Series is Non-Stationary.\")  "
   ]
  },
  {
   "cell_type": "code",
   "execution_count": 331,
   "id": "e05d5de9",
   "metadata": {},
   "outputs": [
    {
     "name": "stdout",
     "output_type": "stream",
     "text": [
      "    Augmented Dickey-Fuller Test on \"CPI\" \n",
      "    -----------------------------------------------\n",
      " Null Hypothesis: Data has unit root. Non-Stationary.\n",
      " Significance Level    = 0.05\n",
      " Test Statistic        = 1.0281\n",
      " No. Lags Chosen       = 2\n",
      " Critical value 1%     = -3.512\n",
      " Critical value 5%     = -2.897\n",
      " Critical value 10%    = -2.586\n",
      " => P-Value = 0.9946. Weak evidence to reject the Null Hypothesis.\n",
      " => Series is Non-Stationary.\n",
      "\n",
      "\n",
      "    Augmented Dickey-Fuller Test on \"ZORI\" \n",
      "    -----------------------------------------------\n",
      " Null Hypothesis: Data has unit root. Non-Stationary.\n",
      " Significance Level    = 0.05\n",
      " Test Statistic        = 1.355\n",
      " No. Lags Chosen       = 7\n",
      " Critical value 1%     = -3.517\n",
      " Critical value 5%     = -2.899\n",
      " Critical value 10%    = -2.587\n",
      " => P-Value = 0.9969. Weak evidence to reject the Null Hypothesis.\n",
      " => Series is Non-Stationary.\n",
      "\n",
      "\n"
     ]
    },
    {
     "name": "stderr",
     "output_type": "stream",
     "text": [
      "C:\\Users\\am513\\AppData\\Local\\Temp\\ipykernel_25156\\860807690.py:1: FutureWarning: iteritems is deprecated and will be removed in a future version. Use .items instead.\n",
      "  for name, column in df_train.iteritems():\n"
     ]
    }
   ],
   "source": [
    "for name, column in df_train.iteritems():\n",
    "    adfuller_test(column, name=column.name)\n",
    "    print('\\n')"
   ]
  },
  {
   "cell_type": "code",
   "execution_count": 332,
   "id": "10594878",
   "metadata": {},
   "outputs": [],
   "source": [
    "df_differenced = df_train.diff().dropna()"
   ]
  },
  {
   "cell_type": "code",
   "execution_count": 333,
   "id": "6e75f176",
   "metadata": {},
   "outputs": [
    {
     "name": "stdout",
     "output_type": "stream",
     "text": [
      "    Augmented Dickey-Fuller Test on \"CPI\" \n",
      "    -----------------------------------------------\n",
      " Null Hypothesis: Data has unit root. Non-Stationary.\n",
      " Significance Level    = 0.05\n",
      " Test Statistic        = -1.3492\n",
      " No. Lags Chosen       = 1\n",
      " Critical value 1%     = -3.512\n",
      " Critical value 5%     = -2.897\n",
      " Critical value 10%    = -2.586\n",
      " => P-Value = 0.6064. Weak evidence to reject the Null Hypothesis.\n",
      " => Series is Non-Stationary.\n",
      "\n",
      "\n",
      "    Augmented Dickey-Fuller Test on \"ZORI\" \n",
      "    -----------------------------------------------\n",
      " Null Hypothesis: Data has unit root. Non-Stationary.\n",
      " Significance Level    = 0.05\n",
      " Test Statistic        = -0.5727\n",
      " No. Lags Chosen       = 6\n",
      " Critical value 1%     = -3.517\n",
      " Critical value 5%     = -2.899\n",
      " Critical value 10%    = -2.587\n",
      " => P-Value = 0.877. Weak evidence to reject the Null Hypothesis.\n",
      " => Series is Non-Stationary.\n",
      "\n",
      "\n"
     ]
    },
    {
     "name": "stderr",
     "output_type": "stream",
     "text": [
      "C:\\Users\\am513\\AppData\\Local\\Temp\\ipykernel_25156\\1957205119.py:2: FutureWarning: iteritems is deprecated and will be removed in a future version. Use .items instead.\n",
      "  for name, column in df_differenced.iteritems():\n"
     ]
    }
   ],
   "source": [
    "# ADF Test on each column of 1st Differences Dataframe\n",
    "for name, column in df_differenced.iteritems():\n",
    "    adfuller_test(column, name=column.name)\n",
    "    print('\\n')"
   ]
  },
  {
   "cell_type": "code",
   "execution_count": 334,
   "id": "7f304074",
   "metadata": {},
   "outputs": [],
   "source": [
    "df_differenced = df_differenced.diff().dropna()"
   ]
  },
  {
   "cell_type": "code",
   "execution_count": 335,
   "id": "1e17e7f7",
   "metadata": {
    "scrolled": true
   },
   "outputs": [
    {
     "name": "stdout",
     "output_type": "stream",
     "text": [
      "    Augmented Dickey-Fuller Test on \"CPI\" \n",
      "    -----------------------------------------------\n",
      " Null Hypothesis: Data has unit root. Non-Stationary.\n",
      " Significance Level    = 0.05\n",
      " Test Statistic        = -12.856\n",
      " No. Lags Chosen       = 0\n",
      " Critical value 1%     = -3.512\n",
      " Critical value 5%     = -2.897\n",
      " Critical value 10%    = -2.586\n",
      " => P-Value = 0.0. Rejecting Null Hypothesis.\n",
      " => Series is Stationary.\n",
      "\n",
      "\n",
      "    Augmented Dickey-Fuller Test on \"ZORI\" \n",
      "    -----------------------------------------------\n",
      " Null Hypothesis: Data has unit root. Non-Stationary.\n",
      " Significance Level    = 0.05\n",
      " Test Statistic        = -7.0602\n",
      " No. Lags Chosen       = 5\n",
      " Critical value 1%     = -3.517\n",
      " Critical value 5%     = -2.899\n",
      " Critical value 10%    = -2.587\n",
      " => P-Value = 0.0. Rejecting Null Hypothesis.\n",
      " => Series is Stationary.\n",
      "\n",
      "\n"
     ]
    },
    {
     "name": "stderr",
     "output_type": "stream",
     "text": [
      "C:\\Users\\am513\\AppData\\Local\\Temp\\ipykernel_25156\\1957205119.py:2: FutureWarning: iteritems is deprecated and will be removed in a future version. Use .items instead.\n",
      "  for name, column in df_differenced.iteritems():\n"
     ]
    }
   ],
   "source": [
    "# ADF Test on each column of 1st Differences Dataframe\n",
    "for name, column in df_differenced.iteritems():\n",
    "    adfuller_test(column, name=column.name)\n",
    "    print('\\n')"
   ]
  },
  {
   "cell_type": "code",
   "execution_count": 336,
   "id": "6a64ca95",
   "metadata": {
    "scrolled": true
   },
   "outputs": [
    {
     "name": "stdout",
     "output_type": "stream",
     "text": [
      "Lag Order = 1\n",
      "AIC :  -0.21026376340090014\n",
      "BIC :  -0.03540781584933883\n",
      "FPE :  0.8104215346830684\n",
      "HQIC:  -0.14001643485829512 \n",
      "\n",
      "Lag Order = 3\n",
      "AIC :  -0.3617054216410931\n",
      "BIC :  0.05214998780846436\n",
      "FPE :  0.6970898329062551\n",
      "HQIC:  -0.19566120825066702 \n",
      "\n",
      "Lag Order = 5\n",
      "AIC :  -0.3196447361203959\n",
      "BIC :  0.34020150127548354\n",
      "FPE :  0.7290573861095326\n",
      "HQIC:  -0.05529014536985133 \n",
      "\n",
      "Lag Order = 9\n",
      "AIC :  -0.3820421056598129\n",
      "BIC :  0.7921518718652507\n",
      "FPE :  0.6980327511351773\n",
      "HQIC:  0.08680065599158593 \n",
      "\n"
     ]
    },
    {
     "name": "stderr",
     "output_type": "stream",
     "text": [
      "C:\\Users\\am513\\anaconda3\\envs\\python39\\lib\\site-packages\\statsmodels\\tsa\\base\\tsa_model.py:471: ValueWarning: No frequency information was provided, so inferred frequency MS will be used.\n",
      "  self._init_dates(dates, freq)\n"
     ]
    }
   ],
   "source": [
    "model = VAR(df_differenced)\n",
    "for i in [1,3,5,9]:\n",
    "    result = model.fit(i)\n",
    "    print('Lag Order =', i)\n",
    "    print('AIC : ', result.aic)\n",
    "    print('BIC : ', result.bic)\n",
    "    print('FPE : ', result.fpe)\n",
    "    print('HQIC: ', result.hqic, '\\n')"
   ]
  },
  {
   "cell_type": "code",
   "execution_count": 337,
   "id": "62a93028",
   "metadata": {
    "scrolled": true
   },
   "outputs": [
    {
     "data": {
      "text/plain": [
       "  Summary of Regression Results   \n",
       "==================================\n",
       "Model:                         VAR\n",
       "Method:                        OLS\n",
       "Date:           Wed, 28, Dec, 2022\n",
       "Time:                     21:05:54\n",
       "--------------------------------------------------------------------\n",
       "No. of Equations:         2.00000    BIC:                  0.0521500\n",
       "Nobs:                     81.0000    HQIC:                 -0.195661\n",
       "Log likelihood:          -201.219    FPE:                   0.697090\n",
       "AIC:                    -0.361705    Det(Omega_mle):        0.590600\n",
       "--------------------------------------------------------------------\n",
       "Results for equation CPI\n",
       "==========================================================================\n",
       "             coefficient       std. error           t-stat            prob\n",
       "--------------------------------------------------------------------------\n",
       "const           0.018346         0.026775            0.685           0.493\n",
       "L1.CPI         -0.447558         0.118263           -3.784           0.000\n",
       "L1.ZORI        -0.003679         0.008218           -0.448           0.654\n",
       "L2.CPI         -0.137827         0.128452           -1.073           0.283\n",
       "L2.ZORI         0.012676         0.008984            1.411           0.158\n",
       "L3.CPI          0.084114         0.119639            0.703           0.482\n",
       "L3.ZORI         0.007810         0.008729            0.895           0.371\n",
       "==========================================================================\n",
       "\n",
       "Results for equation ZORI\n",
       "==========================================================================\n",
       "             coefficient       std. error           t-stat            prob\n",
       "--------------------------------------------------------------------------\n",
       "const           0.266147         0.361993            0.735           0.462\n",
       "L1.CPI         -1.155771         1.598903           -0.723           0.470\n",
       "L1.ZORI         0.335336         0.111113            3.018           0.003\n",
       "L2.CPI         -2.828960         1.736660           -1.629           0.103\n",
       "L2.ZORI         0.335568         0.121469            2.763           0.006\n",
       "L3.CPI         -2.877204         1.617503           -1.779           0.075\n",
       "L3.ZORI        -0.410212         0.118012           -3.476           0.001\n",
       "==========================================================================\n",
       "\n",
       "Correlation matrix of residuals\n",
       "             CPI      ZORI\n",
       "CPI     1.000000 -0.094137\n",
       "ZORI   -0.094137  1.000000\n",
       "\n"
      ]
     },
     "execution_count": 337,
     "metadata": {},
     "output_type": "execute_result"
    }
   ],
   "source": [
    "model_fitted = model.fit(3)\n",
    "model_fitted.summary()"
   ]
  },
  {
   "cell_type": "code",
   "execution_count": 338,
   "id": "3d2eb992",
   "metadata": {
    "scrolled": true
   },
   "outputs": [
    {
     "name": "stdout",
     "output_type": "stream",
     "text": [
      "CPI    : 2.03\n",
      "ZORI   : 1.9\n"
     ]
    }
   ],
   "source": [
    "from statsmodels.stats.stattools import durbin_watson\n",
    "\n",
    "def adjust(val, length= 6): return str(val).ljust(length)\n",
    "out = durbin_watson(model_fitted.resid)\n",
    "\n",
    "for col, val in zip(df_differenced.columns, out):\n",
    "    print(adjust(col), ':', round(val, 2))"
   ]
  },
  {
   "cell_type": "markdown",
   "id": "3104f592",
   "metadata": {},
   "source": [
    "### Making Predictions"
   ]
  },
  {
   "cell_type": "code",
   "execution_count": 339,
   "id": "2e3dfefc",
   "metadata": {},
   "outputs": [
    {
     "name": "stdout",
     "output_type": "stream",
     "text": [
      "3\n"
     ]
    },
    {
     "data": {
      "text/plain": [
       "array([[-0.434     ,  9.60846668],\n",
       "       [ 0.412     , -1.98278112],\n",
       "       [ 0.297     , 10.48934293]])"
      ]
     },
     "execution_count": 339,
     "metadata": {},
     "output_type": "execute_result"
    }
   ],
   "source": [
    "# Get the lag order\n",
    "lag_order = model_fitted.k_ar\n",
    "print(lag_order)  #> 4\n",
    "\n",
    "# Input data for forecasting\n",
    "forecast_input = df_differenced.values[-lag_order:]\n",
    "forecast_input"
   ]
  },
  {
   "cell_type": "code",
   "execution_count": 340,
   "id": "9b98fedb",
   "metadata": {
    "scrolled": true
   },
   "outputs": [
    {
     "data": {
      "text/html": [
       "<div>\n",
       "<style scoped>\n",
       "    .dataframe tbody tr th:only-of-type {\n",
       "        vertical-align: middle;\n",
       "    }\n",
       "\n",
       "    .dataframe tbody tr th {\n",
       "        vertical-align: top;\n",
       "    }\n",
       "\n",
       "    .dataframe thead th {\n",
       "        text-align: right;\n",
       "    }\n",
       "</style>\n",
       "<table border=\"1\" class=\"dataframe\">\n",
       "  <thead>\n",
       "    <tr style=\"text-align: right;\">\n",
       "      <th></th>\n",
       "      <th>CPI_2d</th>\n",
       "      <th>ZORI_2d</th>\n",
       "    </tr>\n",
       "    <tr>\n",
       "      <th>DATE</th>\n",
       "      <th></th>\n",
       "      <th></th>\n",
       "    </tr>\n",
       "  </thead>\n",
       "  <tbody>\n",
       "    <tr>\n",
       "      <th>2022-06-01</th>\n",
       "      <td>-0.196554</td>\n",
       "      <td>-1.083348</td>\n",
       "    </tr>\n",
       "    <tr>\n",
       "      <th>2022-07-01</th>\n",
       "      <td>0.221501</td>\n",
       "      <td>2.437672</td>\n",
       "    </tr>\n",
       "    <tr>\n",
       "      <th>2022-08-01</th>\n",
       "      <td>0.030502</td>\n",
       "      <td>-4.137291</td>\n",
       "    </tr>\n",
       "    <tr>\n",
       "      <th>2022-09-01</th>\n",
       "      <td>-0.004706</td>\n",
       "      <td>0.044825</td>\n",
       "    </tr>\n",
       "  </tbody>\n",
       "</table>\n",
       "</div>"
      ],
      "text/plain": [
       "              CPI_2d   ZORI_2d\n",
       "DATE                          \n",
       "2022-06-01 -0.196554 -1.083348\n",
       "2022-07-01  0.221501  2.437672\n",
       "2022-08-01  0.030502 -4.137291\n",
       "2022-09-01 -0.004706  0.044825"
      ]
     },
     "execution_count": 340,
     "metadata": {},
     "output_type": "execute_result"
    }
   ],
   "source": [
    "# Forecast\n",
    "fc = model_fitted.forecast(y=forecast_input, steps=nobs)\n",
    "df_forecast = pd.DataFrame(fc, index=df.index[-nobs:], columns=df.columns + '_2d')\n",
    "df_forecast"
   ]
  },
  {
   "cell_type": "markdown",
   "id": "0cf450b1",
   "metadata": {},
   "source": [
    "These are the differenced results. We want to de-difference it to get it back in terms of the original."
   ]
  },
  {
   "cell_type": "code",
   "execution_count": 341,
   "id": "87f268dd",
   "metadata": {},
   "outputs": [],
   "source": [
    "def invert_transformation(df_train, df_forecast, second_diff=False):\n",
    "    \"\"\"Revert back the differencing to get the forecast to original scale.\"\"\"\n",
    "    df_fc = df_forecast.copy()\n",
    "    columns = df_train.columns\n",
    "    for col in columns:        \n",
    "        # Roll back 2nd Diff\n",
    "        if second_diff:\n",
    "            df_fc[str(col)+'_1d'] = (df_train[col].iloc[-1]-df_train[col].iloc[-2]) + df_fc[str(col)+'_2d'].cumsum()\n",
    "        # Roll back 1st Diff\n",
    "        df_fc[str(col)+'_forecast'] = df_train[col].iloc[-1] + df_fc[str(col)+'_1d'].cumsum()\n",
    "    return df_fc"
   ]
  },
  {
   "cell_type": "code",
   "execution_count": 342,
   "id": "fcbb4f71",
   "metadata": {
    "scrolled": true
   },
   "outputs": [
    {
     "data": {
      "text/html": [
       "<div>\n",
       "<style scoped>\n",
       "    .dataframe tbody tr th:only-of-type {\n",
       "        vertical-align: middle;\n",
       "    }\n",
       "\n",
       "    .dataframe tbody tr th {\n",
       "        vertical-align: top;\n",
       "    }\n",
       "\n",
       "    .dataframe thead th {\n",
       "        text-align: right;\n",
       "    }\n",
       "</style>\n",
       "<table border=\"1\" class=\"dataframe\">\n",
       "  <thead>\n",
       "    <tr style=\"text-align: right;\">\n",
       "      <th></th>\n",
       "      <th>CPI_2d</th>\n",
       "      <th>ZORI_2d</th>\n",
       "      <th>CPI_1d</th>\n",
       "      <th>CPI_forecast</th>\n",
       "      <th>ZORI_1d</th>\n",
       "      <th>ZORI_forecast</th>\n",
       "    </tr>\n",
       "    <tr>\n",
       "      <th>DATE</th>\n",
       "      <th></th>\n",
       "      <th></th>\n",
       "      <th></th>\n",
       "      <th></th>\n",
       "      <th></th>\n",
       "      <th></th>\n",
       "    </tr>\n",
       "  </thead>\n",
       "  <tbody>\n",
       "    <tr>\n",
       "      <th>2022-06-01</th>\n",
       "      <td>-0.196554</td>\n",
       "      <td>-1.083348</td>\n",
       "      <td>1.968446</td>\n",
       "      <td>367.084446</td>\n",
       "      <td>25.390923</td>\n",
       "      <td>2023.122183</td>\n",
       "    </tr>\n",
       "    <tr>\n",
       "      <th>2022-07-01</th>\n",
       "      <td>0.221501</td>\n",
       "      <td>2.437672</td>\n",
       "      <td>2.189947</td>\n",
       "      <td>369.274393</td>\n",
       "      <td>27.828596</td>\n",
       "      <td>2050.950778</td>\n",
       "    </tr>\n",
       "    <tr>\n",
       "      <th>2022-08-01</th>\n",
       "      <td>0.030502</td>\n",
       "      <td>-4.137291</td>\n",
       "      <td>2.220449</td>\n",
       "      <td>371.494842</td>\n",
       "      <td>23.691304</td>\n",
       "      <td>2074.642083</td>\n",
       "    </tr>\n",
       "    <tr>\n",
       "      <th>2022-09-01</th>\n",
       "      <td>-0.004706</td>\n",
       "      <td>0.044825</td>\n",
       "      <td>2.215743</td>\n",
       "      <td>373.710585</td>\n",
       "      <td>23.736129</td>\n",
       "      <td>2098.378212</td>\n",
       "    </tr>\n",
       "  </tbody>\n",
       "</table>\n",
       "</div>"
      ],
      "text/plain": [
       "              CPI_2d   ZORI_2d    CPI_1d  CPI_forecast    ZORI_1d  \\\n",
       "DATE                                                                \n",
       "2022-06-01 -0.196554 -1.083348  1.968446    367.084446  25.390923   \n",
       "2022-07-01  0.221501  2.437672  2.189947    369.274393  27.828596   \n",
       "2022-08-01  0.030502 -4.137291  2.220449    371.494842  23.691304   \n",
       "2022-09-01 -0.004706  0.044825  2.215743    373.710585  23.736129   \n",
       "\n",
       "            ZORI_forecast  \n",
       "DATE                       \n",
       "2022-06-01    2023.122183  \n",
       "2022-07-01    2050.950778  \n",
       "2022-08-01    2074.642083  \n",
       "2022-09-01    2098.378212  "
      ]
     },
     "execution_count": 342,
     "metadata": {},
     "output_type": "execute_result"
    }
   ],
   "source": [
    "df_results = invert_transformation(df_train, df_forecast, second_diff=True)        \n",
    "df_results"
   ]
  },
  {
   "cell_type": "markdown",
   "id": "ab989966",
   "metadata": {},
   "source": [
    "We plot our predictions against actual values."
   ]
  },
  {
   "cell_type": "code",
   "execution_count": 343,
   "id": "7bbbeef2",
   "metadata": {},
   "outputs": [
    {
     "data": {
      "image/png": "[encoded data removed]",
      "text/plain": [
       "<Figure size 1500x1500 with 2 Axes>"
      ]
     },
     "metadata": {},
     "output_type": "display_data"
    }
   ],
   "source": [
    "fig, axes = plt.subplots(nrows=int(len(df.columns)/2), ncols=2, dpi=150, figsize=(10,10))\n",
    "for i, (col,ax) in enumerate(zip(df.columns, axes.flatten())):\n",
    "    df_results[col+'_forecast'].plot(legend=True, ax=ax).autoscale(axis='x',tight=True)\n",
    "    df_test[col][-nobs:].plot(legend=True, ax=ax);\n",
    "    ax.set_title(col + \": Forecast vs Actuals\")\n",
    "    ax.xaxis.set_ticks_position('none')\n",
    "    ax.yaxis.set_ticks_position('none')\n",
    "    ax.spines[\"top\"].set_alpha(0)\n",
    "    ax.tick_params(labelsize=6)\n",
    "\n",
    "plt.tight_layout();"
   ]
  },
  {
   "cell_type": "markdown",
   "id": "359b06ee",
   "metadata": {},
   "source": [
    "## Finding RMSE"
   ]
  },
  {
   "cell_type": "code",
   "execution_count": 344,
   "id": "338eedbd",
   "metadata": {},
   "outputs": [
    {
     "name": "stdout",
     "output_type": "stream",
     "text": [
      "Forecast Accuracy of: ZORI\n",
      "mape   :  0.0047\n",
      "me     :  9.7139\n",
      "mae    :  9.7139\n",
      "mpe    :  0.0047\n",
      "rmse   :  11.5318\n",
      "corr   :  0.995\n",
      "minmax :  0.0047\n"
     ]
    },
    {
     "name": "stderr",
     "output_type": "stream",
     "text": [
      "C:\\Users\\am513\\AppData\\Local\\Temp\\ipykernel_25156\\939094547.py:10: FutureWarning: Support for multi-dimensional indexing (e.g. `obj[:, None]`) is deprecated and will be removed in a future version.  Convert to a numpy array before indexing instead.\n",
      "  actual[:,None]]), axis=1)\n",
      "C:\\Users\\am513\\AppData\\Local\\Temp\\ipykernel_25156\\939094547.py:12: FutureWarning: Support for multi-dimensional indexing (e.g. `obj[:, None]`) is deprecated and will be removed in a future version.  Convert to a numpy array before indexing instead.\n",
      "  actual[:,None]]), axis=1)\n"
     ]
    }
   ],
   "source": [
    "from statsmodels.tsa.stattools import acf\n",
    "def forecast_accuracy(forecast, actual):\n",
    "    mape = np.mean(np.abs(forecast - actual)/np.abs(actual))  # MAPE\n",
    "    me = np.mean(forecast - actual)             # ME\n",
    "    mae = np.mean(np.abs(forecast - actual))    # MAE\n",
    "    mpe = np.mean((forecast - actual)/actual)   # MPE\n",
    "    rmse = np.mean((forecast - actual)**2)**.5  # RMSE\n",
    "    corr = np.corrcoef(forecast, actual)[0,1]   # corr\n",
    "    mins = np.amin(np.hstack([forecast[:,None], \n",
    "                              actual[:,None]]), axis=1)\n",
    "    maxs = np.amax(np.hstack([forecast[:,None], \n",
    "                              actual[:,None]]), axis=1)\n",
    "    minmax = 1 - np.mean(mins/maxs)             # minmax\n",
    "    return({'mape':mape, 'me':me, 'mae': mae, \n",
    "            'mpe': mpe, 'rmse':rmse, 'corr':corr, 'minmax':minmax})\n",
    "\n",
    "print('Forecast Accuracy of: ZORI')\n",
    "accuracy_prod = forecast_accuracy(df_results['ZORI_forecast'].values, df_test['ZORI'])\n",
    "for k, v in accuracy_prod.items():\n",
    "    print(adjust(k), ': ', round(v,4))"
   ]
  },
  {
   "cell_type": "markdown",
   "id": "0738e591",
   "metadata": {},
   "source": [
    "## Congratulations!\n",
    "You have finished!"
   ]
  },
  {
   "cell_type": "markdown",
   "id": "5fdd16ba-4826-45bc-b4f6-7b1c709ebf84",
   "metadata": {},
   "source": [
    "Now let's try utilizing the ZORI to help predict CPI. Similar to regular regression tasks, we can use covariates like ZORI to help predict CPI changes.\n",
    "\n",
    "We'll start by doing some data cleaning and conversion so we can do our modeling."
   ]
  },
  {
   "cell_type": "code",
   "execution_count": 349,
   "id": "057fbc35-1c48-42cf-99ab-b87de3034eff",
   "metadata": {},
   "outputs": [],
   "source": [
    "zillow_copy=zillow.copy()\n",
    "zillow_copy[\"date_ms\"]=zillow[\"DATE\"].astype(\"datetime64[M]\")\n",
    "zillow_copy=zillow_copy.drop([\"DATE\",\"index\"],axis=1)"
   ]
  },
  {
   "cell_type": "code",
   "execution_count": 351,
   "id": "93c60cf0-46bc-4745-a821-77f7d22bac90",
   "metadata": {},
   "outputs": [
    {
     "data": {
      "text/html": [
       "<div>\n",
       "<style scoped>\n",
       "    .dataframe tbody tr th:only-of-type {\n",
       "        vertical-align: middle;\n",
       "    }\n",
       "\n",
       "    .dataframe tbody tr th {\n",
       "        vertical-align: top;\n",
       "    }\n",
       "\n",
       "    .dataframe thead th {\n",
       "        text-align: right;\n",
       "    }\n",
       "</style>\n",
       "<table border=\"1\" class=\"dataframe\">\n",
       "  <thead>\n",
       "    <tr style=\"text-align: right;\">\n",
       "      <th></th>\n",
       "      <th>level_0</th>\n",
       "      <th>ZORI</th>\n",
       "      <th>date_ms</th>\n",
       "    </tr>\n",
       "  </thead>\n",
       "  <tbody>\n",
       "    <tr>\n",
       "      <th>0</th>\n",
       "      <td>0</td>\n",
       "      <td>1370.301806</td>\n",
       "      <td>2015-03-01</td>\n",
       "    </tr>\n",
       "    <tr>\n",
       "      <th>1</th>\n",
       "      <td>1</td>\n",
       "      <td>1381.971304</td>\n",
       "      <td>2015-04-01</td>\n",
       "    </tr>\n",
       "    <tr>\n",
       "      <th>2</th>\n",
       "      <td>2</td>\n",
       "      <td>1392.389090</td>\n",
       "      <td>2015-05-01</td>\n",
       "    </tr>\n",
       "    <tr>\n",
       "      <th>3</th>\n",
       "      <td>3</td>\n",
       "      <td>1403.203509</td>\n",
       "      <td>2015-06-01</td>\n",
       "    </tr>\n",
       "    <tr>\n",
       "      <th>4</th>\n",
       "      <td>4</td>\n",
       "      <td>1408.901384</td>\n",
       "      <td>2015-07-01</td>\n",
       "    </tr>\n",
       "  </tbody>\n",
       "</table>\n",
       "</div>"
      ],
      "text/plain": [
       "   level_0         ZORI    date_ms\n",
       "0        0  1370.301806 2015-03-01\n",
       "1        1  1381.971304 2015-04-01\n",
       "2        2  1392.389090 2015-05-01\n",
       "3        3  1403.203509 2015-06-01\n",
       "4        4  1408.901384 2015-07-01"
      ]
     },
     "execution_count": 351,
     "metadata": {},
     "output_type": "execute_result"
    }
   ],
   "source": [
    "zillow_copy.head()"
   ]
  },
  {
   "cell_type": "markdown",
   "id": "f84bec27-1418-4175-8515-5ec5b6c0609a",
   "metadata": {},
   "source": [
    "Now let's merge all of our datasets together. This will allow us to more easily do our modeling."
   ]
  },
  {
   "cell_type": "code",
   "execution_count": 352,
   "id": "852c2e4f-1b5f-4071-a03d-bb9e0d897df2",
   "metadata": {},
   "outputs": [],
   "source": [
    "comb_data=pd.merge(zillow_copy, usCPI, left_on=\"date_ms\",right_on=\"DATE\")"
   ]
  },
  {
   "cell_type": "code",
   "execution_count": 353,
   "id": "0bcddbad-6004-4167-a61d-06d152c941b2",
   "metadata": {},
   "outputs": [
    {
     "data": {
      "text/html": [
       "<div>\n",
       "<style scoped>\n",
       "    .dataframe tbody tr th:only-of-type {\n",
       "        vertical-align: middle;\n",
       "    }\n",
       "\n",
       "    .dataframe tbody tr th {\n",
       "        vertical-align: top;\n",
       "    }\n",
       "\n",
       "    .dataframe thead th {\n",
       "        text-align: right;\n",
       "    }\n",
       "</style>\n",
       "<table border=\"1\" class=\"dataframe\">\n",
       "  <thead>\n",
       "    <tr style=\"text-align: right;\">\n",
       "      <th></th>\n",
       "      <th>level_0</th>\n",
       "      <th>ZORI</th>\n",
       "      <th>date_ms</th>\n",
       "      <th>CPI</th>\n",
       "    </tr>\n",
       "  </thead>\n",
       "  <tbody>\n",
       "    <tr>\n",
       "      <th>0</th>\n",
       "      <td>1</td>\n",
       "      <td>1381.971304</td>\n",
       "      <td>2015-04-01</td>\n",
       "      <td>283.598</td>\n",
       "    </tr>\n",
       "    <tr>\n",
       "      <th>1</th>\n",
       "      <td>2</td>\n",
       "      <td>1392.389090</td>\n",
       "      <td>2015-05-01</td>\n",
       "      <td>284.245</td>\n",
       "    </tr>\n",
       "    <tr>\n",
       "      <th>2</th>\n",
       "      <td>3</td>\n",
       "      <td>1403.203509</td>\n",
       "      <td>2015-06-01</td>\n",
       "      <td>285.031</td>\n",
       "    </tr>\n",
       "    <tr>\n",
       "      <th>3</th>\n",
       "      <td>4</td>\n",
       "      <td>1408.901384</td>\n",
       "      <td>2015-07-01</td>\n",
       "      <td>286.090</td>\n",
       "    </tr>\n",
       "    <tr>\n",
       "      <th>4</th>\n",
       "      <td>5</td>\n",
       "      <td>1414.264526</td>\n",
       "      <td>2015-08-01</td>\n",
       "      <td>287.068</td>\n",
       "    </tr>\n",
       "  </tbody>\n",
       "</table>\n",
       "</div>"
      ],
      "text/plain": [
       "   level_0         ZORI    date_ms      CPI\n",
       "0        1  1381.971304 2015-04-01  283.598\n",
       "1        2  1392.389090 2015-05-01  284.245\n",
       "2        3  1403.203509 2015-06-01  285.031\n",
       "3        4  1408.901384 2015-07-01  286.090\n",
       "4        5  1414.264526 2015-08-01  287.068"
      ]
     },
     "execution_count": 353,
     "metadata": {},
     "output_type": "execute_result"
    }
   ],
   "source": [
    "comb_data.head()"
   ]
  },
  {
   "cell_type": "markdown",
   "id": "cc6950a2-0072-4af2-8fd9-7f26d9e0ce1a",
   "metadata": {},
   "source": [
    "As a quick sanity check, we'll run a correlation to see if the ZORI index is related to the CPI."
   ]
  },
  {
   "cell_type": "code",
   "execution_count": 356,
   "id": "6d04447f-fdb2-4890-9b19-e93c9008afc1",
   "metadata": {},
   "outputs": [
    {
     "name": "stderr",
     "output_type": "stream",
     "text": [
      "C:\\Users\\am513\\AppData\\Local\\Temp\\ipykernel_25156\\4285307872.py:1: FutureWarning: The default value of numeric_only in DataFrame.corr is deprecated. In a future version, it will default to False. Select only valid columns or specify the value of numeric_only to silence this warning.\n",
      "  comb_data.drop(\"level_0\",axis=1).corr()\n"
     ]
    },
    {
     "data": {
      "text/html": [
       "<div>\n",
       "<style scoped>\n",
       "    .dataframe tbody tr th:only-of-type {\n",
       "        vertical-align: middle;\n",
       "    }\n",
       "\n",
       "    .dataframe tbody tr th {\n",
       "        vertical-align: top;\n",
       "    }\n",
       "\n",
       "    .dataframe thead th {\n",
       "        text-align: right;\n",
       "    }\n",
       "</style>\n",
       "<table border=\"1\" class=\"dataframe\">\n",
       "  <thead>\n",
       "    <tr style=\"text-align: right;\">\n",
       "      <th></th>\n",
       "      <th>ZORI</th>\n",
       "      <th>CPI</th>\n",
       "    </tr>\n",
       "  </thead>\n",
       "  <tbody>\n",
       "    <tr>\n",
       "      <th>ZORI</th>\n",
       "      <td>1.00000</td>\n",
       "      <td>0.94072</td>\n",
       "    </tr>\n",
       "    <tr>\n",
       "      <th>CPI</th>\n",
       "      <td>0.94072</td>\n",
       "      <td>1.00000</td>\n",
       "    </tr>\n",
       "  </tbody>\n",
       "</table>\n",
       "</div>"
      ],
      "text/plain": [
       "         ZORI      CPI\n",
       "ZORI  1.00000  0.94072\n",
       "CPI   0.94072  1.00000"
      ]
     },
     "execution_count": 356,
     "metadata": {},
     "output_type": "execute_result"
    }
   ],
   "source": [
    "comb_data.drop(\"level_0\",axis=1).corr()"
   ]
  },
  {
   "cell_type": "markdown",
   "id": "a8a3ce49-c3fd-4175-84ca-5b2f8ce341a7",
   "metadata": {},
   "source": [
    "Based on the correlation of 94%, the ZORI index seems like a good candidate as a covariate for prediction.\n",
    "\n",
    "We can also verify this visually."
   ]
  },
  {
   "cell_type": "code",
   "execution_count": 374,
   "id": "a35903e7-552d-4b95-b9f4-ed3012e45937",
   "metadata": {},
   "outputs": [
    {
     "data": {
      "image/png": "[encoded data removed]",
      "text/plain": [
       "<Figure size 640x480 with 2 Axes>"
      ]
     },
     "metadata": {},
     "output_type": "display_data"
    }
   ],
   "source": [
    "import numpy as np\n",
    "import matplotlib.pyplot as plt\n",
    "x = comb_data[\"date_ms\"]\n",
    "y1 = comb_data[\"CPI\"]\n",
    "y2 = comb_data[\"ZORI\"]\n",
    "\n",
    "fig, ax1 = plt.subplots()\n",
    "\n",
    "ax2 = ax1.twinx()\n",
    "ax1.plot(x, y1, 'g-')\n",
    "ax2.plot(x, y2, 'b-')\n",
    "\n",
    "ax1.set_xlabel(\"Date\")\n",
    "ax1.set_ylabel('CPI', color='g')\n",
    "ax2.set_ylabel('ZORI', color='b')\n",
    "plt.show()"
   ]
  },
  {
   "cell_type": "markdown",
   "id": "bb4888ee-c7d3-461d-b57f-36f9dcc4ced5",
   "metadata": {},
   "source": [
    "\n",
    "\n",
    "Now let's get ready for our forecasting. We'll start by installing and loading in the `darts` package. The `darts` package allows for powerful forecasting in a similar format to `sklearn`'s `fit()` and `predict()` framework."
   ]
  },
  {
   "cell_type": "code",
   "execution_count": 76,
   "id": "df8dcbe3-9ccf-4fb8-93e5-d333f015aaeb",
   "metadata": {},
   "outputs": [
    {
     "name": "stdout",
     "output_type": "stream",
     "text": [
      "Requirement already satisfied: darts in c:\\users\\am513\\anaconda3\\envs\\python39\\lib\\site-packages (0.23.0)\n",
      "Requirement already satisfied: tqdm>=4.60.0 in c:\\users\\am513\\anaconda3\\envs\\python39\\lib\\site-packages (from darts) (4.64.1)\n",
      "Requirement already satisfied: statsforecast>=1.0.0 in c:\\users\\am513\\anaconda3\\envs\\python39\\lib\\site-packages (from darts) (1.4.0)\n",
      "Requirement already satisfied: pytorch-lightning>=1.5.0 in c:\\users\\am513\\anaconda3\\envs\\python39\\lib\\site-packages (from darts) (1.8.6)\n",
      "Requirement already satisfied: numpy>=1.19.0 in c:\\users\\am513\\anaconda3\\envs\\python39\\lib\\site-packages (from darts) (1.23.5)\n",
      "Requirement already satisfied: prophet>=1.1.1 in c:\\users\\am513\\anaconda3\\envs\\python39\\lib\\site-packages (from darts) (1.1.1)\n",
      "Requirement already satisfied: scikit-learn>=1.0.1 in c:\\users\\am513\\anaconda3\\envs\\python39\\lib\\site-packages (from darts) (1.2.0)\n",
      "Requirement already satisfied: pyod>=0.9.5 in c:\\users\\am513\\anaconda3\\envs\\python39\\lib\\site-packages (from darts) (1.0.7)\n",
      "Requirement already satisfied: pmdarima>=1.8.0 in c:\\users\\am513\\anaconda3\\envs\\python39\\lib\\site-packages (from darts) (2.0.2)\n",
      "Requirement already satisfied: statsmodels>=0.13.0 in c:\\users\\am513\\anaconda3\\envs\\python39\\lib\\site-packages (from darts) (0.13.5)\n",
      "Requirement already satisfied: tbats>=1.1.0 in c:\\users\\am513\\anaconda3\\envs\\python39\\lib\\site-packages (from darts) (1.1.2)\n",
      "Requirement already satisfied: lightgbm>=3.2.0 in c:\\users\\am513\\anaconda3\\envs\\python39\\lib\\site-packages (from darts) (3.3.3)\n",
      "Requirement already satisfied: pandas>=1.0.5 in c:\\users\\am513\\anaconda3\\envs\\python39\\lib\\site-packages (from darts) (1.5.2)\n",
      "Requirement already satisfied: xgboost>=1.6.0 in c:\\users\\am513\\anaconda3\\envs\\python39\\lib\\site-packages (from darts) (1.7.2)\n",
      "Requirement already satisfied: requests>=2.22.0 in c:\\users\\am513\\anaconda3\\envs\\python39\\lib\\site-packages (from darts) (2.28.1)\n",
      "Requirement already satisfied: matplotlib>=3.3.0 in c:\\users\\am513\\anaconda3\\envs\\python39\\lib\\site-packages (from darts) (3.6.2)\n",
      "Requirement already satisfied: catboost>=1.0.6 in c:\\users\\am513\\anaconda3\\envs\\python39\\lib\\site-packages (from darts) (1.1.1)\n",
      "Requirement already satisfied: shap>=0.40.0 in c:\\users\\am513\\anaconda3\\envs\\python39\\lib\\site-packages (from darts) (0.41.0)\n",
      "Requirement already satisfied: xarray>=0.17.0 in c:\\users\\am513\\anaconda3\\envs\\python39\\lib\\site-packages (from darts) (2022.12.0)\n",
      "Requirement already satisfied: torch>=1.8.0 in c:\\users\\am513\\anaconda3\\envs\\python39\\lib\\site-packages (from darts) (1.13.1)\n",
      "Requirement already satisfied: joblib>=0.16.0 in c:\\users\\am513\\anaconda3\\envs\\python39\\lib\\site-packages (from darts) (1.2.0)\n",
      "Requirement already satisfied: scipy>=1.3.2 in c:\\users\\am513\\anaconda3\\envs\\python39\\lib\\site-packages (from darts) (1.9.3)\n",
      "Requirement already satisfied: nfoursid>=1.0.0 in c:\\users\\am513\\anaconda3\\envs\\python39\\lib\\site-packages (from darts) (1.0.1)\n",
      "Requirement already satisfied: holidays>=0.11.1 in c:\\users\\am513\\anaconda3\\envs\\python39\\lib\\site-packages (from darts) (0.17.2)\n",
      "Requirement already satisfied: plotly in c:\\users\\am513\\anaconda3\\envs\\python39\\lib\\site-packages (from catboost>=1.0.6->darts) (5.11.0)\n",
      "Requirement already satisfied: graphviz in c:\\users\\am513\\anaconda3\\envs\\python39\\lib\\site-packages (from catboost>=1.0.6->darts) (0.20.1)\n",
      "Requirement already satisfied: six in c:\\users\\am513\\anaconda3\\envs\\python39\\lib\\site-packages (from catboost>=1.0.6->darts) (1.16.0)\n",
      "Requirement already satisfied: hijri-converter in c:\\users\\am513\\anaconda3\\envs\\python39\\lib\\site-packages (from holidays>=0.11.1->darts) (2.2.4)\n",
      "Requirement already satisfied: python-dateutil in c:\\users\\am513\\anaconda3\\envs\\python39\\lib\\site-packages (from holidays>=0.11.1->darts) (2.8.2)\n",
      "Requirement already satisfied: korean-lunar-calendar in c:\\users\\am513\\anaconda3\\envs\\python39\\lib\\site-packages (from holidays>=0.11.1->darts) (0.3.1)\n",
      "Requirement already satisfied: convertdate>=2.3.0 in c:\\users\\am513\\anaconda3\\envs\\python39\\lib\\site-packages (from holidays>=0.11.1->darts) (2.4.0)\n",
      "Requirement already satisfied: wheel in c:\\users\\am513\\anaconda3\\envs\\python39\\lib\\site-packages (from lightgbm>=3.2.0->darts) (0.37.1)\n",
      "Requirement already satisfied: pillow>=6.2.0 in c:\\users\\am513\\anaconda3\\envs\\python39\\lib\\site-packages (from matplotlib>=3.3.0->darts) (9.3.0)\n",
      "Requirement already satisfied: kiwisolver>=1.0.1 in c:\\users\\am513\\anaconda3\\envs\\python39\\lib\\site-packages (from matplotlib>=3.3.0->darts) (1.4.4)\n",
      "Requirement already satisfied: packaging>=20.0 in c:\\users\\am513\\anaconda3\\envs\\python39\\lib\\site-packages (from matplotlib>=3.3.0->darts) (22.0)\n",
      "Requirement already satisfied: cycler>=0.10 in c:\\users\\am513\\anaconda3\\envs\\python39\\lib\\site-packages (from matplotlib>=3.3.0->darts) (0.11.0)\n",
      "Requirement already satisfied: contourpy>=1.0.1 in c:\\users\\am513\\anaconda3\\envs\\python39\\lib\\site-packages (from matplotlib>=3.3.0->darts) (1.0.6)\n",
      "Requirement already satisfied: fonttools>=4.22.0 in c:\\users\\am513\\anaconda3\\envs\\python39\\lib\\site-packages (from matplotlib>=3.3.0->darts) (4.38.0)\n",
      "Requirement already satisfied: pyparsing>=2.2.1 in c:\\users\\am513\\anaconda3\\envs\\python39\\lib\\site-packages (from matplotlib>=3.3.0->darts) (3.0.9)\n",
      "Requirement already satisfied: pytz>=2020.1 in c:\\users\\am513\\anaconda3\\envs\\python39\\lib\\site-packages (from pandas>=1.0.5->darts) (2022.7)\n",
      "Requirement already satisfied: urllib3 in c:\\users\\am513\\anaconda3\\envs\\python39\\lib\\site-packages (from pmdarima>=1.8.0->darts) (1.26.13)\n",
      "Requirement already satisfied: setuptools!=50.0.0,>=38.6.0 in c:\\users\\am513\\anaconda3\\envs\\python39\\lib\\site-packages (from pmdarima>=1.8.0->darts) (65.5.0)\n",
      "Requirement already satisfied: Cython!=0.29.18,!=0.29.31,>=0.29 in c:\\users\\am513\\anaconda3\\envs\\python39\\lib\\site-packages (from pmdarima>=1.8.0->darts) (0.29.32)\n",
      "Requirement already satisfied: cmdstanpy>=1.0.4 in c:\\users\\am513\\anaconda3\\envs\\python39\\lib\\site-packages (from prophet>=1.1.1->darts) (1.0.8)\n",
      "Requirement already satisfied: setuptools-git>=1.2 in c:\\users\\am513\\anaconda3\\envs\\python39\\lib\\site-packages (from prophet>=1.1.1->darts) (1.2)\n",
      "Requirement already satisfied: LunarCalendar>=0.0.9 in c:\\users\\am513\\anaconda3\\envs\\python39\\lib\\site-packages (from prophet>=1.1.1->darts) (0.0.9)\n",
      "Requirement already satisfied: numba>=0.51 in c:\\users\\am513\\anaconda3\\envs\\python39\\lib\\site-packages (from pyod>=0.9.5->darts) (0.56.4)\n",
      "Requirement already satisfied: PyYAML>=5.4 in c:\\users\\am513\\anaconda3\\envs\\python39\\lib\\site-packages (from pytorch-lightning>=1.5.0->darts) (6.0)\n",
      "Requirement already satisfied: tensorboardX>=2.2 in c:\\users\\am513\\anaconda3\\envs\\python39\\lib\\site-packages (from pytorch-lightning>=1.5.0->darts) (2.5.1)\n",
      "Requirement already satisfied: typing-extensions>=4.0.0 in c:\\users\\am513\\anaconda3\\envs\\python39\\lib\\site-packages (from pytorch-lightning>=1.5.0->darts) (4.4.0)\n",
      "Requirement already satisfied: fsspec[http]>2021.06.0 in c:\\users\\am513\\anaconda3\\envs\\python39\\lib\\site-packages (from pytorch-lightning>=1.5.0->darts) (2022.11.0)\n",
      "Requirement already satisfied: torchmetrics>=0.7.0 in c:\\users\\am513\\anaconda3\\envs\\python39\\lib\\site-packages (from pytorch-lightning>=1.5.0->darts) (0.11.0)\n",
      "Requirement already satisfied: lightning-utilities!=0.4.0,>=0.3.0 in c:\\users\\am513\\anaconda3\\envs\\python39\\lib\\site-packages (from pytorch-lightning>=1.5.0->darts) (0.5.0)\n",
      "Requirement already satisfied: certifi>=2017.4.17 in c:\\users\\am513\\anaconda3\\envs\\python39\\lib\\site-packages (from requests>=2.22.0->darts) (2022.12.7)\n",
      "Requirement already satisfied: idna<4,>=2.5 in c:\\users\\am513\\anaconda3\\envs\\python39\\lib\\site-packages (from requests>=2.22.0->darts) (3.4)\n",
      "Requirement already satisfied: charset-normalizer<3,>=2 in c:\\users\\am513\\anaconda3\\envs\\python39\\lib\\site-packages (from requests>=2.22.0->darts) (2.1.1)\n",
      "Requirement already satisfied: threadpoolctl>=2.0.0 in c:\\users\\am513\\anaconda3\\envs\\python39\\lib\\site-packages (from scikit-learn>=1.0.1->darts) (3.1.0)\n",
      "Requirement already satisfied: slicer==0.0.7 in c:\\users\\am513\\anaconda3\\envs\\python39\\lib\\site-packages (from shap>=0.40.0->darts) (0.0.7)\n",
      "Requirement already satisfied: cloudpickle in c:\\users\\am513\\anaconda3\\envs\\python39\\lib\\site-packages (from shap>=0.40.0->darts) (2.2.0)\n",
      "Requirement already satisfied: patsy>=0.5.2 in c:\\users\\am513\\anaconda3\\envs\\python39\\lib\\site-packages (from statsmodels>=0.13.0->darts) (0.5.3)\n",
      "Requirement already satisfied: colorama in c:\\users\\am513\\anaconda3\\envs\\python39\\lib\\site-packages (from tqdm>=4.60.0->darts) (0.4.6)\n",
      "Requirement already satisfied: pymeeus<=1,>=0.3.13 in c:\\users\\am513\\anaconda3\\envs\\python39\\lib\\site-packages (from convertdate>=2.3.0->holidays>=0.11.1->darts) (0.5.12)\n",
      "Requirement already satisfied: aiohttp!=4.0.0a0,!=4.0.0a1 in c:\\users\\am513\\anaconda3\\envs\\python39\\lib\\site-packages (from fsspec[http]>2021.06.0->pytorch-lightning>=1.5.0->darts) (3.8.3)\n",
      "Requirement already satisfied: ephem>=3.7.5.3 in c:\\users\\am513\\anaconda3\\envs\\python39\\lib\\site-packages (from LunarCalendar>=0.0.9->prophet>=1.1.1->darts) (4.1.4)\n",
      "Requirement already satisfied: llvmlite<0.40,>=0.39.0dev0 in c:\\users\\am513\\anaconda3\\envs\\python39\\lib\\site-packages (from numba>=0.51->pyod>=0.9.5->darts) (0.39.1)\n",
      "Requirement already satisfied: protobuf<=3.20.1,>=3.8.0 in c:\\users\\am513\\anaconda3\\envs\\python39\\lib\\site-packages (from tensorboardX>=2.2->pytorch-lightning>=1.5.0->darts) (3.20.1)\n",
      "Requirement already satisfied: tenacity>=6.2.0 in c:\\users\\am513\\anaconda3\\envs\\python39\\lib\\site-packages (from plotly->catboost>=1.0.6->darts) (8.1.0)\n",
      "Requirement already satisfied: attrs>=17.3.0 in c:\\users\\am513\\anaconda3\\envs\\python39\\lib\\site-packages (from aiohttp!=4.0.0a0,!=4.0.0a1->fsspec[http]>2021.06.0->pytorch-lightning>=1.5.0->darts) (22.2.0)\n",
      "Requirement already satisfied: multidict<7.0,>=4.5 in c:\\users\\am513\\anaconda3\\envs\\python39\\lib\\site-packages (from aiohttp!=4.0.0a0,!=4.0.0a1->fsspec[http]>2021.06.0->pytorch-lightning>=1.5.0->darts) (6.0.3)\n",
      "Requirement already satisfied: async-timeout<5.0,>=4.0.0a3 in c:\\users\\am513\\anaconda3\\envs\\python39\\lib\\site-packages (from aiohttp!=4.0.0a0,!=4.0.0a1->fsspec[http]>2021.06.0->pytorch-lightning>=1.5.0->darts) (4.0.2)\n",
      "Requirement already satisfied: frozenlist>=1.1.1 in c:\\users\\am513\\anaconda3\\envs\\python39\\lib\\site-packages (from aiohttp!=4.0.0a0,!=4.0.0a1->fsspec[http]>2021.06.0->pytorch-lightning>=1.5.0->darts) (1.3.3)\n",
      "Requirement already satisfied: yarl<2.0,>=1.0 in c:\\users\\am513\\anaconda3\\envs\\python39\\lib\\site-packages (from aiohttp!=4.0.0a0,!=4.0.0a1->fsspec[http]>2021.06.0->pytorch-lightning>=1.5.0->darts) (1.8.2)\n",
      "Requirement already satisfied: aiosignal>=1.1.2 in c:\\users\\am513\\anaconda3\\envs\\python39\\lib\\site-packages (from aiohttp!=4.0.0a0,!=4.0.0a1->fsspec[http]>2021.06.0->pytorch-lightning>=1.5.0->darts) (1.3.1)\n"
     ]
    }
   ],
   "source": [
    "! pip install darts"
   ]
  },
  {
   "cell_type": "code",
   "execution_count": 357,
   "id": "47c784a0-3b11-4dc1-bbc1-48b4ef5557e6",
   "metadata": {},
   "outputs": [],
   "source": [
    "import darts\n",
    "from darts import TimeSeries\n",
    "from darts.dataprocessing.transformers.scaler import Scaler\n",
    "from darts.models.forecasting.nhits import NHiTSModel"
   ]
  },
  {
   "cell_type": "markdown",
   "id": "17a834a8-94d8-499c-a288-54d9c692345c",
   "metadata": {},
   "source": [
    "The `darts` package requires that all data be entered into a `TimeSeries` datatype. Since we'll be using a neural network for forecasting, we will also be scaling the data so the neural network can better predict. "
   ]
  },
  {
   "cell_type": "code",
   "execution_count": 361,
   "id": "dd7afac3-76e4-4ec1-9de5-f3a1476f5bda",
   "metadata": {},
   "outputs": [],
   "source": [
    "zori_ts = TimeSeries.from_dataframe(comb_data, time_col=\"date_ms\",value_cols=\"ZORI\")\n",
    "zori_scaler = Scaler()\n",
    "zori_ts_scaled = zori_scaler.fit_transform(zori_ts) "
   ]
  },
  {
   "cell_type": "code",
   "execution_count": 362,
   "id": "36d0336a-acda-4397-8f19-05bdebad1c7a",
   "metadata": {},
   "outputs": [
    {
     "data": {
      "text/html": [
       "<div><svg style=\"position: absolute; width: 0; height: 0; overflow: hidden\">\n",
       "<defs>\n",
       "<symbol id=\"icon-database\" viewBox=\"0 0 32 32\">\n",
       "<path d=\"M16 0c-8.837 0-16 2.239-16 5v4c0 2.761 7.163 5 16 5s16-2.239 16-5v-4c0-2.761-7.163-5-16-5z\"></path>\n",
       "<path d=\"M16 17c-8.837 0-16-2.239-16-5v6c0 2.761 7.163 5 16 5s16-2.239 16-5v-6c0 2.761-7.163 5-16 5z\"></path>\n",
       "<path d=\"M16 26c-8.837 0-16-2.239-16-5v6c0 2.761 7.163 5 16 5s16-2.239 16-5v-6c0 2.761-7.163 5-16 5z\"></path>\n",
       "</symbol>\n",
       "<symbol id=\"icon-file-text2\" viewBox=\"0 0 32 32\">\n",
       "<path d=\"M28.681 7.159c-0.694-0.947-1.662-2.053-2.724-3.116s-2.169-2.030-3.116-2.724c-1.612-1.182-2.393-1.319-2.841-1.319h-15.5c-1.378 0-2.5 1.121-2.5 2.5v27c0 1.378 1.122 2.5 2.5 2.5h23c1.378 0 2.5-1.122 2.5-2.5v-19.5c0-0.448-0.137-1.23-1.319-2.841zM24.543 5.457c0.959 0.959 1.712 1.825 2.268 2.543h-4.811v-4.811c0.718 0.556 1.584 1.309 2.543 2.268zM28 29.5c0 0.271-0.229 0.5-0.5 0.5h-23c-0.271 0-0.5-0.229-0.5-0.5v-27c0-0.271 0.229-0.5 0.5-0.5 0 0 15.499-0 15.5 0v7c0 0.552 0.448 1 1 1h7v19.5z\"></path>\n",
       "<path d=\"M23 26h-14c-0.552 0-1-0.448-1-1s0.448-1 1-1h14c0.552 0 1 0.448 1 1s-0.448 1-1 1z\"></path>\n",
       "<path d=\"M23 22h-14c-0.552 0-1-0.448-1-1s0.448-1 1-1h14c0.552 0 1 0.448 1 1s-0.448 1-1 1z\"></path>\n",
       "<path d=\"M23 18h-14c-0.552 0-1-0.448-1-1s0.448-1 1-1h14c0.552 0 1 0.448 1 1s-0.448 1-1 1z\"></path>\n",
       "</symbol>\n",
       "</defs>\n",
       "</svg>\n",
       "<style>/* CSS stylesheet for displaying xarray objects in jupyterlab.\n",
       " *\n",
       " */\n",
       "\n",
       ":root {\n",
       "  --xr-font-color0: var(--jp-content-font-color0, rgba(0, 0, 0, 1));\n",
       "  --xr-font-color2: var(--jp-content-font-color2, rgba(0, 0, 0, 0.54));\n",
       "  --xr-font-color3: var(--jp-content-font-color3, rgba(0, 0, 0, 0.38));\n",
       "  --xr-border-color: var(--jp-border-color2, #e0e0e0);\n",
       "  --xr-disabled-color: var(--jp-layout-color3, #bdbdbd);\n",
       "  --xr-background-color: var(--jp-layout-color0, white);\n",
       "  --xr-background-color-row-even: var(--jp-layout-color1, white);\n",
       "  --xr-background-color-row-odd: var(--jp-layout-color2, #eeeeee);\n",
       "}\n",
       "\n",
       "html[theme=dark],\n",
       "body[data-theme=dark],\n",
       "body.vscode-dark {\n",
       "  --xr-font-color0: rgba(255, 255, 255, 1);\n",
       "  --xr-font-color2: rgba(255, 255, 255, 0.54);\n",
       "  --xr-font-color3: rgba(255, 255, 255, 0.38);\n",
       "  --xr-border-color: #1F1F1F;\n",
       "  --xr-disabled-color: #515151;\n",
       "  --xr-background-color: #111111;\n",
       "  --xr-background-color-row-even: #111111;\n",
       "  --xr-background-color-row-odd: #313131;\n",
       "}\n",
       "\n",
       ".xr-wrap {\n",
       "  display: block !important;\n",
       "  min-width: 300px;\n",
       "  max-width: 700px;\n",
       "}\n",
       "\n",
       ".xr-text-repr-fallback {\n",
       "  /* fallback to plain text repr when CSS is not injected (untrusted notebook) */\n",
       "  display: none;\n",
       "}\n",
       "\n",
       ".xr-header {\n",
       "  padding-top: 6px;\n",
       "  padding-bottom: 6px;\n",
       "  margin-bottom: 4px;\n",
       "  border-bottom: solid 1px var(--xr-border-color);\n",
       "}\n",
       "\n",
       ".xr-header > div,\n",
       ".xr-header > ul {\n",
       "  display: inline;\n",
       "  margin-top: 0;\n",
       "  margin-bottom: 0;\n",
       "}\n",
       "\n",
       ".xr-obj-type,\n",
       ".xr-array-name {\n",
       "  margin-left: 2px;\n",
       "  margin-right: 10px;\n",
       "}\n",
       "\n",
       ".xr-obj-type {\n",
       "  color: var(--xr-font-color2);\n",
       "}\n",
       "\n",
       ".xr-sections {\n",
       "  padding-left: 0 !important;\n",
       "  display: grid;\n",
       "  grid-template-columns: 150px auto auto 1fr 20px 20px;\n",
       "}\n",
       "\n",
       ".xr-section-item {\n",
       "  display: contents;\n",
       "}\n",
       "\n",
       ".xr-section-item input {\n",
       "  display: none;\n",
       "}\n",
       "\n",
       ".xr-section-item input + label {\n",
       "  color: var(--xr-disabled-color);\n",
       "}\n",
       "\n",
       ".xr-section-item input:enabled + label {\n",
       "  cursor: pointer;\n",
       "  color: var(--xr-font-color2);\n",
       "}\n",
       "\n",
       ".xr-section-item input:enabled + label:hover {\n",
       "  color: var(--xr-font-color0);\n",
       "}\n",
       "\n",
       ".xr-section-summary {\n",
       "  grid-column: 1;\n",
       "  color: var(--xr-font-color2);\n",
       "  font-weight: 500;\n",
       "}\n",
       "\n",
       ".xr-section-summary > span {\n",
       "  display: inline-block;\n",
       "  padding-left: 0.5em;\n",
       "}\n",
       "\n",
       ".xr-section-summary-in:disabled + label {\n",
       "  color: var(--xr-font-color2);\n",
       "}\n",
       "\n",
       ".xr-section-summary-in + label:before {\n",
       "  display: inline-block;\n",
       "  content: '►';\n",
       "  font-size: 11px;\n",
       "  width: 15px;\n",
       "  text-align: center;\n",
       "}\n",
       "\n",
       ".xr-section-summary-in:disabled + label:before {\n",
       "  color: var(--xr-disabled-color);\n",
       "}\n",
       "\n",
       ".xr-section-summary-in:checked + label:before {\n",
       "  content: '▼';\n",
       "}\n",
       "\n",
       ".xr-section-summary-in:checked + label > span {\n",
       "  display: none;\n",
       "}\n",
       "\n",
       ".xr-section-summary,\n",
       ".xr-section-inline-details {\n",
       "  padding-top: 4px;\n",
       "  padding-bottom: 4px;\n",
       "}\n",
       "\n",
       ".xr-section-inline-details {\n",
       "  grid-column: 2 / -1;\n",
       "}\n",
       "\n",
       ".xr-section-details {\n",
       "  display: none;\n",
       "  grid-column: 1 / -1;\n",
       "  margin-bottom: 5px;\n",
       "}\n",
       "\n",
       ".xr-section-summary-in:checked ~ .xr-section-details {\n",
       "  display: contents;\n",
       "}\n",
       "\n",
       ".xr-array-wrap {\n",
       "  grid-column: 1 / -1;\n",
       "  display: grid;\n",
       "  grid-template-columns: 20px auto;\n",
       "}\n",
       "\n",
       ".xr-array-wrap > label {\n",
       "  grid-column: 1;\n",
       "  vertical-align: top;\n",
       "}\n",
       "\n",
       ".xr-preview {\n",
       "  color: var(--xr-font-color3);\n",
       "}\n",
       "\n",
       ".xr-array-preview,\n",
       ".xr-array-data {\n",
       "  padding: 0 5px !important;\n",
       "  grid-column: 2;\n",
       "}\n",
       "\n",
       ".xr-array-data,\n",
       ".xr-array-in:checked ~ .xr-array-preview {\n",
       "  display: none;\n",
       "}\n",
       "\n",
       ".xr-array-in:checked ~ .xr-array-data,\n",
       ".xr-array-preview {\n",
       "  display: inline-block;\n",
       "}\n",
       "\n",
       ".xr-dim-list {\n",
       "  display: inline-block !important;\n",
       "  list-style: none;\n",
       "  padding: 0 !important;\n",
       "  margin: 0;\n",
       "}\n",
       "\n",
       ".xr-dim-list li {\n",
       "  display: inline-block;\n",
       "  padding: 0;\n",
       "  margin: 0;\n",
       "}\n",
       "\n",
       ".xr-dim-list:before {\n",
       "  content: '(';\n",
       "}\n",
       "\n",
       ".xr-dim-list:after {\n",
       "  content: ')';\n",
       "}\n",
       "\n",
       ".xr-dim-list li:not(:last-child):after {\n",
       "  content: ',';\n",
       "  padding-right: 5px;\n",
       "}\n",
       "\n",
       ".xr-has-index {\n",
       "  font-weight: bold;\n",
       "}\n",
       "\n",
       ".xr-var-list,\n",
       ".xr-var-item {\n",
       "  display: contents;\n",
       "}\n",
       "\n",
       ".xr-var-item > div,\n",
       ".xr-var-item label,\n",
       ".xr-var-item > .xr-var-name span {\n",
       "  background-color: var(--xr-background-color-row-even);\n",
       "  margin-bottom: 0;\n",
       "}\n",
       "\n",
       ".xr-var-item > .xr-var-name:hover span {\n",
       "  padding-right: 5px;\n",
       "}\n",
       "\n",
       ".xr-var-list > li:nth-child(odd) > div,\n",
       ".xr-var-list > li:nth-child(odd) > label,\n",
       ".xr-var-list > li:nth-child(odd) > .xr-var-name span {\n",
       "  background-color: var(--xr-background-color-row-odd);\n",
       "}\n",
       "\n",
       ".xr-var-name {\n",
       "  grid-column: 1;\n",
       "}\n",
       "\n",
       ".xr-var-dims {\n",
       "  grid-column: 2;\n",
       "}\n",
       "\n",
       ".xr-var-dtype {\n",
       "  grid-column: 3;\n",
       "  text-align: right;\n",
       "  color: var(--xr-font-color2);\n",
       "}\n",
       "\n",
       ".xr-var-preview {\n",
       "  grid-column: 4;\n",
       "}\n",
       "\n",
       ".xr-index-preview {\n",
       "  grid-column: 2 / 5;\n",
       "  color: var(--xr-font-color2);\n",
       "}\n",
       "\n",
       ".xr-var-name,\n",
       ".xr-var-dims,\n",
       ".xr-var-dtype,\n",
       ".xr-preview,\n",
       ".xr-attrs dt {\n",
       "  white-space: nowrap;\n",
       "  overflow: hidden;\n",
       "  text-overflow: ellipsis;\n",
       "  padding-right: 10px;\n",
       "}\n",
       "\n",
       ".xr-var-name:hover,\n",
       ".xr-var-dims:hover,\n",
       ".xr-var-dtype:hover,\n",
       ".xr-attrs dt:hover {\n",
       "  overflow: visible;\n",
       "  width: auto;\n",
       "  z-index: 1;\n",
       "}\n",
       "\n",
       ".xr-var-attrs,\n",
       ".xr-var-data,\n",
       ".xr-index-data {\n",
       "  display: none;\n",
       "  background-color: var(--xr-background-color) !important;\n",
       "  padding-bottom: 5px !important;\n",
       "}\n",
       "\n",
       ".xr-var-attrs-in:checked ~ .xr-var-attrs,\n",
       ".xr-var-data-in:checked ~ .xr-var-data,\n",
       ".xr-index-data-in:checked ~ .xr-index-data {\n",
       "  display: block;\n",
       "}\n",
       "\n",
       ".xr-var-data > table {\n",
       "  float: right;\n",
       "}\n",
       "\n",
       ".xr-var-name span,\n",
       ".xr-var-data,\n",
       ".xr-index-name div,\n",
       ".xr-index-data,\n",
       ".xr-attrs {\n",
       "  padding-left: 25px !important;\n",
       "}\n",
       "\n",
       ".xr-attrs,\n",
       ".xr-var-attrs,\n",
       ".xr-var-data,\n",
       ".xr-index-data {\n",
       "  grid-column: 1 / -1;\n",
       "}\n",
       "\n",
       "dl.xr-attrs {\n",
       "  padding: 0;\n",
       "  margin: 0;\n",
       "  display: grid;\n",
       "  grid-template-columns: 125px auto;\n",
       "}\n",
       "\n",
       ".xr-attrs dt,\n",
       ".xr-attrs dd {\n",
       "  padding: 0;\n",
       "  margin: 0;\n",
       "  float: left;\n",
       "  padding-right: 10px;\n",
       "  width: auto;\n",
       "}\n",
       "\n",
       ".xr-attrs dt {\n",
       "  font-weight: normal;\n",
       "  grid-column: 1;\n",
       "}\n",
       "\n",
       ".xr-attrs dt:hover span {\n",
       "  display: inline-block;\n",
       "  background: var(--xr-background-color);\n",
       "  padding-right: 10px;\n",
       "}\n",
       "\n",
       ".xr-attrs dd {\n",
       "  grid-column: 2;\n",
       "  white-space: pre-wrap;\n",
       "  word-break: break-all;\n",
       "}\n",
       "\n",
       ".xr-icon-database,\n",
       ".xr-icon-file-text2,\n",
       ".xr-no-icon {\n",
       "  display: inline-block;\n",
       "  vertical-align: middle;\n",
       "  width: 1em;\n",
       "  height: 1.5em !important;\n",
       "  stroke-width: 0;\n",
       "  stroke: currentColor;\n",
       "  fill: currentColor;\n",
       "}\n",
       "</style><pre class='xr-text-repr-fallback'>&lt;TimeSeries (DataArray) (date_ms: 89, component: 1, sample: 1)&gt;\n",
       "array([[[0.        ]],\n",
       "\n",
       "       [[0.01495573]],\n",
       "\n",
       "       [[0.03048087]],\n",
       "\n",
       "       [[0.03866072]],\n",
       "\n",
       "       [[0.04636002]],\n",
       "\n",
       "       [[0.04770229]],\n",
       "\n",
       "       [[0.04928438]],\n",
       "\n",
       "       [[0.04871635]],\n",
       "\n",
       "       [[0.04925226]],\n",
       "\n",
       "       [[0.05430049]],\n",
       "\n",
       "...\n",
       "\n",
       "       [[0.76592654]],\n",
       "\n",
       "       [[0.78523344]],\n",
       "\n",
       "       [[0.79723393]],\n",
       "\n",
       "       [[0.82302831]],\n",
       "\n",
       "       [[0.84597621]],\n",
       "\n",
       "       [[0.88398257]],\n",
       "\n",
       "       [[0.91559666]],\n",
       "\n",
       "       [[0.95135753]],\n",
       "\n",
       "       [[0.98094917]],\n",
       "\n",
       "       [[1.        ]]])\n",
       "Coordinates:\n",
       "  * date_ms    (date_ms) datetime64[ns] 2015-04-01 2015-05-01 ... 2022-08-01\n",
       "  * component  (component) object &#x27;ZORI&#x27;\n",
       "Dimensions without coordinates: sample\n",
       "Attributes:\n",
       "    static_covariates:  None\n",
       "    hierarchy:          None</pre><div class='xr-wrap' style='display:none'><div class='xr-header'><div class='xr-obj-type'>TimeSeries (DataArray)</div><div class='xr-array-name'></div><ul class='xr-dim-list'><li><span class='xr-has-index'>date_ms</span>: 89</li><li><span class='xr-has-index'>component</span>: 1</li><li><span>sample</span>: 1</li></ul></div><ul class='xr-sections'><li class='xr-section-item'><div class='xr-array-wrap'><input id='section-98e07f00-1f7c-43eb-9804-82862fd18631' class='xr-array-in' type='checkbox' checked><label for='section-98e07f00-1f7c-43eb-9804-82862fd18631' title='Show/hide data repr'><svg class='icon xr-icon-database'><use xlink:href='#icon-database'></use></svg></label><div class='xr-array-preview xr-preview'><span>0.0 0.01496 0.03048 0.03866 0.04636 ... 0.884 0.9156 0.9514 0.9809 1.0</span></div><div class='xr-array-data'><pre>array([[[0.        ]],\n",
       "\n",
       "       [[0.01495573]],\n",
       "\n",
       "       [[0.03048087]],\n",
       "\n",
       "       [[0.03866072]],\n",
       "\n",
       "       [[0.04636002]],\n",
       "\n",
       "       [[0.04770229]],\n",
       "\n",
       "       [[0.04928438]],\n",
       "\n",
       "       [[0.04871635]],\n",
       "\n",
       "       [[0.04925226]],\n",
       "\n",
       "       [[0.05430049]],\n",
       "\n",
       "...\n",
       "\n",
       "       [[0.76592654]],\n",
       "\n",
       "       [[0.78523344]],\n",
       "\n",
       "       [[0.79723393]],\n",
       "\n",
       "       [[0.82302831]],\n",
       "\n",
       "       [[0.84597621]],\n",
       "\n",
       "       [[0.88398257]],\n",
       "\n",
       "       [[0.91559666]],\n",
       "\n",
       "       [[0.95135753]],\n",
       "\n",
       "       [[0.98094917]],\n",
       "\n",
       "       [[1.        ]]])</pre></div></div></li><li class='xr-section-item'><input id='section-50354a7e-bf98-4990-a8eb-4e3a976d1eee' class='xr-section-summary-in' type='checkbox'  checked><label for='section-50354a7e-bf98-4990-a8eb-4e3a976d1eee' class='xr-section-summary' >Coordinates: <span>(2)</span></label><div class='xr-section-inline-details'></div><div class='xr-section-details'><ul class='xr-var-list'><li class='xr-var-item'><div class='xr-var-name'><span class='xr-has-index'>date_ms</span></div><div class='xr-var-dims'>(date_ms)</div><div class='xr-var-dtype'>datetime64[ns]</div><div class='xr-var-preview xr-preview'>2015-04-01 ... 2022-08-01</div><input id='attrs-931d0dd5-ce4c-4f08-a483-74d0da469df7' class='xr-var-attrs-in' type='checkbox' disabled><label for='attrs-931d0dd5-ce4c-4f08-a483-74d0da469df7' title='Show/Hide attributes'><svg class='icon xr-icon-file-text2'><use xlink:href='#icon-file-text2'></use></svg></label><input id='data-acc0e60b-8d15-4c94-92d8-3b3b4477b92a' class='xr-var-data-in' type='checkbox'><label for='data-acc0e60b-8d15-4c94-92d8-3b3b4477b92a' title='Show/Hide data repr'><svg class='icon xr-icon-database'><use xlink:href='#icon-database'></use></svg></label><div class='xr-var-attrs'><dl class='xr-attrs'></dl></div><div class='xr-var-data'><pre>array([&#x27;2015-04-01T00:00:00.000000000&#x27;, &#x27;2015-05-01T00:00:00.000000000&#x27;,\n",
       "       &#x27;2015-06-01T00:00:00.000000000&#x27;, &#x27;2015-07-01T00:00:00.000000000&#x27;,\n",
       "       &#x27;2015-08-01T00:00:00.000000000&#x27;, &#x27;2015-09-01T00:00:00.000000000&#x27;,\n",
       "       &#x27;2015-10-01T00:00:00.000000000&#x27;, &#x27;2015-11-01T00:00:00.000000000&#x27;,\n",
       "       &#x27;2015-12-01T00:00:00.000000000&#x27;, &#x27;2016-01-01T00:00:00.000000000&#x27;,\n",
       "       &#x27;2016-02-01T00:00:00.000000000&#x27;, &#x27;2016-03-01T00:00:00.000000000&#x27;,\n",
       "       &#x27;2016-04-01T00:00:00.000000000&#x27;, &#x27;2016-05-01T00:00:00.000000000&#x27;,\n",
       "       &#x27;2016-06-01T00:00:00.000000000&#x27;, &#x27;2016-07-01T00:00:00.000000000&#x27;,\n",
       "       &#x27;2016-08-01T00:00:00.000000000&#x27;, &#x27;2016-09-01T00:00:00.000000000&#x27;,\n",
       "       &#x27;2016-10-01T00:00:00.000000000&#x27;, &#x27;2016-11-01T00:00:00.000000000&#x27;,\n",
       "       &#x27;2016-12-01T00:00:00.000000000&#x27;, &#x27;2017-01-01T00:00:00.000000000&#x27;,\n",
       "       &#x27;2017-02-01T00:00:00.000000000&#x27;, &#x27;2017-03-01T00:00:00.000000000&#x27;,\n",
       "       &#x27;2017-04-01T00:00:00.000000000&#x27;, &#x27;2017-05-01T00:00:00.000000000&#x27;,\n",
       "       &#x27;2017-06-01T00:00:00.000000000&#x27;, &#x27;2017-07-01T00:00:00.000000000&#x27;,\n",
       "       &#x27;2017-08-01T00:00:00.000000000&#x27;, &#x27;2017-09-01T00:00:00.000000000&#x27;,\n",
       "       &#x27;2017-10-01T00:00:00.000000000&#x27;, &#x27;2017-11-01T00:00:00.000000000&#x27;,\n",
       "       &#x27;2017-12-01T00:00:00.000000000&#x27;, &#x27;2018-01-01T00:00:00.000000000&#x27;,\n",
       "       &#x27;2018-02-01T00:00:00.000000000&#x27;, &#x27;2018-03-01T00:00:00.000000000&#x27;,\n",
       "       &#x27;2018-04-01T00:00:00.000000000&#x27;, &#x27;2018-05-01T00:00:00.000000000&#x27;,\n",
       "       &#x27;2018-06-01T00:00:00.000000000&#x27;, &#x27;2018-07-01T00:00:00.000000000&#x27;,\n",
       "       &#x27;2018-08-01T00:00:00.000000000&#x27;, &#x27;2018-09-01T00:00:00.000000000&#x27;,\n",
       "       &#x27;2018-10-01T00:00:00.000000000&#x27;, &#x27;2018-11-01T00:00:00.000000000&#x27;,\n",
       "       &#x27;2018-12-01T00:00:00.000000000&#x27;, &#x27;2019-01-01T00:00:00.000000000&#x27;,\n",
       "       &#x27;2019-02-01T00:00:00.000000000&#x27;, &#x27;2019-03-01T00:00:00.000000000&#x27;,\n",
       "       &#x27;2019-04-01T00:00:00.000000000&#x27;, &#x27;2019-05-01T00:00:00.000000000&#x27;,\n",
       "       &#x27;2019-06-01T00:00:00.000000000&#x27;, &#x27;2019-07-01T00:00:00.000000000&#x27;,\n",
       "       &#x27;2019-08-01T00:00:00.000000000&#x27;, &#x27;2019-09-01T00:00:00.000000000&#x27;,\n",
       "       &#x27;2019-10-01T00:00:00.000000000&#x27;, &#x27;2019-11-01T00:00:00.000000000&#x27;,\n",
       "       &#x27;2019-12-01T00:00:00.000000000&#x27;, &#x27;2020-01-01T00:00:00.000000000&#x27;,\n",
       "       &#x27;2020-02-01T00:00:00.000000000&#x27;, &#x27;2020-03-01T00:00:00.000000000&#x27;,\n",
       "       &#x27;2020-04-01T00:00:00.000000000&#x27;, &#x27;2020-05-01T00:00:00.000000000&#x27;,\n",
       "       &#x27;2020-06-01T00:00:00.000000000&#x27;, &#x27;2020-07-01T00:00:00.000000000&#x27;,\n",
       "       &#x27;2020-08-01T00:00:00.000000000&#x27;, &#x27;2020-09-01T00:00:00.000000000&#x27;,\n",
       "       &#x27;2020-10-01T00:00:00.000000000&#x27;, &#x27;2020-11-01T00:00:00.000000000&#x27;,\n",
       "       &#x27;2020-12-01T00:00:00.000000000&#x27;, &#x27;2021-01-01T00:00:00.000000000&#x27;,\n",
       "       &#x27;2021-02-01T00:00:00.000000000&#x27;, &#x27;2021-03-01T00:00:00.000000000&#x27;,\n",
       "       &#x27;2021-04-01T00:00:00.000000000&#x27;, &#x27;2021-05-01T00:00:00.000000000&#x27;,\n",
       "       &#x27;2021-06-01T00:00:00.000000000&#x27;, &#x27;2021-07-01T00:00:00.000000000&#x27;,\n",
       "       &#x27;2021-08-01T00:00:00.000000000&#x27;, &#x27;2021-09-01T00:00:00.000000000&#x27;,\n",
       "       &#x27;2021-10-01T00:00:00.000000000&#x27;, &#x27;2021-11-01T00:00:00.000000000&#x27;,\n",
       "       &#x27;2021-12-01T00:00:00.000000000&#x27;, &#x27;2022-01-01T00:00:00.000000000&#x27;,\n",
       "       &#x27;2022-02-01T00:00:00.000000000&#x27;, &#x27;2022-03-01T00:00:00.000000000&#x27;,\n",
       "       &#x27;2022-04-01T00:00:00.000000000&#x27;, &#x27;2022-05-01T00:00:00.000000000&#x27;,\n",
       "       &#x27;2022-06-01T00:00:00.000000000&#x27;, &#x27;2022-07-01T00:00:00.000000000&#x27;,\n",
       "       &#x27;2022-08-01T00:00:00.000000000&#x27;], dtype=&#x27;datetime64[ns]&#x27;)</pre></div></li><li class='xr-var-item'><div class='xr-var-name'><span class='xr-has-index'>component</span></div><div class='xr-var-dims'>(component)</div><div class='xr-var-dtype'>object</div><div class='xr-var-preview xr-preview'>&#x27;ZORI&#x27;</div><input id='attrs-a71bee4d-4207-41bc-9b51-538708a88dd5' class='xr-var-attrs-in' type='checkbox' disabled><label for='attrs-a71bee4d-4207-41bc-9b51-538708a88dd5' title='Show/Hide attributes'><svg class='icon xr-icon-file-text2'><use xlink:href='#icon-file-text2'></use></svg></label><input id='data-3aeca448-7600-4064-96a4-20d4347c166b' class='xr-var-data-in' type='checkbox'><label for='data-3aeca448-7600-4064-96a4-20d4347c166b' title='Show/Hide data repr'><svg class='icon xr-icon-database'><use xlink:href='#icon-database'></use></svg></label><div class='xr-var-attrs'><dl class='xr-attrs'></dl></div><div class='xr-var-data'><pre>array([&#x27;ZORI&#x27;], dtype=object)</pre></div></li></ul></div></li><li class='xr-section-item'><input id='section-5037fd2b-3c5f-4dc5-8103-ebb76ad7bf48' class='xr-section-summary-in' type='checkbox'  ><label for='section-5037fd2b-3c5f-4dc5-8103-ebb76ad7bf48' class='xr-section-summary' >Indexes: <span>(2)</span></label><div class='xr-section-inline-details'></div><div class='xr-section-details'><ul class='xr-var-list'><li class='xr-var-item'><div class='xr-index-name'><div>date_ms</div></div><div class='xr-index-preview'>PandasIndex</div><div></div><input id='index-a9f928ad-fa15-4f3a-9d15-48b0774dbfb1' class='xr-index-data-in' type='checkbox'/><label for='index-a9f928ad-fa15-4f3a-9d15-48b0774dbfb1' title='Show/Hide index repr'><svg class='icon xr-icon-database'><use xlink:href='#icon-database'></use></svg></label><div class='xr-index-data'><pre>PandasIndex(DatetimeIndex([&#x27;2015-04-01&#x27;, &#x27;2015-05-01&#x27;, &#x27;2015-06-01&#x27;, &#x27;2015-07-01&#x27;,\n",
       "               &#x27;2015-08-01&#x27;, &#x27;2015-09-01&#x27;, &#x27;2015-10-01&#x27;, &#x27;2015-11-01&#x27;,\n",
       "               &#x27;2015-12-01&#x27;, &#x27;2016-01-01&#x27;, &#x27;2016-02-01&#x27;, &#x27;2016-03-01&#x27;,\n",
       "               &#x27;2016-04-01&#x27;, &#x27;2016-05-01&#x27;, &#x27;2016-06-01&#x27;, &#x27;2016-07-01&#x27;,\n",
       "               &#x27;2016-08-01&#x27;, &#x27;2016-09-01&#x27;, &#x27;2016-10-01&#x27;, &#x27;2016-11-01&#x27;,\n",
       "               &#x27;2016-12-01&#x27;, &#x27;2017-01-01&#x27;, &#x27;2017-02-01&#x27;, &#x27;2017-03-01&#x27;,\n",
       "               &#x27;2017-04-01&#x27;, &#x27;2017-05-01&#x27;, &#x27;2017-06-01&#x27;, &#x27;2017-07-01&#x27;,\n",
       "               &#x27;2017-08-01&#x27;, &#x27;2017-09-01&#x27;, &#x27;2017-10-01&#x27;, &#x27;2017-11-01&#x27;,\n",
       "               &#x27;2017-12-01&#x27;, &#x27;2018-01-01&#x27;, &#x27;2018-02-01&#x27;, &#x27;2018-03-01&#x27;,\n",
       "               &#x27;2018-04-01&#x27;, &#x27;2018-05-01&#x27;, &#x27;2018-06-01&#x27;, &#x27;2018-07-01&#x27;,\n",
       "               &#x27;2018-08-01&#x27;, &#x27;2018-09-01&#x27;, &#x27;2018-10-01&#x27;, &#x27;2018-11-01&#x27;,\n",
       "               &#x27;2018-12-01&#x27;, &#x27;2019-01-01&#x27;, &#x27;2019-02-01&#x27;, &#x27;2019-03-01&#x27;,\n",
       "               &#x27;2019-04-01&#x27;, &#x27;2019-05-01&#x27;, &#x27;2019-06-01&#x27;, &#x27;2019-07-01&#x27;,\n",
       "               &#x27;2019-08-01&#x27;, &#x27;2019-09-01&#x27;, &#x27;2019-10-01&#x27;, &#x27;2019-11-01&#x27;,\n",
       "               &#x27;2019-12-01&#x27;, &#x27;2020-01-01&#x27;, &#x27;2020-02-01&#x27;, &#x27;2020-03-01&#x27;,\n",
       "               &#x27;2020-04-01&#x27;, &#x27;2020-05-01&#x27;, &#x27;2020-06-01&#x27;, &#x27;2020-07-01&#x27;,\n",
       "               &#x27;2020-08-01&#x27;, &#x27;2020-09-01&#x27;, &#x27;2020-10-01&#x27;, &#x27;2020-11-01&#x27;,\n",
       "               &#x27;2020-12-01&#x27;, &#x27;2021-01-01&#x27;, &#x27;2021-02-01&#x27;, &#x27;2021-03-01&#x27;,\n",
       "               &#x27;2021-04-01&#x27;, &#x27;2021-05-01&#x27;, &#x27;2021-06-01&#x27;, &#x27;2021-07-01&#x27;,\n",
       "               &#x27;2021-08-01&#x27;, &#x27;2021-09-01&#x27;, &#x27;2021-10-01&#x27;, &#x27;2021-11-01&#x27;,\n",
       "               &#x27;2021-12-01&#x27;, &#x27;2022-01-01&#x27;, &#x27;2022-02-01&#x27;, &#x27;2022-03-01&#x27;,\n",
       "               &#x27;2022-04-01&#x27;, &#x27;2022-05-01&#x27;, &#x27;2022-06-01&#x27;, &#x27;2022-07-01&#x27;,\n",
       "               &#x27;2022-08-01&#x27;],\n",
       "              dtype=&#x27;datetime64[ns]&#x27;, name=&#x27;date_ms&#x27;, freq=&#x27;MS&#x27;))</pre></div></li><li class='xr-var-item'><div class='xr-index-name'><div>component</div></div><div class='xr-index-preview'>PandasIndex</div><div></div><input id='index-073157f0-34cc-4078-97ff-0f0499ab1db3' class='xr-index-data-in' type='checkbox'/><label for='index-073157f0-34cc-4078-97ff-0f0499ab1db3' title='Show/Hide index repr'><svg class='icon xr-icon-database'><use xlink:href='#icon-database'></use></svg></label><div class='xr-index-data'><pre>PandasIndex(Index([&#x27;ZORI&#x27;], dtype=&#x27;object&#x27;, name=&#x27;component&#x27;))</pre></div></li></ul></div></li><li class='xr-section-item'><input id='section-c10a2d9f-c805-4d58-b8f6-f52d17f764b9' class='xr-section-summary-in' type='checkbox'  checked><label for='section-c10a2d9f-c805-4d58-b8f6-f52d17f764b9' class='xr-section-summary' >Attributes: <span>(2)</span></label><div class='xr-section-inline-details'></div><div class='xr-section-details'><dl class='xr-attrs'><dt><span>static_covariates :</span></dt><dd>None</dd><dt><span>hierarchy :</span></dt><dd>None</dd></dl></div></li></ul></div></div>"
      ],
      "text/plain": [
       "<TimeSeries (DataArray) (date_ms: 89, component: 1, sample: 1)>\n",
       "array([[[0.        ]],\n",
       "\n",
       "       [[0.01495573]],\n",
       "\n",
       "       [[0.03048087]],\n",
       "\n",
       "       [[0.03866072]],\n",
       "\n",
       "       [[0.04636002]],\n",
       "\n",
       "       [[0.04770229]],\n",
       "\n",
       "       [[0.04928438]],\n",
       "\n",
       "       [[0.04871635]],\n",
       "\n",
       "       [[0.04925226]],\n",
       "\n",
       "       [[0.05430049]],\n",
       "\n",
       "...\n",
       "\n",
       "       [[0.76592654]],\n",
       "\n",
       "       [[0.78523344]],\n",
       "\n",
       "       [[0.79723393]],\n",
       "\n",
       "       [[0.82302831]],\n",
       "\n",
       "       [[0.84597621]],\n",
       "\n",
       "       [[0.88398257]],\n",
       "\n",
       "       [[0.91559666]],\n",
       "\n",
       "       [[0.95135753]],\n",
       "\n",
       "       [[0.98094917]],\n",
       "\n",
       "       [[1.        ]]])\n",
       "Coordinates:\n",
       "  * date_ms    (date_ms) datetime64[ns] 2015-04-01 2015-05-01 ... 2022-08-01\n",
       "  * component  (component) object 'ZORI'\n",
       "Dimensions without coordinates: sample\n",
       "Attributes:\n",
       "    static_covariates:  None\n",
       "    hierarchy:          None"
      ]
     },
     "execution_count": 362,
     "metadata": {},
     "output_type": "execute_result"
    }
   ],
   "source": [
    "zori_ts_scaled"
   ]
  },
  {
   "cell_type": "markdown",
   "id": "8ca70b25-6d9c-46b3-ab14-9e5f11952eaa",
   "metadata": {},
   "source": [
    "We'll do the same for the CPI data."
   ]
  },
  {
   "cell_type": "code",
   "execution_count": 363,
   "id": "a29042b2-cf9c-488a-b992-96eec3d27604",
   "metadata": {},
   "outputs": [],
   "source": [
    "cpi_ts = TimeSeries.from_dataframe(comb_data, time_col=\"date_ms\",value_cols=\"CPI\")\n",
    "cpi_scaler = Scaler()\n",
    "cpi_ts_scaled = cpi_scaler.fit_transform(cpi_ts)"
   ]
  },
  {
   "cell_type": "markdown",
   "id": "bace8cfe-1274-4e85-ae0a-698f8bd23df9",
   "metadata": {},
   "source": [
    "For training and testing, we will split so our training set ends in 2021 and our test set will begin in 2022. "
   ]
  },
  {
   "cell_type": "code",
   "execution_count": 232,
   "id": "f95b5a07-bbe1-4811-84ff-2fb8ae7da97e",
   "metadata": {},
   "outputs": [],
   "source": [
    "zori_ts_train, zori_ts_val = zori_ts_scaled.split_after(pd.Timestamp(\"2021-12-01\"))"
   ]
  },
  {
   "cell_type": "code",
   "execution_count": 233,
   "id": "7765ebde-d537-46bb-9eac-ec10f85ca779",
   "metadata": {},
   "outputs": [],
   "source": [
    "cpi_ts_train, cpi_ts_val = cpi_ts_scaled.split_after(pd.Timestamp(\"2021-12-01\"))"
   ]
  },
  {
   "cell_type": "markdown",
   "id": "90d3e42f-8c41-448d-9c0b-d8c92afe1783",
   "metadata": {},
   "source": [
    "For our model, we'll be using a `NHiTS` or Neural Hierarchical interpolation for Time Series model for our forecasting. This cell might take a little while to run."
   ]
  },
  {
   "cell_type": "code",
   "execution_count": 368,
   "id": "16ded72e-2779-48fa-96c0-34bbb3552c53",
   "metadata": {},
   "outputs": [
    {
     "name": "stderr",
     "output_type": "stream",
     "text": [
      "GPU available: False, used: False\n",
      "TPU available: False, using: 0 TPU cores\n",
      "IPU available: False, using: 0 IPUs\n",
      "HPU available: False, using: 0 HPUs\n",
      "\n",
      "  | Name          | Type             | Params\n",
      "---------------------------------------------------\n",
      "0 | criterion     | MSELoss          | 0     \n",
      "1 | train_metrics | MetricCollection | 0     \n",
      "2 | val_metrics   | MetricCollection | 0     \n",
      "3 | stacks        | ModuleList       | 881 K \n",
      "---------------------------------------------------\n",
      "857 K     Trainable params\n",
      "24.6 K    Non-trainable params\n",
      "881 K     Total params\n",
      "7.054     Total estimated model params size (MB)\n"
     ]
    },
    {
     "name": "stdout",
     "output_type": "stream",
     "text": [
      "Epoch 499: 100%|██████████████████████████████████████| 2/2 [00:00<00:00, 13.60it/s, loss=6.63e-05, train_loss=6.63e-5]"
     ]
    },
    {
     "name": "stderr",
     "output_type": "stream",
     "text": [
      "`Trainer.fit` stopped: `max_epochs=500` reached.\n"
     ]
    },
    {
     "name": "stdout",
     "output_type": "stream",
     "text": [
      "Epoch 499: 100%|██████████████████████████████████████| 2/2 [00:00<00:00, 12.89it/s, loss=6.63e-05, train_loss=6.63e-5]\n"
     ]
    },
    {
     "name": "stderr",
     "output_type": "stream",
     "text": [
      "GPU available: False, used: False\n",
      "TPU available: False, using: 0 TPU cores\n",
      "IPU available: False, using: 0 IPUs\n",
      "HPU available: False, using: 0 HPUs\n"
     ]
    },
    {
     "name": "stdout",
     "output_type": "stream",
     "text": [
      "Predicting DataLoader 0: 100%|███████████████████████████████████████████████████████████| 1/1 [00:00<00:00, 41.89it/s]\n"
     ]
    }
   ],
   "source": [
    "model = NHiTSModel(input_chunk_length=24, output_chunk_length=len(cpi_ts_val))\n",
    "model.fit(series=cpi_ts_train, past_covariates=zori_ts_train, epochs=500)\n",
    "prediction = cpi_scaler.inverse_transform(model.predict(n=len(cpi_ts_val), past_covariates=zori_ts_train, series=cpi_ts_train))"
   ]
  },
  {
   "cell_type": "markdown",
   "id": "599b1405-eda6-454b-a5f1-275581e21d72",
   "metadata": {},
   "source": [
    "Now that we have our predictions, we can plot them against the actual values for the testing period. Since we used a scaler at the beginning, we will have to inverse it so we have the actual values."
   ]
  },
  {
   "cell_type": "code",
   "execution_count": 371,
   "id": "11ec9605-7c59-4568-b1a0-f82cabfc4993",
   "metadata": {},
   "outputs": [
    {
     "name": "stdout",
     "output_type": "stream",
     "text": [
      "Accuracy:  0.97\n"
     ]
    },
    {
     "data": {
      "image/png": "[encoded data removed]",
      "text/plain": [
       "<Figure size 640x480 with 1 Axes>"
      ]
     },
     "metadata": {},
     "output_type": "display_data"
    }
   ],
   "source": [
    "cpi_ts.plot(label = 'actual')\n",
    "prediction.plot(label = 'forecast', lw = 3)\n",
    "accuracy=(1-sum(abs(cpi_scaler.inverse_transform(cpi_ts_val).values()-prediction.values())/prediction.values()))[0]\n",
    "print(\"Accuracy: \",np.round(accuracy,2))\n",
    "plt.legend();"
   ]
  },
  {
   "cell_type": "markdown",
   "id": "d46d9ad5-8b78-4b58-a91b-33563e920b73",
   "metadata": {},
   "source": []
  },
  {
   "cell_type": "code",
   "execution_count": null,
   "id": "8c96569f-97ad-4505-9777-9908429907d7",
   "metadata": {},
   "outputs": [],
   "source": []
  },
  {
   "cell_type": "code",
   "execution_count": null,
   "id": "c184f46a-35ad-4272-8570-536723535048",
   "metadata": {},
   "outputs": [],
   "source": []
  }
 ],
 "metadata": {
  "kernelspec": {
   "display_name": "Python 3 (ipykernel)",
   "language": "python",
   "name": "python3"
  },
  "language_info": {
   "codemirror_mode": {
    "name": "ipython",
    "version": 3
   },
   "file_extension": ".py",
   "mimetype": "text/x-python",
   "name": "python",
   "nbconvert_exporter": "python",
   "pygments_lexer": "ipython3",
   "version": "3.9.15"
  }
 },
 "nbformat": 4,
 "nbformat_minor": 5
}
