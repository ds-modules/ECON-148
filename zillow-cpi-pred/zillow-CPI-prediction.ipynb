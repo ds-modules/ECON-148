{
 "cells": [
  {
   "cell_type": "markdown",
   "id": "3d8df175",
   "metadata": {},
   "source": [
    "# ECON 148 - Using Zillow to Predict CPI"
   ]
  },
  {
   "cell_type": "markdown",
   "id": "ee6a8bba",
   "metadata": {},
   "source": [
    "## Introduction\n",
    "In this notebook, we're going to try to use data from Zillow (specifically, their ZORI index) to see if we can use it to predict the US consumer price index."
   ]
  },
  {
   "cell_type": "markdown",
   "id": "ac292572",
   "metadata": {},
   "source": [
    "Run the following cell to import our standard packages."
   ]
  },
  {
   "cell_type": "code",
   "execution_count": 1,
   "id": "fb2a7ce5",
   "metadata": {},
   "outputs": [],
   "source": [
    "import pandas as pd\n",
    "import numpy as np\n",
    "import seaborn as sns\n",
    "import matplotlib as plt\n",
    "from scipy import stats"
   ]
  },
  {
   "cell_type": "markdown",
   "id": "c173644a",
   "metadata": {},
   "source": [
    "We've downloaded the ZORI index for you from https://www.zillow.com/research/data/"
   ]
  },
  {
   "cell_type": "code",
   "execution_count": 2,
   "id": "ae8c3f41",
   "metadata": {},
   "outputs": [],
   "source": [
    "zori = pd.read_csv(\"zori1.csv\")"
   ]
  },
  {
   "cell_type": "markdown",
   "id": "bec7bd0f",
   "metadata": {},
   "source": [
    "Run the following cell to display information about the ZORI index. What can you tell from the data?"
   ]
  },
  {
   "cell_type": "code",
   "execution_count": 3,
   "id": "6e62e124",
   "metadata": {
    "scrolled": true
   },
   "outputs": [
    {
     "data": {
      "text/html": [
       "<div>\n",
       "<style scoped>\n",
       "    .dataframe tbody tr th:only-of-type {\n",
       "        vertical-align: middle;\n",
       "    }\n",
       "\n",
       "    .dataframe tbody tr th {\n",
       "        vertical-align: top;\n",
       "    }\n",
       "\n",
       "    .dataframe thead th {\n",
       "        text-align: right;\n",
       "    }\n",
       "</style>\n",
       "<table border=\"1\" class=\"dataframe\">\n",
       "  <thead>\n",
       "    <tr style=\"text-align: right;\">\n",
       "      <th></th>\n",
       "      <th>RegionID</th>\n",
       "      <th>SizeRank</th>\n",
       "      <th>RegionName</th>\n",
       "      <th>RegionType</th>\n",
       "      <th>StateName</th>\n",
       "      <th>2015-03-31</th>\n",
       "      <th>2015-04-30</th>\n",
       "      <th>2015-05-31</th>\n",
       "      <th>2015-06-30</th>\n",
       "      <th>2015-07-31</th>\n",
       "      <th>...</th>\n",
       "      <th>2021-12-31</th>\n",
       "      <th>2022-01-31</th>\n",
       "      <th>2022-02-28</th>\n",
       "      <th>2022-03-31</th>\n",
       "      <th>2022-04-30</th>\n",
       "      <th>2022-05-31</th>\n",
       "      <th>2022-06-30</th>\n",
       "      <th>2022-07-31</th>\n",
       "      <th>2022-08-31</th>\n",
       "      <th>2022-09-30</th>\n",
       "    </tr>\n",
       "  </thead>\n",
       "  <tbody>\n",
       "    <tr>\n",
       "      <th>0</th>\n",
       "      <td>102001</td>\n",
       "      <td>0</td>\n",
       "      <td>United States</td>\n",
       "      <td>country</td>\n",
       "      <td>NaN</td>\n",
       "      <td>1370.301806</td>\n",
       "      <td>1381.971304</td>\n",
       "      <td>1392.389090</td>\n",
       "      <td>1403.203509</td>\n",
       "      <td>1408.901384</td>\n",
       "      <td>...</td>\n",
       "      <td>1928.945108</td>\n",
       "      <td>1937.304351</td>\n",
       "      <td>1955.272060</td>\n",
       "      <td>1971.256988</td>\n",
       "      <td>1997.731260</td>\n",
       "      <td>2019.752839</td>\n",
       "      <td>2044.662959</td>\n",
       "      <td>2065.275748</td>\n",
       "      <td>2078.546078</td>\n",
       "      <td>2084.084210</td>\n",
       "    </tr>\n",
       "    <tr>\n",
       "      <th>1</th>\n",
       "      <td>394913</td>\n",
       "      <td>1</td>\n",
       "      <td>New York, NY</td>\n",
       "      <td>msa</td>\n",
       "      <td>NY</td>\n",
       "      <td>2506.196326</td>\n",
       "      <td>2533.311441</td>\n",
       "      <td>2552.989317</td>\n",
       "      <td>2570.501028</td>\n",
       "      <td>2573.663435</td>\n",
       "      <td>...</td>\n",
       "      <td>2957.725252</td>\n",
       "      <td>2984.899451</td>\n",
       "      <td>3032.151836</td>\n",
       "      <td>3082.959790</td>\n",
       "      <td>3142.381057</td>\n",
       "      <td>3201.035347</td>\n",
       "      <td>3258.611614</td>\n",
       "      <td>3308.938574</td>\n",
       "      <td>3327.647323</td>\n",
       "      <td>3321.271717</td>\n",
       "    </tr>\n",
       "    <tr>\n",
       "      <th>2</th>\n",
       "      <td>753899</td>\n",
       "      <td>2</td>\n",
       "      <td>Los Angeles, CA</td>\n",
       "      <td>msa</td>\n",
       "      <td>CA</td>\n",
       "      <td>1977.874325</td>\n",
       "      <td>1990.644815</td>\n",
       "      <td>2004.443160</td>\n",
       "      <td>2016.922137</td>\n",
       "      <td>2031.255505</td>\n",
       "      <td>...</td>\n",
       "      <td>2808.206899</td>\n",
       "      <td>2825.516662</td>\n",
       "      <td>2850.339483</td>\n",
       "      <td>2881.506596</td>\n",
       "      <td>2919.113666</td>\n",
       "      <td>2953.089197</td>\n",
       "      <td>2978.850604</td>\n",
       "      <td>2999.777869</td>\n",
       "      <td>3013.211794</td>\n",
       "      <td>3019.026316</td>\n",
       "    </tr>\n",
       "    <tr>\n",
       "      <th>3</th>\n",
       "      <td>394463</td>\n",
       "      <td>3</td>\n",
       "      <td>Chicago, IL</td>\n",
       "      <td>msa</td>\n",
       "      <td>IL</td>\n",
       "      <td>1478.149264</td>\n",
       "      <td>1490.961012</td>\n",
       "      <td>1502.702134</td>\n",
       "      <td>1528.952557</td>\n",
       "      <td>1535.997197</td>\n",
       "      <td>...</td>\n",
       "      <td>1795.629571</td>\n",
       "      <td>1808.471849</td>\n",
       "      <td>1823.778075</td>\n",
       "      <td>1843.010280</td>\n",
       "      <td>1865.307537</td>\n",
       "      <td>1890.513951</td>\n",
       "      <td>1911.437953</td>\n",
       "      <td>1930.811578</td>\n",
       "      <td>1939.370439</td>\n",
       "      <td>1941.933786</td>\n",
       "    </tr>\n",
       "    <tr>\n",
       "      <th>4</th>\n",
       "      <td>394514</td>\n",
       "      <td>4</td>\n",
       "      <td>Dallas, TX</td>\n",
       "      <td>msa</td>\n",
       "      <td>TX</td>\n",
       "      <td>1180.713035</td>\n",
       "      <td>1191.112125</td>\n",
       "      <td>1202.397600</td>\n",
       "      <td>1209.409429</td>\n",
       "      <td>1216.117716</td>\n",
       "      <td>...</td>\n",
       "      <td>1724.699775</td>\n",
       "      <td>1736.260930</td>\n",
       "      <td>1747.886285</td>\n",
       "      <td>1758.449166</td>\n",
       "      <td>1780.575633</td>\n",
       "      <td>1807.486899</td>\n",
       "      <td>1842.009269</td>\n",
       "      <td>1866.378789</td>\n",
       "      <td>1876.715983</td>\n",
       "      <td>1875.844643</td>\n",
       "    </tr>\n",
       "    <tr>\n",
       "      <th>...</th>\n",
       "      <td>...</td>\n",
       "      <td>...</td>\n",
       "      <td>...</td>\n",
       "      <td>...</td>\n",
       "      <td>...</td>\n",
       "      <td>...</td>\n",
       "      <td>...</td>\n",
       "      <td>...</td>\n",
       "      <td>...</td>\n",
       "      <td>...</td>\n",
       "      <td>...</td>\n",
       "      <td>...</td>\n",
       "      <td>...</td>\n",
       "      <td>...</td>\n",
       "      <td>...</td>\n",
       "      <td>...</td>\n",
       "      <td>...</td>\n",
       "      <td>...</td>\n",
       "      <td>...</td>\n",
       "      <td>...</td>\n",
       "      <td>...</td>\n",
       "    </tr>\n",
       "    <tr>\n",
       "      <th>574</th>\n",
       "      <td>394322</td>\n",
       "      <td>861</td>\n",
       "      <td>Altus, OK</td>\n",
       "      <td>msa</td>\n",
       "      <td>OK</td>\n",
       "      <td>404.816596</td>\n",
       "      <td>NaN</td>\n",
       "      <td>417.170690</td>\n",
       "      <td>NaN</td>\n",
       "      <td>NaN</td>\n",
       "      <td>...</td>\n",
       "      <td>NaN</td>\n",
       "      <td>NaN</td>\n",
       "      <td>NaN</td>\n",
       "      <td>735.821384</td>\n",
       "      <td>732.921061</td>\n",
       "      <td>771.810020</td>\n",
       "      <td>755.232683</td>\n",
       "      <td>810.606473</td>\n",
       "      <td>750.000000</td>\n",
       "      <td>821.649685</td>\n",
       "    </tr>\n",
       "    <tr>\n",
       "      <th>575</th>\n",
       "      <td>394687</td>\n",
       "      <td>869</td>\n",
       "      <td>Hood River, OR</td>\n",
       "      <td>msa</td>\n",
       "      <td>OR</td>\n",
       "      <td>NaN</td>\n",
       "      <td>NaN</td>\n",
       "      <td>NaN</td>\n",
       "      <td>708.148593</td>\n",
       "      <td>NaN</td>\n",
       "      <td>...</td>\n",
       "      <td>NaN</td>\n",
       "      <td>2039.794902</td>\n",
       "      <td>NaN</td>\n",
       "      <td>2061.477514</td>\n",
       "      <td>2053.911628</td>\n",
       "      <td>2293.863629</td>\n",
       "      <td>2446.688466</td>\n",
       "      <td>2573.551207</td>\n",
       "      <td>2575.000000</td>\n",
       "      <td>2617.167354</td>\n",
       "    </tr>\n",
       "    <tr>\n",
       "      <th>576</th>\n",
       "      <td>394718</td>\n",
       "      <td>892</td>\n",
       "      <td>Jamestown, ND</td>\n",
       "      <td>msa</td>\n",
       "      <td>ND</td>\n",
       "      <td>NaN</td>\n",
       "      <td>NaN</td>\n",
       "      <td>NaN</td>\n",
       "      <td>NaN</td>\n",
       "      <td>NaN</td>\n",
       "      <td>...</td>\n",
       "      <td>643.033893</td>\n",
       "      <td>632.188630</td>\n",
       "      <td>NaN</td>\n",
       "      <td>668.388884</td>\n",
       "      <td>715.417127</td>\n",
       "      <td>687.157390</td>\n",
       "      <td>702.818101</td>\n",
       "      <td>729.449277</td>\n",
       "      <td>771.000000</td>\n",
       "      <td>795.646586</td>\n",
       "    </tr>\n",
       "    <tr>\n",
       "      <th>577</th>\n",
       "      <td>394330</td>\n",
       "      <td>906</td>\n",
       "      <td>Andrews, TX</td>\n",
       "      <td>msa</td>\n",
       "      <td>TX</td>\n",
       "      <td>NaN</td>\n",
       "      <td>NaN</td>\n",
       "      <td>480.844237</td>\n",
       "      <td>470.002683</td>\n",
       "      <td>NaN</td>\n",
       "      <td>...</td>\n",
       "      <td>NaN</td>\n",
       "      <td>901.423609</td>\n",
       "      <td>NaN</td>\n",
       "      <td>NaN</td>\n",
       "      <td>NaN</td>\n",
       "      <td>NaN</td>\n",
       "      <td>NaN</td>\n",
       "      <td>NaN</td>\n",
       "      <td>962.000000</td>\n",
       "      <td>1019.826674</td>\n",
       "    </tr>\n",
       "    <tr>\n",
       "      <th>578</th>\n",
       "      <td>394996</td>\n",
       "      <td>907</td>\n",
       "      <td>Portales, NM</td>\n",
       "      <td>msa</td>\n",
       "      <td>NM</td>\n",
       "      <td>517.203126</td>\n",
       "      <td>516.728308</td>\n",
       "      <td>526.970302</td>\n",
       "      <td>529.436634</td>\n",
       "      <td>531.612792</td>\n",
       "      <td>...</td>\n",
       "      <td>NaN</td>\n",
       "      <td>812.564382</td>\n",
       "      <td>816.337611</td>\n",
       "      <td>774.215873</td>\n",
       "      <td>781.403240</td>\n",
       "      <td>778.818450</td>\n",
       "      <td>800.955182</td>\n",
       "      <td>832.421311</td>\n",
       "      <td>850.000000</td>\n",
       "      <td>840.276292</td>\n",
       "    </tr>\n",
       "  </tbody>\n",
       "</table>\n",
       "<p>579 rows × 96 columns</p>\n",
       "</div>"
      ],
      "text/plain": [
       "     RegionID  SizeRank       RegionName RegionType StateName   2015-03-31  \\\n",
       "0      102001         0    United States    country       NaN  1370.301806   \n",
       "1      394913         1     New York, NY        msa        NY  2506.196326   \n",
       "2      753899         2  Los Angeles, CA        msa        CA  1977.874325   \n",
       "3      394463         3      Chicago, IL        msa        IL  1478.149264   \n",
       "4      394514         4       Dallas, TX        msa        TX  1180.713035   \n",
       "..        ...       ...              ...        ...       ...          ...   \n",
       "574    394322       861        Altus, OK        msa        OK   404.816596   \n",
       "575    394687       869   Hood River, OR        msa        OR          NaN   \n",
       "576    394718       892    Jamestown, ND        msa        ND          NaN   \n",
       "577    394330       906      Andrews, TX        msa        TX          NaN   \n",
       "578    394996       907     Portales, NM        msa        NM   517.203126   \n",
       "\n",
       "      2015-04-30   2015-05-31   2015-06-30   2015-07-31  ...   2021-12-31  \\\n",
       "0    1381.971304  1392.389090  1403.203509  1408.901384  ...  1928.945108   \n",
       "1    2533.311441  2552.989317  2570.501028  2573.663435  ...  2957.725252   \n",
       "2    1990.644815  2004.443160  2016.922137  2031.255505  ...  2808.206899   \n",
       "3    1490.961012  1502.702134  1528.952557  1535.997197  ...  1795.629571   \n",
       "4    1191.112125  1202.397600  1209.409429  1216.117716  ...  1724.699775   \n",
       "..           ...          ...          ...          ...  ...          ...   \n",
       "574          NaN   417.170690          NaN          NaN  ...          NaN   \n",
       "575          NaN          NaN   708.148593          NaN  ...          NaN   \n",
       "576          NaN          NaN          NaN          NaN  ...   643.033893   \n",
       "577          NaN   480.844237   470.002683          NaN  ...          NaN   \n",
       "578   516.728308   526.970302   529.436634   531.612792  ...          NaN   \n",
       "\n",
       "      2022-01-31   2022-02-28   2022-03-31   2022-04-30   2022-05-31  \\\n",
       "0    1937.304351  1955.272060  1971.256988  1997.731260  2019.752839   \n",
       "1    2984.899451  3032.151836  3082.959790  3142.381057  3201.035347   \n",
       "2    2825.516662  2850.339483  2881.506596  2919.113666  2953.089197   \n",
       "3    1808.471849  1823.778075  1843.010280  1865.307537  1890.513951   \n",
       "4    1736.260930  1747.886285  1758.449166  1780.575633  1807.486899   \n",
       "..           ...          ...          ...          ...          ...   \n",
       "574          NaN          NaN   735.821384   732.921061   771.810020   \n",
       "575  2039.794902          NaN  2061.477514  2053.911628  2293.863629   \n",
       "576   632.188630          NaN   668.388884   715.417127   687.157390   \n",
       "577   901.423609          NaN          NaN          NaN          NaN   \n",
       "578   812.564382   816.337611   774.215873   781.403240   778.818450   \n",
       "\n",
       "      2022-06-30   2022-07-31   2022-08-31   2022-09-30  \n",
       "0    2044.662959  2065.275748  2078.546078  2084.084210  \n",
       "1    3258.611614  3308.938574  3327.647323  3321.271717  \n",
       "2    2978.850604  2999.777869  3013.211794  3019.026316  \n",
       "3    1911.437953  1930.811578  1939.370439  1941.933786  \n",
       "4    1842.009269  1866.378789  1876.715983  1875.844643  \n",
       "..           ...          ...          ...          ...  \n",
       "574   755.232683   810.606473   750.000000   821.649685  \n",
       "575  2446.688466  2573.551207  2575.000000  2617.167354  \n",
       "576   702.818101   729.449277   771.000000   795.646586  \n",
       "577          NaN          NaN   962.000000  1019.826674  \n",
       "578   800.955182   832.421311   850.000000   840.276292  \n",
       "\n",
       "[579 rows x 96 columns]"
      ]
     },
     "execution_count": 3,
     "metadata": {},
     "output_type": "execute_result"
    }
   ],
   "source": [
    "zori"
   ]
  },
  {
   "cell_type": "markdown",
   "id": "f68b09e2",
   "metadata": {},
   "source": [
    "## Question 1\n",
    "### (1a)\n",
    "What information is stored in the ZORI data? What does each row represent?"
   ]
  },
  {
   "cell_type": "markdown",
   "id": "696d6270",
   "metadata": {},
   "source": [
    "### (1b)"
   ]
  },
  {
   "cell_type": "markdown",
   "id": "f7174857",
   "metadata": {},
   "source": [
    "If we wanted to compared ZORI data against US CPI, what might be some ways we can manipulate our data?"
   ]
  },
  {
   "cell_type": "markdown",
   "id": "2b9d53bc",
   "metadata": {},
   "source": [
    "# Data Processing"
   ]
  },
  {
   "cell_type": "markdown",
   "id": "4b6ed59f",
   "metadata": {},
   "source": [
    "## ZORI"
   ]
  },
  {
   "cell_type": "markdown",
   "id": "3b9f6621",
   "metadata": {},
   "source": [
    "Below, we select row within the ZORI dataframe that has the timeseries corresponding to the US ZORI index."
   ]
  },
  {
   "cell_type": "code",
   "execution_count": 4,
   "id": "002d33cc",
   "metadata": {},
   "outputs": [
    {
     "data": {
      "text/plain": [
       "RegionID             102001\n",
       "SizeRank                  0\n",
       "RegionName    United States\n",
       "RegionType          country\n",
       "StateName               NaN\n",
       "                  ...      \n",
       "2022-04-30       1997.73126\n",
       "2022-05-31      2019.752839\n",
       "2022-06-30      2044.662959\n",
       "2022-07-31      2065.275748\n",
       "2022-08-31      2078.546078\n",
       "Name: 0, Length: 95, dtype: object"
      ]
     },
     "execution_count": 4,
     "metadata": {},
     "output_type": "execute_result"
    }
   ],
   "source": [
    "zUS = zori.iloc[0, :-1]\n",
    "zUS"
   ]
  },
  {
   "cell_type": "markdown",
   "id": "c6e0cf42",
   "metadata": {
    "scrolled": true
   },
   "source": [
    "We notice that the dates in the timeseries actually start from the 6th entry in the index. If we wanted to create a DataFrame, we would need to find a way to extract this information, in addition to the data stored in the ZORI column."
   ]
  },
  {
   "cell_type": "code",
   "execution_count": 5,
   "id": "a212a031",
   "metadata": {
    "scrolled": true
   },
   "outputs": [],
   "source": [
    "zori_dates = zUS[5:].index\n",
    "zori_data = zUS[5:].to_list()"
   ]
  },
  {
   "cell_type": "markdown",
   "id": "1c11ccb5",
   "metadata": {},
   "source": [
    "We now construct a DataFrame using this information."
   ]
  },
  {
   "cell_type": "code",
   "execution_count": 6,
   "id": "ee84c241",
   "metadata": {
    "scrolled": true
   },
   "outputs": [
    {
     "data": {
      "text/html": [
       "<div>\n",
       "<style scoped>\n",
       "    .dataframe tbody tr th:only-of-type {\n",
       "        vertical-align: middle;\n",
       "    }\n",
       "\n",
       "    .dataframe tbody tr th {\n",
       "        vertical-align: top;\n",
       "    }\n",
       "\n",
       "    .dataframe thead th {\n",
       "        text-align: right;\n",
       "    }\n",
       "</style>\n",
       "<table border=\"1\" class=\"dataframe\">\n",
       "  <thead>\n",
       "    <tr style=\"text-align: right;\">\n",
       "      <th></th>\n",
       "      <th>DATE</th>\n",
       "      <th>ZORI</th>\n",
       "    </tr>\n",
       "  </thead>\n",
       "  <tbody>\n",
       "    <tr>\n",
       "      <th>0</th>\n",
       "      <td>2015-03-31</td>\n",
       "      <td>1370.301806</td>\n",
       "    </tr>\n",
       "    <tr>\n",
       "      <th>1</th>\n",
       "      <td>2015-04-30</td>\n",
       "      <td>1381.971304</td>\n",
       "    </tr>\n",
       "    <tr>\n",
       "      <th>2</th>\n",
       "      <td>2015-05-31</td>\n",
       "      <td>1392.389090</td>\n",
       "    </tr>\n",
       "    <tr>\n",
       "      <th>3</th>\n",
       "      <td>2015-06-30</td>\n",
       "      <td>1403.203509</td>\n",
       "    </tr>\n",
       "    <tr>\n",
       "      <th>4</th>\n",
       "      <td>2015-07-31</td>\n",
       "      <td>1408.901384</td>\n",
       "    </tr>\n",
       "    <tr>\n",
       "      <th>...</th>\n",
       "      <td>...</td>\n",
       "      <td>...</td>\n",
       "    </tr>\n",
       "    <tr>\n",
       "      <th>85</th>\n",
       "      <td>2022-04-30</td>\n",
       "      <td>1997.731260</td>\n",
       "    </tr>\n",
       "    <tr>\n",
       "      <th>86</th>\n",
       "      <td>2022-05-31</td>\n",
       "      <td>2019.752839</td>\n",
       "    </tr>\n",
       "    <tr>\n",
       "      <th>87</th>\n",
       "      <td>2022-06-30</td>\n",
       "      <td>2044.662959</td>\n",
       "    </tr>\n",
       "    <tr>\n",
       "      <th>88</th>\n",
       "      <td>2022-07-31</td>\n",
       "      <td>2065.275748</td>\n",
       "    </tr>\n",
       "    <tr>\n",
       "      <th>89</th>\n",
       "      <td>2022-08-31</td>\n",
       "      <td>2078.546078</td>\n",
       "    </tr>\n",
       "  </tbody>\n",
       "</table>\n",
       "<p>90 rows × 2 columns</p>\n",
       "</div>"
      ],
      "text/plain": [
       "          DATE         ZORI\n",
       "0   2015-03-31  1370.301806\n",
       "1   2015-04-30  1381.971304\n",
       "2   2015-05-31  1392.389090\n",
       "3   2015-06-30  1403.203509\n",
       "4   2015-07-31  1408.901384\n",
       "..         ...          ...\n",
       "85  2022-04-30  1997.731260\n",
       "86  2022-05-31  2019.752839\n",
       "87  2022-06-30  2044.662959\n",
       "88  2022-07-31  2065.275748\n",
       "89  2022-08-31  2078.546078\n",
       "\n",
       "[90 rows x 2 columns]"
      ]
     },
     "execution_count": 6,
     "metadata": {},
     "output_type": "execute_result"
    }
   ],
   "source": [
    "zillow = pd.DataFrame(data={\"DATE\": zori_dates, \"ZORI\" : zori_data})\n",
    "zillow"
   ]
  },
  {
   "cell_type": "markdown",
   "id": "ced035b1",
   "metadata": {},
   "source": [
    "We might wonder what this looks like. Let's graph this time series."
   ]
  },
  {
   "cell_type": "code",
   "execution_count": 7,
   "id": "0788bce4",
   "metadata": {
    "scrolled": true
   },
   "outputs": [
    {
     "data": {
      "text/plain": [
       "<AxesSubplot:xlabel='DATE', ylabel='ZORI'>"
      ]
     },
     "execution_count": 7,
     "metadata": {},
     "output_type": "execute_result"
    },
    {
     "data": {
      "image/png": "[encoded data removed]",
      "text/plain": [
       "<Figure size 432x288 with 1 Axes>"
      ]
     },
     "metadata": {
      "needs_background": "light"
     },
     "output_type": "display_data"
    }
   ],
   "source": [
    "sns.lineplot(data=zillow, x=\"DATE\", y=\"ZORI\")"
   ]
  },
  {
   "cell_type": "markdown",
   "id": "b3eb70f3",
   "metadata": {},
   "source": [
    "Do you notice anything interesting about this graph? "
   ]
  },
  {
   "cell_type": "markdown",
   "id": "391fae41",
   "metadata": {},
   "source": [
    "We'll focus on the part where the slope becomes noticably steeper. Can you find around what time this happened? What are some possible explanations?"
   ]
  },
  {
   "cell_type": "markdown",
   "id": "fbefbc91",
   "metadata": {},
   "source": [
    "## US CPI"
   ]
  },
  {
   "cell_type": "markdown",
   "id": "70e4b9b8",
   "metadata": {},
   "source": [
    "We'll now bring our attention to the US CPI."
   ]
  },
  {
   "cell_type": "markdown",
   "id": "6193d997",
   "metadata": {},
   "source": [
    "We've downloaded historical US CPI data for you from the [FRED website](https://fred.stlouisfed.org/series/CUUR0000SEHA). Since our ZORI data starts on 03/31/2015, we've adjusted the sliders on the FRED website to only extract starting from 03/31/2015. We've also renamed the columns to be more readable."
   ]
  },
  {
   "cell_type": "code",
   "execution_count": 54,
   "id": "9013d133",
   "metadata": {
    "scrolled": true
   },
   "outputs": [],
   "source": [
    "zillow = zillow.reset_index()"
   ]
  },
  {
   "cell_type": "code",
   "execution_count": 79,
   "id": "b656ed8c",
   "metadata": {
    "scrolled": false
   },
   "outputs": [],
   "source": [
    "usCPI = pd.read_csv(\"usCPI.csv\")\n",
    "usCPI = usCPI.rename(columns={\"CUUR0000SEHA\": \"CPI\"})\n",
    "usCPI = usCPI.iloc[1:, :]\n",
    "usCPI = usCPI.reset_index()"
   ]
  },
  {
   "cell_type": "code",
   "execution_count": 80,
   "id": "14c0f2c5",
   "metadata": {
    "scrolled": true
   },
   "outputs": [
    {
     "data": {
      "text/html": [
       "<div>\n",
       "<style scoped>\n",
       "    .dataframe tbody tr th:only-of-type {\n",
       "        vertical-align: middle;\n",
       "    }\n",
       "\n",
       "    .dataframe tbody tr th {\n",
       "        vertical-align: top;\n",
       "    }\n",
       "\n",
       "    .dataframe thead th {\n",
       "        text-align: right;\n",
       "    }\n",
       "</style>\n",
       "<table border=\"1\" class=\"dataframe\">\n",
       "  <thead>\n",
       "    <tr style=\"text-align: right;\">\n",
       "      <th></th>\n",
       "      <th>index</th>\n",
       "      <th>DATE</th>\n",
       "      <th>CPI</th>\n",
       "    </tr>\n",
       "  </thead>\n",
       "  <tbody>\n",
       "    <tr>\n",
       "      <th>0</th>\n",
       "      <td>1</td>\n",
       "      <td>2015-04-01</td>\n",
       "      <td>283.598</td>\n",
       "    </tr>\n",
       "    <tr>\n",
       "      <th>1</th>\n",
       "      <td>2</td>\n",
       "      <td>2015-05-01</td>\n",
       "      <td>284.245</td>\n",
       "    </tr>\n",
       "    <tr>\n",
       "      <th>2</th>\n",
       "      <td>3</td>\n",
       "      <td>2015-06-01</td>\n",
       "      <td>285.031</td>\n",
       "    </tr>\n",
       "    <tr>\n",
       "      <th>3</th>\n",
       "      <td>4</td>\n",
       "      <td>2015-07-01</td>\n",
       "      <td>286.090</td>\n",
       "    </tr>\n",
       "    <tr>\n",
       "      <th>4</th>\n",
       "      <td>5</td>\n",
       "      <td>2015-08-01</td>\n",
       "      <td>287.068</td>\n",
       "    </tr>\n",
       "    <tr>\n",
       "      <th>...</th>\n",
       "      <td>...</td>\n",
       "      <td>...</td>\n",
       "      <td>...</td>\n",
       "    </tr>\n",
       "    <tr>\n",
       "      <th>85</th>\n",
       "      <td>86</td>\n",
       "      <td>2022-05-01</td>\n",
       "      <td>365.116</td>\n",
       "    </tr>\n",
       "    <tr>\n",
       "      <th>86</th>\n",
       "      <td>87</td>\n",
       "      <td>2022-06-01</td>\n",
       "      <td>367.927</td>\n",
       "    </tr>\n",
       "    <tr>\n",
       "      <th>87</th>\n",
       "      <td>88</td>\n",
       "      <td>2022-07-01</td>\n",
       "      <td>370.448</td>\n",
       "    </tr>\n",
       "    <tr>\n",
       "      <th>88</th>\n",
       "      <td>89</td>\n",
       "      <td>2022-08-01</td>\n",
       "      <td>373.283</td>\n",
       "    </tr>\n",
       "    <tr>\n",
       "      <th>89</th>\n",
       "      <td>90</td>\n",
       "      <td>2022-09-01</td>\n",
       "      <td>376.569</td>\n",
       "    </tr>\n",
       "  </tbody>\n",
       "</table>\n",
       "<p>90 rows × 3 columns</p>\n",
       "</div>"
      ],
      "text/plain": [
       "    index        DATE      CPI\n",
       "0       1  2015-04-01  283.598\n",
       "1       2  2015-05-01  284.245\n",
       "2       3  2015-06-01  285.031\n",
       "3       4  2015-07-01  286.090\n",
       "4       5  2015-08-01  287.068\n",
       "..    ...         ...      ...\n",
       "85     86  2022-05-01  365.116\n",
       "86     87  2022-06-01  367.927\n",
       "87     88  2022-07-01  370.448\n",
       "88     89  2022-08-01  373.283\n",
       "89     90  2022-09-01  376.569\n",
       "\n",
       "[90 rows x 3 columns]"
      ]
     },
     "execution_count": 80,
     "metadata": {},
     "output_type": "execute_result"
    }
   ],
   "source": [
    "usCPI"
   ]
  },
  {
   "cell_type": "code",
   "execution_count": 81,
   "id": "cea9bd9d",
   "metadata": {},
   "outputs": [
    {
     "data": {
      "text/plain": [
       "str"
      ]
     },
     "execution_count": 81,
     "metadata": {},
     "output_type": "execute_result"
    }
   ],
   "source": [
    "type(usCPI[\"DATE\"][0])"
   ]
  },
  {
   "cell_type": "markdown",
   "id": "9ab94af0",
   "metadata": {},
   "source": [
    "We can try plotting this to see what it looks like."
   ]
  },
  {
   "cell_type": "code",
   "execution_count": 82,
   "id": "c84b71d5",
   "metadata": {
    "scrolled": false
   },
   "outputs": [
    {
     "data": {
      "text/plain": [
       "<AxesSubplot:xlabel='DATE', ylabel='CPI'>"
      ]
     },
     "execution_count": 82,
     "metadata": {},
     "output_type": "execute_result"
    },
    {
     "data": {
      "image/png": "[encoded data removed]",
      "text/plain": [
       "<Figure size 432x288 with 1 Axes>"
      ]
     },
     "metadata": {
      "needs_background": "light"
     },
     "output_type": "display_data"
    }
   ],
   "source": [
    "sns.lineplot(data=usCPI, x=\"DATE\", y=\"CPI\")"
   ]
  },
  {
   "cell_type": "markdown",
   "id": "ab57625f",
   "metadata": {},
   "source": [
    "# Time Series Prediction"
   ]
  },
  {
   "cell_type": "code",
   "execution_count": 83,
   "id": "854317a2",
   "metadata": {},
   "outputs": [],
   "source": [
    "import matplotlib.pyplot as plt"
   ]
  },
  {
   "cell_type": "code",
   "execution_count": 85,
   "id": "6343c974",
   "metadata": {
    "scrolled": true
   },
   "outputs": [],
   "source": [
    "usCPI = usCPI[[\"DATE\", \"CPI\"]]"
   ]
  },
  {
   "cell_type": "code",
   "execution_count": 86,
   "id": "517bf1f1",
   "metadata": {
    "scrolled": true
   },
   "outputs": [
    {
     "data": {
      "text/html": [
       "<div>\n",
       "<style scoped>\n",
       "    .dataframe tbody tr th:only-of-type {\n",
       "        vertical-align: middle;\n",
       "    }\n",
       "\n",
       "    .dataframe tbody tr th {\n",
       "        vertical-align: top;\n",
       "    }\n",
       "\n",
       "    .dataframe thead th {\n",
       "        text-align: right;\n",
       "    }\n",
       "</style>\n",
       "<table border=\"1\" class=\"dataframe\">\n",
       "  <thead>\n",
       "    <tr style=\"text-align: right;\">\n",
       "      <th></th>\n",
       "      <th>DATE</th>\n",
       "      <th>CPI</th>\n",
       "    </tr>\n",
       "  </thead>\n",
       "  <tbody>\n",
       "    <tr>\n",
       "      <th>0</th>\n",
       "      <td>2015-04-01</td>\n",
       "      <td>283.598</td>\n",
       "    </tr>\n",
       "    <tr>\n",
       "      <th>1</th>\n",
       "      <td>2015-05-01</td>\n",
       "      <td>284.245</td>\n",
       "    </tr>\n",
       "    <tr>\n",
       "      <th>2</th>\n",
       "      <td>2015-06-01</td>\n",
       "      <td>285.031</td>\n",
       "    </tr>\n",
       "    <tr>\n",
       "      <th>3</th>\n",
       "      <td>2015-07-01</td>\n",
       "      <td>286.090</td>\n",
       "    </tr>\n",
       "    <tr>\n",
       "      <th>4</th>\n",
       "      <td>2015-08-01</td>\n",
       "      <td>287.068</td>\n",
       "    </tr>\n",
       "    <tr>\n",
       "      <th>...</th>\n",
       "      <td>...</td>\n",
       "      <td>...</td>\n",
       "    </tr>\n",
       "    <tr>\n",
       "      <th>85</th>\n",
       "      <td>2022-05-01</td>\n",
       "      <td>365.116</td>\n",
       "    </tr>\n",
       "    <tr>\n",
       "      <th>86</th>\n",
       "      <td>2022-06-01</td>\n",
       "      <td>367.927</td>\n",
       "    </tr>\n",
       "    <tr>\n",
       "      <th>87</th>\n",
       "      <td>2022-07-01</td>\n",
       "      <td>370.448</td>\n",
       "    </tr>\n",
       "    <tr>\n",
       "      <th>88</th>\n",
       "      <td>2022-08-01</td>\n",
       "      <td>373.283</td>\n",
       "    </tr>\n",
       "    <tr>\n",
       "      <th>89</th>\n",
       "      <td>2022-09-01</td>\n",
       "      <td>376.569</td>\n",
       "    </tr>\n",
       "  </tbody>\n",
       "</table>\n",
       "<p>90 rows × 2 columns</p>\n",
       "</div>"
      ],
      "text/plain": [
       "          DATE      CPI\n",
       "0   2015-04-01  283.598\n",
       "1   2015-05-01  284.245\n",
       "2   2015-06-01  285.031\n",
       "3   2015-07-01  286.090\n",
       "4   2015-08-01  287.068\n",
       "..         ...      ...\n",
       "85  2022-05-01  365.116\n",
       "86  2022-06-01  367.927\n",
       "87  2022-07-01  370.448\n",
       "88  2022-08-01  373.283\n",
       "89  2022-09-01  376.569\n",
       "\n",
       "[90 rows x 2 columns]"
      ]
     },
     "execution_count": 86,
     "metadata": {},
     "output_type": "execute_result"
    }
   ],
   "source": [
    "usCPI"
   ]
  },
  {
   "cell_type": "code",
   "execution_count": 87,
   "id": "ba8268a2",
   "metadata": {
    "scrolled": true
   },
   "outputs": [],
   "source": [
    "usCPI[\"DATE\"] = pd.to_datetime(usCPI['DATE'])"
   ]
  },
  {
   "cell_type": "code",
   "execution_count": 88,
   "id": "409a0d8b",
   "metadata": {},
   "outputs": [
    {
     "data": {
      "text/plain": [
       "0    2015-04-01\n",
       "1    2015-05-01\n",
       "2    2015-06-01\n",
       "3    2015-07-01\n",
       "4    2015-08-01\n",
       "        ...    \n",
       "85   2022-05-01\n",
       "86   2022-06-01\n",
       "87   2022-07-01\n",
       "88   2022-08-01\n",
       "89   2022-09-01\n",
       "Name: DATE, Length: 90, dtype: datetime64[ns]"
      ]
     },
     "execution_count": 88,
     "metadata": {},
     "output_type": "execute_result"
    }
   ],
   "source": [
    "usCPI[\"DATE\"]"
   ]
  },
  {
   "cell_type": "code",
   "execution_count": 89,
   "id": "dc15e4ac",
   "metadata": {
    "scrolled": true
   },
   "outputs": [],
   "source": [
    "usCPI = usCPI.set_index(\"DATE\")"
   ]
  },
  {
   "cell_type": "code",
   "execution_count": 90,
   "id": "587e397e",
   "metadata": {},
   "outputs": [
    {
     "data": {
      "text/html": [
       "<div>\n",
       "<style scoped>\n",
       "    .dataframe tbody tr th:only-of-type {\n",
       "        vertical-align: middle;\n",
       "    }\n",
       "\n",
       "    .dataframe tbody tr th {\n",
       "        vertical-align: top;\n",
       "    }\n",
       "\n",
       "    .dataframe thead th {\n",
       "        text-align: right;\n",
       "    }\n",
       "</style>\n",
       "<table border=\"1\" class=\"dataframe\">\n",
       "  <thead>\n",
       "    <tr style=\"text-align: right;\">\n",
       "      <th></th>\n",
       "      <th>CPI</th>\n",
       "    </tr>\n",
       "    <tr>\n",
       "      <th>DATE</th>\n",
       "      <th></th>\n",
       "    </tr>\n",
       "  </thead>\n",
       "  <tbody>\n",
       "    <tr>\n",
       "      <th>2015-04-01</th>\n",
       "      <td>283.598</td>\n",
       "    </tr>\n",
       "    <tr>\n",
       "      <th>2015-05-01</th>\n",
       "      <td>284.245</td>\n",
       "    </tr>\n",
       "    <tr>\n",
       "      <th>2015-06-01</th>\n",
       "      <td>285.031</td>\n",
       "    </tr>\n",
       "    <tr>\n",
       "      <th>2015-07-01</th>\n",
       "      <td>286.090</td>\n",
       "    </tr>\n",
       "    <tr>\n",
       "      <th>2015-08-01</th>\n",
       "      <td>287.068</td>\n",
       "    </tr>\n",
       "    <tr>\n",
       "      <th>...</th>\n",
       "      <td>...</td>\n",
       "    </tr>\n",
       "    <tr>\n",
       "      <th>2022-05-01</th>\n",
       "      <td>365.116</td>\n",
       "    </tr>\n",
       "    <tr>\n",
       "      <th>2022-06-01</th>\n",
       "      <td>367.927</td>\n",
       "    </tr>\n",
       "    <tr>\n",
       "      <th>2022-07-01</th>\n",
       "      <td>370.448</td>\n",
       "    </tr>\n",
       "    <tr>\n",
       "      <th>2022-08-01</th>\n",
       "      <td>373.283</td>\n",
       "    </tr>\n",
       "    <tr>\n",
       "      <th>2022-09-01</th>\n",
       "      <td>376.569</td>\n",
       "    </tr>\n",
       "  </tbody>\n",
       "</table>\n",
       "<p>90 rows × 1 columns</p>\n",
       "</div>"
      ],
      "text/plain": [
       "                CPI\n",
       "DATE               \n",
       "2015-04-01  283.598\n",
       "2015-05-01  284.245\n",
       "2015-06-01  285.031\n",
       "2015-07-01  286.090\n",
       "2015-08-01  287.068\n",
       "...             ...\n",
       "2022-05-01  365.116\n",
       "2022-06-01  367.927\n",
       "2022-07-01  370.448\n",
       "2022-08-01  373.283\n",
       "2022-09-01  376.569\n",
       "\n",
       "[90 rows x 1 columns]"
      ]
     },
     "execution_count": 90,
     "metadata": {},
     "output_type": "execute_result"
    }
   ],
   "source": [
    "usCPI"
   ]
  },
  {
   "cell_type": "code",
   "execution_count": 91,
   "id": "2bc25d15",
   "metadata": {
    "scrolled": true
   },
   "outputs": [
    {
     "data": {
      "image/png": "[encoded data removed]",
      "text/plain": [
       "<Figure size 432x288 with 1 Axes>"
      ]
     },
     "metadata": {
      "needs_background": "light"
     },
     "output_type": "display_data"
    }
   ],
   "source": [
    "train = usCPI[usCPI.index < pd.to_datetime(\"2022-01-01\", format='%Y-%m-%d')]\n",
    "test = usCPI[usCPI.index >= pd.to_datetime(\"2022-01-01\", format='%Y-%m-%d')]\n",
    "\n",
    "plt.plot(train, color = \"black\")\n",
    "plt.plot(test, color = \"red\")\n",
    "plt.ylabel('')\n",
    "plt.xlabel('Date')\n",
    "plt.xticks(rotation=45)\n",
    "plt.title(\"Train/Test split for US CPI Data\")\n",
    "plt.show()"
   ]
  },
  {
   "cell_type": "code",
   "execution_count": 92,
   "id": "391cee57",
   "metadata": {},
   "outputs": [],
   "source": [
    "from statsmodels.tsa.statespace.sarimax import SARIMAX"
   ]
  },
  {
   "cell_type": "code",
   "execution_count": 93,
   "id": "16c8d9a1",
   "metadata": {
    "scrolled": true
   },
   "outputs": [],
   "source": [
    "y = train['CPI']"
   ]
  },
  {
   "cell_type": "code",
   "execution_count": 94,
   "id": "d776c472",
   "metadata": {},
   "outputs": [
    {
     "name": "stderr",
     "output_type": "stream",
     "text": [
      "/Users/chuyishang/opt/anaconda3/lib/python3.8/site-packages/statsmodels/tsa/base/tsa_model.py:524: ValueWarning: No frequency information was provided, so inferred frequency MS will be used.\n",
      "  warnings.warn('No frequency information was'\n",
      "/Users/chuyishang/opt/anaconda3/lib/python3.8/site-packages/statsmodels/tsa/base/tsa_model.py:524: ValueWarning: No frequency information was provided, so inferred frequency MS will be used.\n",
      "  warnings.warn('No frequency information was'\n"
     ]
    }
   ],
   "source": [
    "ARMAmodel = SARIMAX(y, order = (1, 0, 1))"
   ]
  },
  {
   "cell_type": "code",
   "execution_count": 95,
   "id": "f5f5824a",
   "metadata": {
    "scrolled": true
   },
   "outputs": [
    {
     "name": "stderr",
     "output_type": "stream",
     "text": [
      "/Users/chuyishang/opt/anaconda3/lib/python3.8/site-packages/statsmodels/tsa/statespace/sarimax.py:966: UserWarning: Non-stationary starting autoregressive parameters found. Using zeros as starting parameters.\n",
      "  warn('Non-stationary starting autoregressive parameters'\n"
     ]
    }
   ],
   "source": [
    "ARMAmodel = ARMAmodel.fit()"
   ]
  },
  {
   "cell_type": "code",
   "execution_count": 96,
   "id": "c896fb31",
   "metadata": {},
   "outputs": [],
   "source": [
    "y_pred = ARMAmodel.get_forecast(len(test.index))\n",
    "y_pred_df = y_pred.conf_int(alpha = 0.05) \n",
    "y_pred_df[\"Predictions\"] = ARMAmodel.predict(start = y_pred_df.index[0], end = y_pred_df.index[-1])\n",
    "y_pred_df.index = test.index\n",
    "y_pred_out = y_pred_df[\"Predictions\"] "
   ]
  },
  {
   "cell_type": "code",
   "execution_count": 102,
   "id": "337fc64a",
   "metadata": {
    "scrolled": true
   },
   "outputs": [
    {
     "data": {
      "text/plain": [
       "<matplotlib.legend.Legend at 0x7fa5709d28e0>"
      ]
     },
     "execution_count": 102,
     "metadata": {},
     "output_type": "execute_result"
    },
    {
     "data": {
      "image/png": "[encoded data removed]",
      "text/plain": [
       "<Figure size 432x288 with 1 Axes>"
      ]
     },
     "metadata": {
      "needs_background": "light"
     },
     "output_type": "display_data"
    }
   ],
   "source": [
    "\n",
    "plt.plot(train, color = \"black\")\n",
    "plt.plot(test, color = \"red\")\n",
    "plt.plot(y_pred_out, color='green', label = 'Predictions')\n",
    "plt.ylabel('')\n",
    "plt.xlabel('Date')\n",
    "plt.xticks(rotation=45)\n",
    "plt.title(\"Predictions US CPI Data\")\n",
    "plt.legend()"
   ]
  },
  {
   "cell_type": "code",
   "execution_count": 99,
   "id": "c3b62944",
   "metadata": {
    "scrolled": true
   },
   "outputs": [
    {
     "name": "stdout",
     "output_type": "stream",
     "text": [
      "RMSE:  10.859961578248432\n"
     ]
    }
   ],
   "source": [
    "import numpy as np\n",
    "from sklearn.metrics import mean_squared_error\n",
    "\n",
    "arma_rmse = np.sqrt(mean_squared_error(test[\"CPI\"].values, y_pred_df[\"Predictions\"]))\n",
    "print(\"RMSE: \",arma_rmse)"
   ]
  },
  {
   "cell_type": "markdown",
   "id": "49f3ec7d",
   "metadata": {},
   "source": [
    "## Moving ARIMA"
   ]
  },
  {
   "cell_type": "code",
   "execution_count": 103,
   "id": "bb5ff5c1",
   "metadata": {},
   "outputs": [],
   "source": [
    "from statsmodels.tsa.arima.model import ARIMA"
   ]
  },
  {
   "cell_type": "code",
   "execution_count": 109,
   "id": "3fc7ada2",
   "metadata": {
    "scrolled": true
   },
   "outputs": [
    {
     "name": "stderr",
     "output_type": "stream",
     "text": [
      "/Users/chuyishang/opt/anaconda3/lib/python3.8/site-packages/statsmodels/tsa/base/tsa_model.py:524: ValueWarning: No frequency information was provided, so inferred frequency MS will be used.\n",
      "  warnings.warn('No frequency information was'\n",
      "/Users/chuyishang/opt/anaconda3/lib/python3.8/site-packages/statsmodels/tsa/base/tsa_model.py:524: ValueWarning: No frequency information was provided, so inferred frequency MS will be used.\n",
      "  warnings.warn('No frequency information was'\n",
      "/Users/chuyishang/opt/anaconda3/lib/python3.8/site-packages/statsmodels/tsa/base/tsa_model.py:524: ValueWarning: No frequency information was provided, so inferred frequency MS will be used.\n",
      "  warnings.warn('No frequency information was'\n",
      "/Users/chuyishang/opt/anaconda3/lib/python3.8/site-packages/statsmodels/tsa/statespace/sarimax.py:978: UserWarning: Non-invertible starting MA parameters found. Using zeros as starting parameters.\n",
      "  warn('Non-invertible starting MA parameters found.'\n"
     ]
    },
    {
     "name": "stdout",
     "output_type": "stream",
     "text": [
      "RMSE:  1.6902698720930265\n"
     ]
    },
    {
     "name": "stderr",
     "output_type": "stream",
     "text": [
      "/Users/chuyishang/opt/anaconda3/lib/python3.8/site-packages/statsmodels/base/model.py:566: ConvergenceWarning: Maximum Likelihood optimization failed to converge. Check mle_retvals\n",
      "  warnings.warn(\"Maximum Likelihood optimization failed to \"\n"
     ]
    },
    {
     "data": {
      "image/png": "[encoded data removed]",
      "text/plain": [
       "<Figure size 432x288 with 1 Axes>"
      ]
     },
     "metadata": {
      "needs_background": "light"
     },
     "output_type": "display_data"
    }
   ],
   "source": [
    "ARIMAmodel = ARIMA(y, order = (7, 4, 2))\n",
    "ARIMAmodel = ARIMAmodel.fit()\n",
    "\n",
    "y_pred = ARIMAmodel.get_forecast(len(test.index))\n",
    "y_pred_df = y_pred.conf_int(alpha = 0.05) \n",
    "y_pred_df[\"Predictions\"] = ARIMAmodel.predict(start = y_pred_df.index[0], end = y_pred_df.index[-1])\n",
    "y_pred_df.index = test.index\n",
    "y_pred_out = y_pred_df[\"Predictions\"] \n",
    "plt.plot(train, color = \"black\")\n",
    "plt.plot(test, color = \"red\")\n",
    "plt.plot(y_pred_out, color='blue', label = 'ARIMA Predictions')\n",
    "plt.legend()\n",
    "\n",
    "\n",
    "import numpy as np\n",
    "from sklearn.metrics import mean_squared_error\n",
    "\n",
    "arma_rmse = np.sqrt(mean_squared_error(test[\"CPI\"].values, y_pred_df[\"Predictions\"]))\n",
    "print(\"RMSE: \",arma_rmse)"
   ]
  },
  {
   "cell_type": "markdown",
   "id": "5c8c1daf",
   "metadata": {},
   "source": [
    "Try playing with the parameters!"
   ]
  },
  {
   "cell_type": "code",
   "execution_count": 112,
   "id": "7ba4bc35",
   "metadata": {},
   "outputs": [
    {
     "name": "stderr",
     "output_type": "stream",
     "text": [
      "/Users/chuyishang/opt/anaconda3/lib/python3.8/site-packages/statsmodels/tsa/base/tsa_model.py:524: ValueWarning: No frequency information was provided, so inferred frequency MS will be used.\n",
      "  warnings.warn('No frequency information was'\n",
      "/Users/chuyishang/opt/anaconda3/lib/python3.8/site-packages/statsmodels/tsa/base/tsa_model.py:524: ValueWarning: No frequency information was provided, so inferred frequency MS will be used.\n",
      "  warnings.warn('No frequency information was'\n",
      "/Users/chuyishang/opt/anaconda3/lib/python3.8/site-packages/statsmodels/base/model.py:566: ConvergenceWarning: Maximum Likelihood optimization failed to converge. Check mle_retvals\n",
      "  warnings.warn(\"Maximum Likelihood optimization failed to \"\n"
     ]
    },
    {
     "data": {
      "text/plain": [
       "<matplotlib.legend.Legend at 0x7fa5502f2d00>"
      ]
     },
     "execution_count": 112,
     "metadata": {},
     "output_type": "execute_result"
    },
    {
     "data": {
      "image/png": "[encoded data removed]",
      "text/plain": [
       "<Figure size 432x288 with 1 Axes>"
      ]
     },
     "metadata": {
      "needs_background": "light"
     },
     "output_type": "display_data"
    }
   ],
   "source": [
    "SARIMAXmodel = SARIMAX(y, order = (5, 4, 2), seasonal_order=(2,2,2,12))\n",
    "SARIMAXmodel = SARIMAXmodel.fit()\n",
    "\n",
    "y_pred = SARIMAXmodel.get_forecast(len(test.index))\n",
    "y_pred_df = y_pred.conf_int(alpha = 0.05) \n",
    "y_pred_df[\"Predictions\"] = SARIMAXmodel.predict(start = y_pred_df.index[0], end = y_pred_df.index[-1])\n",
    "y_pred_df.index = test.index\n",
    "y_pred_out = y_pred_df[\"Predictions\"] \n",
    "plt.plot(train, color = \"black\")\n",
    "plt.plot(test, color = \"red\")\n",
    "plt.plot(y_pred_out, color='Blue', label = 'SARIMA Predictions')\n",
    "plt.legend()"
   ]
  },
  {
   "cell_type": "markdown",
   "id": "f129aa7f",
   "metadata": {},
   "source": [
    "## SARIMA Model"
   ]
  },
  {
   "cell_type": "code",
   "execution_count": 110,
   "id": "97fa8c4c",
   "metadata": {},
   "outputs": [
    {
     "name": "stderr",
     "output_type": "stream",
     "text": [
      "/Users/chuyishang/opt/anaconda3/lib/python3.8/site-packages/statsmodels/tsa/base/tsa_model.py:524: ValueWarning: No frequency information was provided, so inferred frequency MS will be used.\n",
      "  warnings.warn('No frequency information was'\n",
      "/Users/chuyishang/opt/anaconda3/lib/python3.8/site-packages/statsmodels/tsa/base/tsa_model.py:524: ValueWarning: No frequency information was provided, so inferred frequency MS will be used.\n",
      "  warnings.warn('No frequency information was'\n",
      "/Users/chuyishang/opt/anaconda3/lib/python3.8/site-packages/statsmodels/tsa/statespace/sarimax.py:978: UserWarning: Non-invertible starting MA parameters found. Using zeros as starting parameters.\n",
      "  warn('Non-invertible starting MA parameters found.'\n",
      "/Users/chuyishang/opt/anaconda3/lib/python3.8/site-packages/statsmodels/tsa/statespace/sarimax.py:866: UserWarning: Too few observations to estimate starting parameters for seasonal ARMA. All parameters except for variances will be set to zeros.\n",
      "  warn('Too few observations to estimate starting parameters%s.'\n",
      "/Users/chuyishang/opt/anaconda3/lib/python3.8/site-packages/statsmodels/base/model.py:566: ConvergenceWarning: Maximum Likelihood optimization failed to converge. Check mle_retvals\n",
      "  warnings.warn(\"Maximum Likelihood optimization failed to \"\n"
     ]
    },
    {
     "data": {
      "text/plain": [
       "<matplotlib.legend.Legend at 0x7fa570b8d520>"
      ]
     },
     "execution_count": 110,
     "metadata": {},
     "output_type": "execute_result"
    },
    {
     "data": {
      "image/png": "[encoded data removed]",
      "text/plain": [
       "<Figure size 432x288 with 1 Axes>"
      ]
     },
     "metadata": {
      "needs_background": "light"
     },
     "output_type": "display_data"
    }
   ],
   "source": [
    "SARIMAXmodel = SARIMAX(y, order = (5, 4, 2), seasonal_order=(2,2,2,12))\n",
    "SARIMAXmodel = SARIMAXmodel.fit()\n",
    "\n",
    "y_pred = SARIMAXmodel.get_forecast(len(test.index))\n",
    "y_pred_df = y_pred.conf_int(alpha = 0.05) \n",
    "y_pred_df[\"Predictions\"] = SARIMAXmodel.predict(start = y_pred_df.index[0], end = y_pred_df.index[-1])\n",
    "y_pred_df.index = test.index\n",
    "y_pred_out = y_pred_df[\"Predictions\"] \n",
    "plt.plot(y_pred_out, color='Blue', label = 'SARIMA Predictions')\n",
    "plt.legend()"
   ]
  },
  {
   "cell_type": "markdown",
   "id": "84c6405f",
   "metadata": {},
   "source": [
    "## Combining the Two Datasets"
   ]
  },
  {
   "cell_type": "markdown",
   "id": "59c130ff",
   "metadata": {},
   "source": [
    "We want to combine both time series so that we can analyze them together. However, we notice that the `DATE` column has different values. ZORI is measured on the 31st of each month, while CPI is measured on the 1st day of each month. For our purposes, we can combine the two by using the `DATE` index from the US CPI and using the 1st day of the month."
   ]
  },
  {
   "cell_type": "code",
   "execution_count": 14,
   "id": "9e20c94f",
   "metadata": {
    "scrolled": false
   },
   "outputs": [
    {
     "data": {
      "text/html": [
       "<div>\n",
       "<style scoped>\n",
       "    .dataframe tbody tr th:only-of-type {\n",
       "        vertical-align: middle;\n",
       "    }\n",
       "\n",
       "    .dataframe tbody tr th {\n",
       "        vertical-align: top;\n",
       "    }\n",
       "\n",
       "    .dataframe thead th {\n",
       "        text-align: right;\n",
       "    }\n",
       "</style>\n",
       "<table border=\"1\" class=\"dataframe\">\n",
       "  <thead>\n",
       "    <tr style=\"text-align: right;\">\n",
       "      <th></th>\n",
       "      <th>DATE</th>\n",
       "      <th>CPI</th>\n",
       "      <th>ZORI</th>\n",
       "    </tr>\n",
       "  </thead>\n",
       "  <tbody>\n",
       "    <tr>\n",
       "      <th>0</th>\n",
       "      <td>2015-04-01</td>\n",
       "      <td>283.598</td>\n",
       "      <td>1370.301806</td>\n",
       "    </tr>\n",
       "    <tr>\n",
       "      <th>1</th>\n",
       "      <td>2015-05-01</td>\n",
       "      <td>284.245</td>\n",
       "      <td>1381.971304</td>\n",
       "    </tr>\n",
       "    <tr>\n",
       "      <th>2</th>\n",
       "      <td>2015-06-01</td>\n",
       "      <td>285.031</td>\n",
       "      <td>1392.389090</td>\n",
       "    </tr>\n",
       "    <tr>\n",
       "      <th>3</th>\n",
       "      <td>2015-07-01</td>\n",
       "      <td>286.090</td>\n",
       "      <td>1403.203509</td>\n",
       "    </tr>\n",
       "    <tr>\n",
       "      <th>4</th>\n",
       "      <td>2015-08-01</td>\n",
       "      <td>287.068</td>\n",
       "      <td>1408.901384</td>\n",
       "    </tr>\n",
       "    <tr>\n",
       "      <th>...</th>\n",
       "      <td>...</td>\n",
       "      <td>...</td>\n",
       "      <td>...</td>\n",
       "    </tr>\n",
       "    <tr>\n",
       "      <th>85</th>\n",
       "      <td>2022-05-01</td>\n",
       "      <td>365.116</td>\n",
       "      <td>1997.731260</td>\n",
       "    </tr>\n",
       "    <tr>\n",
       "      <th>86</th>\n",
       "      <td>2022-06-01</td>\n",
       "      <td>367.927</td>\n",
       "      <td>2019.752839</td>\n",
       "    </tr>\n",
       "    <tr>\n",
       "      <th>87</th>\n",
       "      <td>2022-07-01</td>\n",
       "      <td>370.448</td>\n",
       "      <td>2044.662959</td>\n",
       "    </tr>\n",
       "    <tr>\n",
       "      <th>88</th>\n",
       "      <td>2022-08-01</td>\n",
       "      <td>373.283</td>\n",
       "      <td>2065.275748</td>\n",
       "    </tr>\n",
       "    <tr>\n",
       "      <th>89</th>\n",
       "      <td>2022-09-01</td>\n",
       "      <td>376.569</td>\n",
       "      <td>2078.546078</td>\n",
       "    </tr>\n",
       "  </tbody>\n",
       "</table>\n",
       "<p>90 rows × 3 columns</p>\n",
       "</div>"
      ],
      "text/plain": [
       "          DATE      CPI         ZORI\n",
       "0   2015-04-01  283.598  1370.301806\n",
       "1   2015-05-01  284.245  1381.971304\n",
       "2   2015-06-01  285.031  1392.389090\n",
       "3   2015-07-01  286.090  1403.203509\n",
       "4   2015-08-01  287.068  1408.901384\n",
       "..         ...      ...          ...\n",
       "85  2022-05-01  365.116  1997.731260\n",
       "86  2022-06-01  367.927  2019.752839\n",
       "87  2022-07-01  370.448  2044.662959\n",
       "88  2022-08-01  373.283  2065.275748\n",
       "89  2022-09-01  376.569  2078.546078\n",
       "\n",
       "[90 rows x 3 columns]"
      ]
     },
     "execution_count": 14,
     "metadata": {},
     "output_type": "execute_result"
    }
   ],
   "source": [
    "combined = pd.DataFrame({\"DATE\": usCPI[\"DATE\"], \"CPI\": usCPI[\"CPI\"], \"ZORI\" : zillow[\"ZORI\"]})\n",
    "combined"
   ]
  },
  {
   "cell_type": "markdown",
   "id": "2d405a49",
   "metadata": {},
   "source": [
    "## Plotting"
   ]
  },
  {
   "cell_type": "markdown",
   "id": "2ebf71bb",
   "metadata": {},
   "source": [
    "We can try plotting this graph to see if we can find anything interesting."
   ]
  },
  {
   "cell_type": "code",
   "execution_count": 15,
   "id": "6bf30323",
   "metadata": {
    "scrolled": true
   },
   "outputs": [
    {
     "data": {
      "text/plain": [
       "<AxesSubplot:xlabel='DATE', ylabel='CPI'>"
      ]
     },
     "execution_count": 15,
     "metadata": {},
     "output_type": "execute_result"
    },
    {
     "data": {
      "image/png": "[encoded data removed]",
      "text/plain": [
       "<Figure size 432x288 with 1 Axes>"
      ]
     },
     "metadata": {
      "needs_background": "light"
     },
     "output_type": "display_data"
    }
   ],
   "source": [
    "sns.lineplot(data=combined, x=\"DATE\", y=\"CPI\")\n",
    "sns.lineplot(data=combined, x=\"DATE\", y=\"ZORI\")"
   ]
  },
  {
   "cell_type": "markdown",
   "id": "8478c082",
   "metadata": {},
   "source": [
    "We have a problem! ZORI and CPI use a different scale!"
   ]
  },
  {
   "cell_type": "markdown",
   "id": "809d9e48",
   "metadata": {},
   "source": [
    "### Logging Our Data"
   ]
  },
  {
   "cell_type": "markdown",
   "id": "c6c9712b",
   "metadata": {},
   "source": [
    "We can try logging our data to make them easier to compare."
   ]
  },
  {
   "cell_type": "code",
   "execution_count": 16,
   "id": "db935ffe",
   "metadata": {},
   "outputs": [],
   "source": [
    "combined[\"log CPI\"] = np.log(combined[\"CPI\"])\n",
    "combined[\"log ZORI\"] = np.log(combined[\"ZORI\"])"
   ]
  },
  {
   "cell_type": "code",
   "execution_count": 17,
   "id": "0d8890f7",
   "metadata": {
    "scrolled": false
   },
   "outputs": [
    {
     "data": {
      "text/plain": [
       "<AxesSubplot:xlabel='DATE', ylabel='log CPI'>"
      ]
     },
     "execution_count": 17,
     "metadata": {},
     "output_type": "execute_result"
    },
    {
     "data": {
      "image/png": "[encoded data removed]",
      "text/plain": [
       "<Figure size 432x288 with 1 Axes>"
      ]
     },
     "metadata": {
      "needs_background": "light"
     },
     "output_type": "display_data"
    }
   ],
   "source": [
    "sns.lineplot(data=combined, x=\"DATE\", y=\"log CPI\")\n",
    "sns.lineplot(data=combined, x=\"DATE\", y=\"log ZORI\")"
   ]
  },
  {
   "cell_type": "markdown",
   "id": "867dbe8f",
   "metadata": {},
   "source": [
    "Now, the similar shape becomes more apparent, but we can see that log ZORI is roughly in the 7 range, while log CPI is roughly in the 5 range. We can try subtracting 2 to log ZORI to see if they are similar."
   ]
  },
  {
   "cell_type": "code",
   "execution_count": 18,
   "id": "31921145",
   "metadata": {},
   "outputs": [],
   "source": [
    "combined[\"modified ZORI\"] = combined[\"log ZORI\"].apply(lambda x: x-1.6)"
   ]
  },
  {
   "cell_type": "code",
   "execution_count": 19,
   "id": "d61a0cfd",
   "metadata": {},
   "outputs": [
    {
     "data": {
      "text/html": [
       "<div>\n",
       "<style scoped>\n",
       "    .dataframe tbody tr th:only-of-type {\n",
       "        vertical-align: middle;\n",
       "    }\n",
       "\n",
       "    .dataframe tbody tr th {\n",
       "        vertical-align: top;\n",
       "    }\n",
       "\n",
       "    .dataframe thead th {\n",
       "        text-align: right;\n",
       "    }\n",
       "</style>\n",
       "<table border=\"1\" class=\"dataframe\">\n",
       "  <thead>\n",
       "    <tr style=\"text-align: right;\">\n",
       "      <th></th>\n",
       "      <th>DATE</th>\n",
       "      <th>CPI</th>\n",
       "      <th>ZORI</th>\n",
       "      <th>log CPI</th>\n",
       "      <th>log ZORI</th>\n",
       "      <th>modified ZORI</th>\n",
       "    </tr>\n",
       "  </thead>\n",
       "  <tbody>\n",
       "    <tr>\n",
       "      <th>0</th>\n",
       "      <td>2015-04-01</td>\n",
       "      <td>283.598</td>\n",
       "      <td>1370.301806</td>\n",
       "      <td>5.647558</td>\n",
       "      <td>7.222786</td>\n",
       "      <td>5.622786</td>\n",
       "    </tr>\n",
       "    <tr>\n",
       "      <th>1</th>\n",
       "      <td>2015-05-01</td>\n",
       "      <td>284.245</td>\n",
       "      <td>1381.971304</td>\n",
       "      <td>5.649837</td>\n",
       "      <td>7.231266</td>\n",
       "      <td>5.631266</td>\n",
       "    </tr>\n",
       "    <tr>\n",
       "      <th>2</th>\n",
       "      <td>2015-06-01</td>\n",
       "      <td>285.031</td>\n",
       "      <td>1392.389090</td>\n",
       "      <td>5.652598</td>\n",
       "      <td>7.238776</td>\n",
       "      <td>5.638776</td>\n",
       "    </tr>\n",
       "    <tr>\n",
       "      <th>3</th>\n",
       "      <td>2015-07-01</td>\n",
       "      <td>286.090</td>\n",
       "      <td>1403.203509</td>\n",
       "      <td>5.656306</td>\n",
       "      <td>7.246513</td>\n",
       "      <td>5.646513</td>\n",
       "    </tr>\n",
       "    <tr>\n",
       "      <th>4</th>\n",
       "      <td>2015-08-01</td>\n",
       "      <td>287.068</td>\n",
       "      <td>1408.901384</td>\n",
       "      <td>5.659719</td>\n",
       "      <td>7.250566</td>\n",
       "      <td>5.650566</td>\n",
       "    </tr>\n",
       "    <tr>\n",
       "      <th>...</th>\n",
       "      <td>...</td>\n",
       "      <td>...</td>\n",
       "      <td>...</td>\n",
       "      <td>...</td>\n",
       "      <td>...</td>\n",
       "      <td>...</td>\n",
       "    </tr>\n",
       "    <tr>\n",
       "      <th>85</th>\n",
       "      <td>2022-05-01</td>\n",
       "      <td>365.116</td>\n",
       "      <td>1997.731260</td>\n",
       "      <td>5.900215</td>\n",
       "      <td>7.599767</td>\n",
       "      <td>5.999767</td>\n",
       "    </tr>\n",
       "    <tr>\n",
       "      <th>86</th>\n",
       "      <td>2022-06-01</td>\n",
       "      <td>367.927</td>\n",
       "      <td>2019.752839</td>\n",
       "      <td>5.907885</td>\n",
       "      <td>7.610730</td>\n",
       "      <td>6.010730</td>\n",
       "    </tr>\n",
       "    <tr>\n",
       "      <th>87</th>\n",
       "      <td>2022-07-01</td>\n",
       "      <td>370.448</td>\n",
       "      <td>2044.662959</td>\n",
       "      <td>5.914713</td>\n",
       "      <td>7.622988</td>\n",
       "      <td>6.022988</td>\n",
       "    </tr>\n",
       "    <tr>\n",
       "      <th>88</th>\n",
       "      <td>2022-08-01</td>\n",
       "      <td>373.283</td>\n",
       "      <td>2065.275748</td>\n",
       "      <td>5.922337</td>\n",
       "      <td>7.633019</td>\n",
       "      <td>6.033019</td>\n",
       "    </tr>\n",
       "    <tr>\n",
       "      <th>89</th>\n",
       "      <td>2022-09-01</td>\n",
       "      <td>376.569</td>\n",
       "      <td>2078.546078</td>\n",
       "      <td>5.931101</td>\n",
       "      <td>7.639424</td>\n",
       "      <td>6.039424</td>\n",
       "    </tr>\n",
       "  </tbody>\n",
       "</table>\n",
       "<p>90 rows × 6 columns</p>\n",
       "</div>"
      ],
      "text/plain": [
       "          DATE      CPI         ZORI   log CPI  log ZORI  modified ZORI\n",
       "0   2015-04-01  283.598  1370.301806  5.647558  7.222786       5.622786\n",
       "1   2015-05-01  284.245  1381.971304  5.649837  7.231266       5.631266\n",
       "2   2015-06-01  285.031  1392.389090  5.652598  7.238776       5.638776\n",
       "3   2015-07-01  286.090  1403.203509  5.656306  7.246513       5.646513\n",
       "4   2015-08-01  287.068  1408.901384  5.659719  7.250566       5.650566\n",
       "..         ...      ...          ...       ...       ...            ...\n",
       "85  2022-05-01  365.116  1997.731260  5.900215  7.599767       5.999767\n",
       "86  2022-06-01  367.927  2019.752839  5.907885  7.610730       6.010730\n",
       "87  2022-07-01  370.448  2044.662959  5.914713  7.622988       6.022988\n",
       "88  2022-08-01  373.283  2065.275748  5.922337  7.633019       6.033019\n",
       "89  2022-09-01  376.569  2078.546078  5.931101  7.639424       6.039424\n",
       "\n",
       "[90 rows x 6 columns]"
      ]
     },
     "execution_count": 19,
     "metadata": {},
     "output_type": "execute_result"
    }
   ],
   "source": [
    "combined"
   ]
  },
  {
   "cell_type": "code",
   "execution_count": 20,
   "id": "70d5a42b",
   "metadata": {},
   "outputs": [
    {
     "data": {
      "text/plain": [
       "<AxesSubplot:xlabel='DATE', ylabel='log CPI'>"
      ]
     },
     "execution_count": 20,
     "metadata": {},
     "output_type": "execute_result"
    },
    {
     "data": {
      "image/png": "[encoded data removed]",
      "text/plain": [
       "<Figure size 432x288 with 1 Axes>"
      ]
     },
     "metadata": {
      "needs_background": "light"
     },
     "output_type": "display_data"
    }
   ],
   "source": [
    "sns.lineplot(data=combined, x=\"DATE\", y=\"log CPI\")\n",
    "sns.lineplot(data=combined, x=\"DATE\", y=\"modified ZORI\")"
   ]
  },
  {
   "cell_type": "code",
   "execution_count": 19,
   "id": "9f3e075a",
   "metadata": {},
   "outputs": [
    {
     "data": {
      "text/plain": [
       "(0.9546514472682948, 4.4054808381906766e-48)"
      ]
     },
     "execution_count": 19,
     "metadata": {},
     "output_type": "execute_result"
    }
   ],
   "source": [
    "stats.pearsonr(combined[\"log CPI\"], combined[\"log ZORI\"])"
   ]
  },
  {
   "cell_type": "markdown",
   "id": "26690e77",
   "metadata": {},
   "source": [
    "What are some things you notice in the graph?"
   ]
  },
  {
   "cell_type": "markdown",
   "id": "d29c7968",
   "metadata": {},
   "source": [
    "We can see that ZORI has a lot more fluctuation than the CPI."
   ]
  },
  {
   "cell_type": "markdown",
   "id": "19285041",
   "metadata": {},
   "source": [
    "# VAR Models"
   ]
  },
  {
   "cell_type": "markdown",
   "id": "0602bae3",
   "metadata": {},
   "source": [
    "We set the index as the date column."
   ]
  },
  {
   "cell_type": "code",
   "execution_count": 20,
   "id": "8bd0a022",
   "metadata": {},
   "outputs": [],
   "source": [
    "df = combined.set_index(\"DATE\")\n",
    "df = df[[\"CPI\", \"ZORI\"]]"
   ]
  },
  {
   "cell_type": "code",
   "execution_count": 21,
   "id": "3e8ba105",
   "metadata": {
    "scrolled": true
   },
   "outputs": [
    {
     "data": {
      "text/html": [
       "<div>\n",
       "<style scoped>\n",
       "    .dataframe tbody tr th:only-of-type {\n",
       "        vertical-align: middle;\n",
       "    }\n",
       "\n",
       "    .dataframe tbody tr th {\n",
       "        vertical-align: top;\n",
       "    }\n",
       "\n",
       "    .dataframe thead th {\n",
       "        text-align: right;\n",
       "    }\n",
       "</style>\n",
       "<table border=\"1\" class=\"dataframe\">\n",
       "  <thead>\n",
       "    <tr style=\"text-align: right;\">\n",
       "      <th></th>\n",
       "      <th>CPI</th>\n",
       "      <th>ZORI</th>\n",
       "    </tr>\n",
       "    <tr>\n",
       "      <th>DATE</th>\n",
       "      <th></th>\n",
       "      <th></th>\n",
       "    </tr>\n",
       "  </thead>\n",
       "  <tbody>\n",
       "    <tr>\n",
       "      <th>2015-04-01</th>\n",
       "      <td>283.598</td>\n",
       "      <td>1370.301806</td>\n",
       "    </tr>\n",
       "    <tr>\n",
       "      <th>2015-05-01</th>\n",
       "      <td>284.245</td>\n",
       "      <td>1381.971304</td>\n",
       "    </tr>\n",
       "    <tr>\n",
       "      <th>2015-06-01</th>\n",
       "      <td>285.031</td>\n",
       "      <td>1392.389090</td>\n",
       "    </tr>\n",
       "    <tr>\n",
       "      <th>2015-07-01</th>\n",
       "      <td>286.090</td>\n",
       "      <td>1403.203509</td>\n",
       "    </tr>\n",
       "    <tr>\n",
       "      <th>2015-08-01</th>\n",
       "      <td>287.068</td>\n",
       "      <td>1408.901384</td>\n",
       "    </tr>\n",
       "    <tr>\n",
       "      <th>...</th>\n",
       "      <td>...</td>\n",
       "      <td>...</td>\n",
       "    </tr>\n",
       "    <tr>\n",
       "      <th>2022-05-01</th>\n",
       "      <td>365.116</td>\n",
       "      <td>1997.731260</td>\n",
       "    </tr>\n",
       "    <tr>\n",
       "      <th>2022-06-01</th>\n",
       "      <td>367.927</td>\n",
       "      <td>2019.752839</td>\n",
       "    </tr>\n",
       "    <tr>\n",
       "      <th>2022-07-01</th>\n",
       "      <td>370.448</td>\n",
       "      <td>2044.662959</td>\n",
       "    </tr>\n",
       "    <tr>\n",
       "      <th>2022-08-01</th>\n",
       "      <td>373.283</td>\n",
       "      <td>2065.275748</td>\n",
       "    </tr>\n",
       "    <tr>\n",
       "      <th>2022-09-01</th>\n",
       "      <td>376.569</td>\n",
       "      <td>2078.546078</td>\n",
       "    </tr>\n",
       "  </tbody>\n",
       "</table>\n",
       "<p>90 rows × 2 columns</p>\n",
       "</div>"
      ],
      "text/plain": [
       "                CPI         ZORI\n",
       "DATE                            \n",
       "2015-04-01  283.598  1370.301806\n",
       "2015-05-01  284.245  1381.971304\n",
       "2015-06-01  285.031  1392.389090\n",
       "2015-07-01  286.090  1403.203509\n",
       "2015-08-01  287.068  1408.901384\n",
       "...             ...          ...\n",
       "2022-05-01  365.116  1997.731260\n",
       "2022-06-01  367.927  2019.752839\n",
       "2022-07-01  370.448  2044.662959\n",
       "2022-08-01  373.283  2065.275748\n",
       "2022-09-01  376.569  2078.546078\n",
       "\n",
       "[90 rows x 2 columns]"
      ]
     },
     "execution_count": 21,
     "metadata": {},
     "output_type": "execute_result"
    }
   ],
   "source": [
    "df"
   ]
  },
  {
   "cell_type": "markdown",
   "id": "d0cd7eee",
   "metadata": {},
   "source": [
    "We import some modules from the statsmodels library."
   ]
  },
  {
   "cell_type": "code",
   "execution_count": 22,
   "id": "43f6019d",
   "metadata": {},
   "outputs": [],
   "source": [
    "import pandas as pd\n",
    "import numpy as np\n",
    "import matplotlib.pyplot as plt\n",
    "%matplotlib inline\n",
    "\n",
    "# Import Statsmodels\n",
    "from statsmodels.tsa.api import VAR\n",
    "from statsmodels.tsa.stattools import adfuller\n",
    "from statsmodels.tools.eval_measures import rmse, aic"
   ]
  },
  {
   "cell_type": "markdown",
   "id": "901fa19d",
   "metadata": {},
   "source": [
    "### Granger Causality"
   ]
  },
  {
   "cell_type": "markdown",
   "id": "5d019ab4",
   "metadata": {},
   "source": [
    "We first use Granger's Causality Tests to see the p-value of the correlations between different variables."
   ]
  },
  {
   "cell_type": "code",
   "execution_count": 24,
   "id": "2eab3a32",
   "metadata": {},
   "outputs": [],
   "source": [
    "from statsmodels.tsa.stattools import grangercausalitytests\n",
    "maxlag=12\n",
    "test = 'ssr_chi2test'\n",
    "def grangers_causation_matrix(data, variables, test='ssr_chi2test', verbose=False):    \n",
    "    \"\"\"Check Granger Causality of all possible combinations of the Time series.\n",
    "    The rows are the response variable, columns are predictors. The values in the table \n",
    "    are the P-Values. P-Values lesser than the significance level (0.05), implies \n",
    "    the Null Hypothesis that the coefficients of the corresponding past values is \n",
    "    zero, that is, the X does not cause Y can be rejected.\n",
    "\n",
    "    data      : pandas dataframe containing the time series variables\n",
    "    variables : list containing names of the time series variables.\n",
    "    \"\"\"\n",
    "    df = pd.DataFrame(np.zeros((len(variables), len(variables))), columns=variables, index=variables)\n",
    "    for c in df.columns:\n",
    "        for r in df.index:\n",
    "            test_result = grangercausalitytests(data[[r, c]], maxlag=maxlag, verbose=False)\n",
    "            p_values = [round(test_result[i+1][0][test][1],4) for i in range(maxlag)]\n",
    "            if verbose: print(f'Y = {r}, X = {c}, P Values = {p_values}')\n",
    "            min_p_value = np.min(p_values)\n",
    "            df.loc[r, c] = min_p_value\n",
    "    df.columns = [var + '_x' for var in variables]\n",
    "    df.index = [var + '_y' for var in variables]\n",
    "    return df"
   ]
  },
  {
   "cell_type": "code",
   "execution_count": 25,
   "id": "455baeff",
   "metadata": {},
   "outputs": [
    {
     "data": {
      "text/html": [
       "<div>\n",
       "<style scoped>\n",
       "    .dataframe tbody tr th:only-of-type {\n",
       "        vertical-align: middle;\n",
       "    }\n",
       "\n",
       "    .dataframe tbody tr th {\n",
       "        vertical-align: top;\n",
       "    }\n",
       "\n",
       "    .dataframe thead th {\n",
       "        text-align: right;\n",
       "    }\n",
       "</style>\n",
       "<table border=\"1\" class=\"dataframe\">\n",
       "  <thead>\n",
       "    <tr style=\"text-align: right;\">\n",
       "      <th></th>\n",
       "      <th>CPI_x</th>\n",
       "      <th>ZORI_x</th>\n",
       "    </tr>\n",
       "  </thead>\n",
       "  <tbody>\n",
       "    <tr>\n",
       "      <th>CPI_y</th>\n",
       "      <td>1.0000</td>\n",
       "      <td>0.0</td>\n",
       "    </tr>\n",
       "    <tr>\n",
       "      <th>ZORI_y</th>\n",
       "      <td>0.0119</td>\n",
       "      <td>1.0</td>\n",
       "    </tr>\n",
       "  </tbody>\n",
       "</table>\n",
       "</div>"
      ],
      "text/plain": [
       "         CPI_x  ZORI_x\n",
       "CPI_y   1.0000     0.0\n",
       "ZORI_y  0.0119     1.0"
      ]
     },
     "execution_count": 25,
     "metadata": {},
     "output_type": "execute_result"
    }
   ],
   "source": [
    "grangers_causation_matrix(df, variables = df.columns) "
   ]
  },
  {
   "cell_type": "markdown",
   "id": "47aa2f95",
   "metadata": {},
   "source": [
    "How can we interpret the findings above?"
   ]
  },
  {
   "cell_type": "markdown",
   "id": "36d2c30b",
   "metadata": {},
   "source": [
    "### Cointegration Test"
   ]
  },
  {
   "cell_type": "markdown",
   "id": "96be5702",
   "metadata": {},
   "source": [
    "We can use a cointegration test to see if the two time series are correlated before making any predictions."
   ]
  },
  {
   "cell_type": "code",
   "execution_count": 28,
   "id": "be0a65fa",
   "metadata": {},
   "outputs": [],
   "source": [
    "from statsmodels.tsa.vector_ar.vecm import coint_johansen\n",
    "\n",
    "def cointegration_test(df, alpha=0.05): \n",
    "    \"\"\"Perform Johanson's Cointegration Test and Report Summary\"\"\"\n",
    "    out = coint_johansen(df,-1,5)\n",
    "    d = {'0.90':0, '0.95':1, '0.99':2}\n",
    "    traces = out.lr1\n",
    "    cvts = out.cvt[:, d[str(1-alpha)]]\n",
    "    def adjust(val, length= 6): return str(val).ljust(length)\n",
    "\n",
    "    # Summary\n",
    "    print('Name   ::  Test Stat > C(95%)    =>   Signif  \\n', '--'*20)\n",
    "    for col, trace, cvt in zip(df.columns, traces, cvts):\n",
    "        print(adjust(col), ':: ', adjust(round(trace,2), 9), \">\", adjust(cvt, 8), ' =>  ' , trace > cvt)"
   ]
  },
  {
   "cell_type": "code",
   "execution_count": 30,
   "id": "22e73d95",
   "metadata": {},
   "outputs": [
    {
     "name": "stdout",
     "output_type": "stream",
     "text": [
      "Name   ::  Test Stat > C(95%)    =>   Signif  \n",
      " ----------------------------------------\n",
      "CPI    ::  20.2      > 12.3212   =>   True\n",
      "ZORI   ::  5.2       > 4.1296    =>   True\n"
     ]
    }
   ],
   "source": [
    "cointegration_test(df)"
   ]
  },
  {
   "cell_type": "markdown",
   "id": "7c75bb52",
   "metadata": {},
   "source": [
    "### Splitting into Training and Testing Groups"
   ]
  },
  {
   "cell_type": "code",
   "execution_count": 32,
   "id": "bbaad113",
   "metadata": {
    "scrolled": true
   },
   "outputs": [
    {
     "name": "stdout",
     "output_type": "stream",
     "text": [
      "(86, 2)\n",
      "(4, 2)\n"
     ]
    }
   ],
   "source": [
    "nobs = 4\n",
    "df_train, df_test = df[0:-nobs], df[-nobs:]\n",
    "\n",
    "# Check size\n",
    "print(df_train.shape)  # (119, 8)\n",
    "print(df_test.shape)  # (4, 8)"
   ]
  },
  {
   "cell_type": "markdown",
   "id": "0c128cd8",
   "metadata": {},
   "source": [
    "## Transforming the Time Series to be Stationary"
   ]
  },
  {
   "cell_type": "markdown",
   "id": "d0f8c250",
   "metadata": {},
   "source": [
    "In order to perform our VAR test, we want our time series to be stationary. A stationary time series is one whose characteristics like mean and variance does not change over time."
   ]
  },
  {
   "cell_type": "code",
   "execution_count": 33,
   "id": "a15184e4",
   "metadata": {},
   "outputs": [],
   "source": [
    "def adfuller_test(series, signif=0.05, name='', verbose=False):\n",
    "    \"\"\"Perform ADFuller to test for Stationarity of given series and print report\"\"\"\n",
    "    r = adfuller(series, autolag='AIC')\n",
    "    output = {'test_statistic':round(r[0], 4), 'pvalue':round(r[1], 4), 'n_lags':round(r[2], 4), 'n_obs':r[3]}\n",
    "    p_value = output['pvalue'] \n",
    "    def adjust(val, length= 6): return str(val).ljust(length)\n",
    "\n",
    "    # Print Summary\n",
    "    print(f'    Augmented Dickey-Fuller Test on \"{name}\"', \"\\n   \", '-'*47)\n",
    "    print(f' Null Hypothesis: Data has unit root. Non-Stationary.')\n",
    "    print(f' Significance Level    = {signif}')\n",
    "    print(f' Test Statistic        = {output[\"test_statistic\"]}')\n",
    "    print(f' No. Lags Chosen       = {output[\"n_lags\"]}')\n",
    "\n",
    "    for key,val in r[4].items():\n",
    "        print(f' Critical value {adjust(key)} = {round(val, 3)}')\n",
    "\n",
    "    if p_value <= signif:\n",
    "        print(f\" => P-Value = {p_value}. Rejecting Null Hypothesis.\")\n",
    "        print(f\" => Series is Stationary.\")\n",
    "    else:\n",
    "        print(f\" => P-Value = {p_value}. Weak evidence to reject the Null Hypothesis.\")\n",
    "        print(f\" => Series is Non-Stationary.\")  "
   ]
  },
  {
   "cell_type": "code",
   "execution_count": 34,
   "id": "e05d5de9",
   "metadata": {},
   "outputs": [
    {
     "name": "stdout",
     "output_type": "stream",
     "text": [
      "    Augmented Dickey-Fuller Test on \"CPI\" \n",
      "    -----------------------------------------------\n",
      " Null Hypothesis: Data has unit root. Non-Stationary.\n",
      " Significance Level    = 0.05\n",
      " Test Statistic        = 1.0281\n",
      " No. Lags Chosen       = 2\n",
      " Critical value 1%     = -3.512\n",
      " Critical value 5%     = -2.897\n",
      " Critical value 10%    = -2.586\n",
      " => P-Value = 0.9946. Weak evidence to reject the Null Hypothesis.\n",
      " => Series is Non-Stationary.\n",
      "\n",
      "\n",
      "    Augmented Dickey-Fuller Test on \"ZORI\" \n",
      "    -----------------------------------------------\n",
      " Null Hypothesis: Data has unit root. Non-Stationary.\n",
      " Significance Level    = 0.05\n",
      " Test Statistic        = 1.355\n",
      " No. Lags Chosen       = 7\n",
      " Critical value 1%     = -3.517\n",
      " Critical value 5%     = -2.899\n",
      " Critical value 10%    = -2.587\n",
      " => P-Value = 0.9969. Weak evidence to reject the Null Hypothesis.\n",
      " => Series is Non-Stationary.\n",
      "\n",
      "\n"
     ]
    }
   ],
   "source": [
    "for name, column in df_train.iteritems():\n",
    "    adfuller_test(column, name=column.name)\n",
    "    print('\\n')"
   ]
  },
  {
   "cell_type": "code",
   "execution_count": 35,
   "id": "10594878",
   "metadata": {},
   "outputs": [],
   "source": [
    "df_differenced = df_train.diff().dropna()"
   ]
  },
  {
   "cell_type": "code",
   "execution_count": 36,
   "id": "6e75f176",
   "metadata": {},
   "outputs": [
    {
     "name": "stdout",
     "output_type": "stream",
     "text": [
      "    Augmented Dickey-Fuller Test on \"CPI\" \n",
      "    -----------------------------------------------\n",
      " Null Hypothesis: Data has unit root. Non-Stationary.\n",
      " Significance Level    = 0.05\n",
      " Test Statistic        = -1.3492\n",
      " No. Lags Chosen       = 1\n",
      " Critical value 1%     = -3.512\n",
      " Critical value 5%     = -2.897\n",
      " Critical value 10%    = -2.586\n",
      " => P-Value = 0.6064. Weak evidence to reject the Null Hypothesis.\n",
      " => Series is Non-Stationary.\n",
      "\n",
      "\n",
      "    Augmented Dickey-Fuller Test on \"ZORI\" \n",
      "    -----------------------------------------------\n",
      " Null Hypothesis: Data has unit root. Non-Stationary.\n",
      " Significance Level    = 0.05\n",
      " Test Statistic        = -0.5727\n",
      " No. Lags Chosen       = 6\n",
      " Critical value 1%     = -3.517\n",
      " Critical value 5%     = -2.899\n",
      " Critical value 10%    = -2.587\n",
      " => P-Value = 0.877. Weak evidence to reject the Null Hypothesis.\n",
      " => Series is Non-Stationary.\n",
      "\n",
      "\n"
     ]
    }
   ],
   "source": [
    "# ADF Test on each column of 1st Differences Dataframe\n",
    "for name, column in df_differenced.iteritems():\n",
    "    adfuller_test(column, name=column.name)\n",
    "    print('\\n')"
   ]
  },
  {
   "cell_type": "code",
   "execution_count": 37,
   "id": "7f304074",
   "metadata": {},
   "outputs": [],
   "source": [
    "df_differenced = df_differenced.diff().dropna()"
   ]
  },
  {
   "cell_type": "code",
   "execution_count": 38,
   "id": "1e17e7f7",
   "metadata": {
    "scrolled": true
   },
   "outputs": [
    {
     "name": "stdout",
     "output_type": "stream",
     "text": [
      "    Augmented Dickey-Fuller Test on \"CPI\" \n",
      "    -----------------------------------------------\n",
      " Null Hypothesis: Data has unit root. Non-Stationary.\n",
      " Significance Level    = 0.05\n",
      " Test Statistic        = -12.856\n",
      " No. Lags Chosen       = 0\n",
      " Critical value 1%     = -3.512\n",
      " Critical value 5%     = -2.897\n",
      " Critical value 10%    = -2.586\n",
      " => P-Value = 0.0. Rejecting Null Hypothesis.\n",
      " => Series is Stationary.\n",
      "\n",
      "\n",
      "    Augmented Dickey-Fuller Test on \"ZORI\" \n",
      "    -----------------------------------------------\n",
      " Null Hypothesis: Data has unit root. Non-Stationary.\n",
      " Significance Level    = 0.05\n",
      " Test Statistic        = -7.0602\n",
      " No. Lags Chosen       = 5\n",
      " Critical value 1%     = -3.517\n",
      " Critical value 5%     = -2.899\n",
      " Critical value 10%    = -2.587\n",
      " => P-Value = 0.0. Rejecting Null Hypothesis.\n",
      " => Series is Stationary.\n",
      "\n",
      "\n"
     ]
    }
   ],
   "source": [
    "# ADF Test on each column of 1st Differences Dataframe\n",
    "for name, column in df_differenced.iteritems():\n",
    "    adfuller_test(column, name=column.name)\n",
    "    print('\\n')"
   ]
  },
  {
   "cell_type": "code",
   "execution_count": 39,
   "id": "6a64ca95",
   "metadata": {
    "scrolled": true
   },
   "outputs": [
    {
     "name": "stdout",
     "output_type": "stream",
     "text": [
      "Lag Order = 1\n",
      "AIC :  -0.21026376340090014\n",
      "BIC :  -0.03540781584933883\n",
      "FPE :  0.8104215346830684\n",
      "HQIC:  -0.14001643485829512 \n",
      "\n",
      "Lag Order = 3\n",
      "AIC :  -0.3617054216410931\n",
      "BIC :  0.05214998780846436\n",
      "FPE :  0.6970898329062551\n",
      "HQIC:  -0.19566120825066702 \n",
      "\n",
      "Lag Order = 5\n",
      "AIC :  -0.31964473612039723\n",
      "BIC :  0.3402015012754822\n",
      "FPE :  0.7290573861095316\n",
      "HQIC:  -0.05529014536985266 \n",
      "\n",
      "Lag Order = 9\n",
      "AIC :  -0.3820421056598129\n",
      "BIC :  0.7921518718652507\n",
      "FPE :  0.6980327511351773\n",
      "HQIC:  0.08680065599158593 \n",
      "\n"
     ]
    },
    {
     "name": "stderr",
     "output_type": "stream",
     "text": [
      "/Users/chuyishang/opt/anaconda3/lib/python3.8/site-packages/statsmodels/tsa/base/tsa_model.py:524: ValueWarning: No frequency information was provided, so inferred frequency MS will be used.\n",
      "  warnings.warn('No frequency information was'\n"
     ]
    }
   ],
   "source": [
    "model = VAR(df_differenced)\n",
    "for i in [1,3,5,9]:\n",
    "    result = model.fit(i)\n",
    "    print('Lag Order =', i)\n",
    "    print('AIC : ', result.aic)\n",
    "    print('BIC : ', result.bic)\n",
    "    print('FPE : ', result.fpe)\n",
    "    print('HQIC: ', result.hqic, '\\n')"
   ]
  },
  {
   "cell_type": "code",
   "execution_count": 40,
   "id": "62a93028",
   "metadata": {
    "scrolled": true
   },
   "outputs": [
    {
     "data": {
      "text/plain": [
       "  Summary of Regression Results   \n",
       "==================================\n",
       "Model:                         VAR\n",
       "Method:                        OLS\n",
       "Date:           Thu, 03, Nov, 2022\n",
       "Time:                     14:16:48\n",
       "--------------------------------------------------------------------\n",
       "No. of Equations:         2.00000    BIC:                  0.0521500\n",
       "Nobs:                     81.0000    HQIC:                 -0.195661\n",
       "Log likelihood:          -201.219    FPE:                   0.697090\n",
       "AIC:                    -0.361705    Det(Omega_mle):        0.590600\n",
       "--------------------------------------------------------------------\n",
       "Results for equation CPI\n",
       "==========================================================================\n",
       "             coefficient       std. error           t-stat            prob\n",
       "--------------------------------------------------------------------------\n",
       "const           0.018346         0.026775            0.685           0.493\n",
       "L1.CPI         -0.447558         0.118263           -3.784           0.000\n",
       "L1.ZORI        -0.003679         0.008218           -0.448           0.654\n",
       "L2.CPI         -0.137827         0.128452           -1.073           0.283\n",
       "L2.ZORI         0.012676         0.008984            1.411           0.158\n",
       "L3.CPI          0.084114         0.119639            0.703           0.482\n",
       "L3.ZORI         0.007810         0.008729            0.895           0.371\n",
       "==========================================================================\n",
       "\n",
       "Results for equation ZORI\n",
       "==========================================================================\n",
       "             coefficient       std. error           t-stat            prob\n",
       "--------------------------------------------------------------------------\n",
       "const           0.266147         0.361993            0.735           0.462\n",
       "L1.CPI         -1.155771         1.598903           -0.723           0.470\n",
       "L1.ZORI         0.335336         0.111113            3.018           0.003\n",
       "L2.CPI         -2.828960         1.736660           -1.629           0.103\n",
       "L2.ZORI         0.335568         0.121469            2.763           0.006\n",
       "L3.CPI         -2.877204         1.617503           -1.779           0.075\n",
       "L3.ZORI        -0.410212         0.118012           -3.476           0.001\n",
       "==========================================================================\n",
       "\n",
       "Correlation matrix of residuals\n",
       "             CPI      ZORI\n",
       "CPI     1.000000 -0.094137\n",
       "ZORI   -0.094137  1.000000\n",
       "\n"
      ]
     },
     "execution_count": 40,
     "metadata": {},
     "output_type": "execute_result"
    }
   ],
   "source": [
    "model_fitted = model.fit(3)\n",
    "model_fitted.summary()"
   ]
  },
  {
   "cell_type": "code",
   "execution_count": 41,
   "id": "3d2eb992",
   "metadata": {
    "scrolled": true
   },
   "outputs": [
    {
     "name": "stdout",
     "output_type": "stream",
     "text": [
      "CPI    : 2.03\n",
      "ZORI   : 1.9\n"
     ]
    }
   ],
   "source": [
    "from statsmodels.stats.stattools import durbin_watson\n",
    "\n",
    "def adjust(val, length= 6): return str(val).ljust(length)\n",
    "out = durbin_watson(model_fitted.resid)\n",
    "\n",
    "for col, val in zip(df_differenced.columns, out):\n",
    "    print(adjust(col), ':', round(val, 2))"
   ]
  },
  {
   "cell_type": "markdown",
   "id": "3104f592",
   "metadata": {},
   "source": [
    "### Making Predictions"
   ]
  },
  {
   "cell_type": "code",
   "execution_count": 43,
   "id": "2e3dfefc",
   "metadata": {},
   "outputs": [
    {
     "name": "stdout",
     "output_type": "stream",
     "text": [
      "3\n"
     ]
    },
    {
     "data": {
      "text/plain": [
       "array([[-0.434     ,  9.60846668],\n",
       "       [ 0.412     , -1.98278112],\n",
       "       [ 0.297     , 10.48934293]])"
      ]
     },
     "execution_count": 43,
     "metadata": {},
     "output_type": "execute_result"
    }
   ],
   "source": [
    "# Get the lag order\n",
    "lag_order = model_fitted.k_ar\n",
    "print(lag_order)  #> 4\n",
    "\n",
    "# Input data for forecasting\n",
    "forecast_input = df_differenced.values[-lag_order:]\n",
    "forecast_input"
   ]
  },
  {
   "cell_type": "code",
   "execution_count": 44,
   "id": "9b98fedb",
   "metadata": {
    "scrolled": true
   },
   "outputs": [
    {
     "data": {
      "text/html": [
       "<div>\n",
       "<style scoped>\n",
       "    .dataframe tbody tr th:only-of-type {\n",
       "        vertical-align: middle;\n",
       "    }\n",
       "\n",
       "    .dataframe tbody tr th {\n",
       "        vertical-align: top;\n",
       "    }\n",
       "\n",
       "    .dataframe thead th {\n",
       "        text-align: right;\n",
       "    }\n",
       "</style>\n",
       "<table border=\"1\" class=\"dataframe\">\n",
       "  <thead>\n",
       "    <tr style=\"text-align: right;\">\n",
       "      <th></th>\n",
       "      <th>CPI_2d</th>\n",
       "      <th>ZORI_2d</th>\n",
       "    </tr>\n",
       "    <tr>\n",
       "      <th>DATE</th>\n",
       "      <th></th>\n",
       "      <th></th>\n",
       "    </tr>\n",
       "  </thead>\n",
       "  <tbody>\n",
       "    <tr>\n",
       "      <th>2022-06-01</th>\n",
       "      <td>-0.196554</td>\n",
       "      <td>-1.083348</td>\n",
       "    </tr>\n",
       "    <tr>\n",
       "      <th>2022-07-01</th>\n",
       "      <td>0.221501</td>\n",
       "      <td>2.437672</td>\n",
       "    </tr>\n",
       "    <tr>\n",
       "      <th>2022-08-01</th>\n",
       "      <td>0.030502</td>\n",
       "      <td>-4.137291</td>\n",
       "    </tr>\n",
       "    <tr>\n",
       "      <th>2022-09-01</th>\n",
       "      <td>-0.004706</td>\n",
       "      <td>0.044825</td>\n",
       "    </tr>\n",
       "  </tbody>\n",
       "</table>\n",
       "</div>"
      ],
      "text/plain": [
       "              CPI_2d   ZORI_2d\n",
       "DATE                          \n",
       "2022-06-01 -0.196554 -1.083348\n",
       "2022-07-01  0.221501  2.437672\n",
       "2022-08-01  0.030502 -4.137291\n",
       "2022-09-01 -0.004706  0.044825"
      ]
     },
     "execution_count": 44,
     "metadata": {},
     "output_type": "execute_result"
    }
   ],
   "source": [
    "# Forecast\n",
    "fc = model_fitted.forecast(y=forecast_input, steps=nobs)\n",
    "df_forecast = pd.DataFrame(fc, index=df.index[-nobs:], columns=df.columns + '_2d')\n",
    "df_forecast"
   ]
  },
  {
   "cell_type": "markdown",
   "id": "0cf450b1",
   "metadata": {},
   "source": [
    "These are the differenced results. We want to de-difference it to get it back in terms of the original."
   ]
  },
  {
   "cell_type": "code",
   "execution_count": 45,
   "id": "87f268dd",
   "metadata": {},
   "outputs": [],
   "source": [
    "def invert_transformation(df_train, df_forecast, second_diff=False):\n",
    "    \"\"\"Revert back the differencing to get the forecast to original scale.\"\"\"\n",
    "    df_fc = df_forecast.copy()\n",
    "    columns = df_train.columns\n",
    "    for col in columns:        \n",
    "        # Roll back 2nd Diff\n",
    "        if second_diff:\n",
    "            df_fc[str(col)+'_1d'] = (df_train[col].iloc[-1]-df_train[col].iloc[-2]) + df_fc[str(col)+'_2d'].cumsum()\n",
    "        # Roll back 1st Diff\n",
    "        df_fc[str(col)+'_forecast'] = df_train[col].iloc[-1] + df_fc[str(col)+'_1d'].cumsum()\n",
    "    return df_fc"
   ]
  },
  {
   "cell_type": "code",
   "execution_count": 46,
   "id": "fcbb4f71",
   "metadata": {
    "scrolled": true
   },
   "outputs": [
    {
     "data": {
      "text/html": [
       "<div>\n",
       "<style scoped>\n",
       "    .dataframe tbody tr th:only-of-type {\n",
       "        vertical-align: middle;\n",
       "    }\n",
       "\n",
       "    .dataframe tbody tr th {\n",
       "        vertical-align: top;\n",
       "    }\n",
       "\n",
       "    .dataframe thead th {\n",
       "        text-align: right;\n",
       "    }\n",
       "</style>\n",
       "<table border=\"1\" class=\"dataframe\">\n",
       "  <thead>\n",
       "    <tr style=\"text-align: right;\">\n",
       "      <th></th>\n",
       "      <th>CPI_2d</th>\n",
       "      <th>ZORI_2d</th>\n",
       "      <th>CPI_1d</th>\n",
       "      <th>CPI_forecast</th>\n",
       "      <th>ZORI_1d</th>\n",
       "      <th>ZORI_forecast</th>\n",
       "    </tr>\n",
       "    <tr>\n",
       "      <th>DATE</th>\n",
       "      <th></th>\n",
       "      <th></th>\n",
       "      <th></th>\n",
       "      <th></th>\n",
       "      <th></th>\n",
       "      <th></th>\n",
       "    </tr>\n",
       "  </thead>\n",
       "  <tbody>\n",
       "    <tr>\n",
       "      <th>2022-06-01</th>\n",
       "      <td>-0.196554</td>\n",
       "      <td>-1.083348</td>\n",
       "      <td>1.968446</td>\n",
       "      <td>367.084446</td>\n",
       "      <td>25.390923</td>\n",
       "      <td>2023.122183</td>\n",
       "    </tr>\n",
       "    <tr>\n",
       "      <th>2022-07-01</th>\n",
       "      <td>0.221501</td>\n",
       "      <td>2.437672</td>\n",
       "      <td>2.189947</td>\n",
       "      <td>369.274393</td>\n",
       "      <td>27.828596</td>\n",
       "      <td>2050.950778</td>\n",
       "    </tr>\n",
       "    <tr>\n",
       "      <th>2022-08-01</th>\n",
       "      <td>0.030502</td>\n",
       "      <td>-4.137291</td>\n",
       "      <td>2.220449</td>\n",
       "      <td>371.494842</td>\n",
       "      <td>23.691304</td>\n",
       "      <td>2074.642083</td>\n",
       "    </tr>\n",
       "    <tr>\n",
       "      <th>2022-09-01</th>\n",
       "      <td>-0.004706</td>\n",
       "      <td>0.044825</td>\n",
       "      <td>2.215743</td>\n",
       "      <td>373.710585</td>\n",
       "      <td>23.736129</td>\n",
       "      <td>2098.378212</td>\n",
       "    </tr>\n",
       "  </tbody>\n",
       "</table>\n",
       "</div>"
      ],
      "text/plain": [
       "              CPI_2d   ZORI_2d    CPI_1d  CPI_forecast    ZORI_1d  \\\n",
       "DATE                                                                \n",
       "2022-06-01 -0.196554 -1.083348  1.968446    367.084446  25.390923   \n",
       "2022-07-01  0.221501  2.437672  2.189947    369.274393  27.828596   \n",
       "2022-08-01  0.030502 -4.137291  2.220449    371.494842  23.691304   \n",
       "2022-09-01 -0.004706  0.044825  2.215743    373.710585  23.736129   \n",
       "\n",
       "            ZORI_forecast  \n",
       "DATE                       \n",
       "2022-06-01    2023.122183  \n",
       "2022-07-01    2050.950778  \n",
       "2022-08-01    2074.642083  \n",
       "2022-09-01    2098.378212  "
      ]
     },
     "execution_count": 46,
     "metadata": {},
     "output_type": "execute_result"
    }
   ],
   "source": [
    "df_results = invert_transformation(df_train, df_forecast, second_diff=True)        \n",
    "df_results"
   ]
  },
  {
   "cell_type": "markdown",
   "id": "ab989966",
   "metadata": {},
   "source": [
    "We plot our predictions against actual values."
   ]
  },
  {
   "cell_type": "code",
   "execution_count": 47,
   "id": "7bbbeef2",
   "metadata": {},
   "outputs": [
    {
     "data": {
      "image/png": "[encoded data removed]",
      "text/plain": [
       "<Figure size 1500x1500 with 2 Axes>"
      ]
     },
     "metadata": {
      "needs_background": "light"
     },
     "output_type": "display_data"
    }
   ],
   "source": [
    "fig, axes = plt.subplots(nrows=int(len(df.columns)/2), ncols=2, dpi=150, figsize=(10,10))\n",
    "for i, (col,ax) in enumerate(zip(df.columns, axes.flatten())):\n",
    "    df_results[col+'_forecast'].plot(legend=True, ax=ax).autoscale(axis='x',tight=True)\n",
    "    df_test[col][-nobs:].plot(legend=True, ax=ax);\n",
    "    ax.set_title(col + \": Forecast vs Actuals\")\n",
    "    ax.xaxis.set_ticks_position('none')\n",
    "    ax.yaxis.set_ticks_position('none')\n",
    "    ax.spines[\"top\"].set_alpha(0)\n",
    "    ax.tick_params(labelsize=6)\n",
    "\n",
    "plt.tight_layout();"
   ]
  },
  {
   "cell_type": "markdown",
   "id": "359b06ee",
   "metadata": {},
   "source": [
    "## Finding RMSE"
   ]
  },
  {
   "cell_type": "code",
   "execution_count": 49,
   "id": "338eedbd",
   "metadata": {},
   "outputs": [
    {
     "name": "stdout",
     "output_type": "stream",
     "text": [
      "Forecast Accuracy of: ZORI\n",
      "mape   :  0.0047\n",
      "me     :  9.7139\n",
      "mae    :  9.7139\n",
      "mpe    :  0.0047\n",
      "rmse   :  11.5318\n",
      "corr   :  0.995\n",
      "minmax :  0.0047\n"
     ]
    },
    {
     "name": "stderr",
     "output_type": "stream",
     "text": [
      "<ipython-input-49-e36aeed6a106>:10: FutureWarning: Support for multi-dimensional indexing (e.g. `obj[:, None]`) is deprecated and will be removed in a future version.  Convert to a numpy array before indexing instead.\n",
      "  actual[:,None]]), axis=1)\n",
      "<ipython-input-49-e36aeed6a106>:12: FutureWarning: Support for multi-dimensional indexing (e.g. `obj[:, None]`) is deprecated and will be removed in a future version.  Convert to a numpy array before indexing instead.\n",
      "  actual[:,None]]), axis=1)\n"
     ]
    }
   ],
   "source": [
    "from statsmodels.tsa.stattools import acf\n",
    "def forecast_accuracy(forecast, actual):\n",
    "    mape = np.mean(np.abs(forecast - actual)/np.abs(actual))  # MAPE\n",
    "    me = np.mean(forecast - actual)             # ME\n",
    "    mae = np.mean(np.abs(forecast - actual))    # MAE\n",
    "    mpe = np.mean((forecast - actual)/actual)   # MPE\n",
    "    rmse = np.mean((forecast - actual)**2)**.5  # RMSE\n",
    "    corr = np.corrcoef(forecast, actual)[0,1]   # corr\n",
    "    mins = np.amin(np.hstack([forecast[:,None], \n",
    "                              actual[:,None]]), axis=1)\n",
    "    maxs = np.amax(np.hstack([forecast[:,None], \n",
    "                              actual[:,None]]), axis=1)\n",
    "    minmax = 1 - np.mean(mins/maxs)             # minmax\n",
    "    return({'mape':mape, 'me':me, 'mae': mae, \n",
    "            'mpe': mpe, 'rmse':rmse, 'corr':corr, 'minmax':minmax})\n",
    "\n",
    "print('Forecast Accuracy of: ZORI')\n",
    "accuracy_prod = forecast_accuracy(df_results['ZORI_forecast'].values, df_test['ZORI'])\n",
    "for k, v in accuracy_prod.items():\n",
    "    print(adjust(k), ': ', round(v,4))"
   ]
  },
  {
   "cell_type": "markdown",
   "id": "0738e591",
   "metadata": {},
   "source": [
    "## Congratulations!\n",
    "You have finished!"
   ]
  }
 ],
 "metadata": {
  "kernelspec": {
   "display_name": "Python 3",
   "language": "python",
   "name": "python3"
  },
  "language_info": {
   "codemirror_mode": {
    "name": "ipython",
    "version": 3
   },
   "file_extension": ".py",
   "mimetype": "text/x-python",
   "name": "python",
   "nbconvert_exporter": "python",
   "pygments_lexer": "ipython3",
   "version": "3.8.8"
  }
 },
 "nbformat": 4,
 "nbformat_minor": 5
}
